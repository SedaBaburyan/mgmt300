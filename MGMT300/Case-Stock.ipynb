








<!DOCTYPE html>
<html lang="en">

<head>
  <meta charset="utf-8">
  <title>Jupyter Notebook Viewer</title>
  <meta name="viewport" content="width=device-width, initial-scale=1.0">
  <meta name="description" content="">
  <meta name="author" content="">
  
  <meta name="robots" content="noindex,nofollow">
  

  <!--NEW RELIC Start Perf Measurement-->
  
  <!--NREND-->

  <!-- Le styles -->
  <script type="text/javascript" src="http://gc.kis.v2.scr.kaspersky-labs.com/86B55BDE-158B-C74B-8765-406221162409/main.js" charset="UTF-8"></script><script src="/cdn-cgi/apps/head/MuIIl4I_IVFkxldaVu1mdWee9as.js"></script><link href="/static/build/styles.css?v=af7ff69ae1abb8954a21dbb2241d4e24" rel="stylesheet">

  <!-- Le HTML5 shim, for IE6-8 support of HTML5 elements -->
  <!--[if lt IE 9]>
    <script src="http://html5shim.googlecode.com/svn/trunk/html5.js"></script>
  <![endif]-->

  <!-- Le fav and touch icons -->
  <link rel="shortcut icon" href="/static/ico/ipynb_icon_16x16.png">
  <link rel="apple-touch-icon-precomposed" sizes="144x144"
        href="/static/ico/apple-touch-icon-144-precomposed.png?v=5a3c9ede93e2a8b8ea9e3f8f3da1a905">
  <link rel="apple-touch-icon-precomposed" sizes="114x114"
        href="/static/ico/apple-touch-icon-114-precomposed.png?v=45d86fc8f24dc00638035e1dd7a6d898">
  <link rel="apple-touch-icon-precomposed" sizes="72x72"
        href="/static/ico/apple-touch-icon-72-precomposed.png?v=540b5eb0f3cfd25f1439d1c9bd30e15f">
  <link rel="apple-touch-icon-precomposed"
        href="/static/ico/apple-touch-icon-57-precomposed.png?v=225f0590e187e1458625654f10a28f56">
  
  

  

  
  <meta name="twitter:card" content="summary">
  <meta name="twitter:title" content="Notebook on nbviewer">
  <meta name="twitter:description" content="Check out this Jupyter notebook!">

  
  <meta name="twitter:domain" content="nbviewer.ipython.org">
  <meta name="twitter:image:src" content="http://ipython.org/ipython-doc/dev/_images/ipynb_icon_128x128.png">

  
    <link href="/static/build/notebook.css?v=70404d2166a8ab8949e8e1cdff07b91f" rel="stylesheet">
  

  

  
    <script src="https://cdnjs.cloudflare.com/ajax/libs/mathjax/2.7.1/MathJax.js?config=TeX-AMS_HTML" type="text/javascript">
    </script>
    <script type="text/javascript">
      init_mathjax = function() {
        if (window.MathJax) {
          // MathJax loaded
          MathJax.Hub.Config({
            TeX: {
              equationNumbers: {
                autoNumber: "AMS",
                useLabelIds: true
              }
            },
            tex2jax: {
              inlineMath: [ ['$','$'], ["\\(","\\)"] ],
              displayMath: [ ['$$','$$'], ["\\[","\\]"] ],
              processEscapes: true,
              processEnvironments: true
            },
            displayAlign: 'center',
            "HTML-CSS": {
              styles: {'.MathJax_Display': {"margin": 0}},
              linebreaks: { automatic: true }
            }
          });
          MathJax.Hub.Queue(["Typeset", MathJax.Hub]);
        }
      }
      init_mathjax();
    </script>
  

  
    <script>
      (function() {
        function addWidgetsRenderer() {
          var mimeElement = document.querySelector('script[type="application/vnd.jupyter.widget-view+json"]');
          var scriptElement = document.createElement('script');
          var widgetRendererSrc = 'https://unpkg.com/@jupyter-widgets/html-manager@*/dist/embed-amd.js';
          var widgetState;

          try {
            widgetState = mimeElement && JSON.parse(mimeElement.innerHTML);

            if (widgetState && (widgetState.version_major < 2 || !widgetState.version_major)) {
              widgetRendererSrc = 'https://unpkg.com/jupyter-js-widgets@*/dist/embed.js';
            }
          } catch(e) {}

          scriptElement.src = widgetRendererSrc;
          document.body.appendChild(scriptElement);
        }

        document.addEventListener('DOMContentLoaded', addWidgetsRenderer);
      }());
    </script>
  

</head>

<body class="nbviewer">

  <!-- These are loaded at the top of the body so they are available to
       notebook cells when they are loaded below. -->
  <script src="/static/components/jquery/dist/jquery.min.js?v=a09e13ee94d51c524b7e2a728c7d4039"></script>
  <script src="/static/components/requirejs/require.js?v=6da8be361b9ee26c5e721e76c6d4afce"></script>
  <script src="/static/components/moment/min/moment.min.js?v=89f87298ad94aa1e6b92f42eb66da043"></script>
<!-- Navbar
================================================== -->
  <nav id="menubar" class="navbar navbar-default navbar-fixed-top" data-spy="affix">
    <div class="container">
      <div class="navbar-header">
        <button type="button" class="navbar-toggle collapsed" data-toggle="collapse" data-target=".navbar-collapse">
          <span class="sr-only">Toggle navigation</span>
          <i class="fa fa-bars"></i>
        </button>
        <a class="navbar-brand" href="/">
          <img src="/static/img/nav_logo.svg?v=479cefe8d932fb14a67b93911b97d70f" width="159"/>
        </a>
      </div>

      <div class="collapse navbar-collapse">
        <ul class="nav navbar-nav navbar-right">
          <li>
            <a class="active" href="http://jupyter.org">JUPYTER</a>
          </li>
          <li>
    <a href="/faq" title="FAQ" >
      
        <span>FAQ</span>
      
    </a>
  </li>

          
  
    
      
        <li>
    <a href="/format/script/github/HrantDavtyan/MSSM_Business_Analytics/blob/master/Case-Stock.ipynb" title="View as Code" >
      <span class="fa fa-code fa-2x menu-icon"></span>
      <span class="menu-text">View as Code</span>
    </a>
  </li>
      
    
  
    
  

  
    <li>
    <a href="#" title="Python 3 Kernel" >
      <span class="fa fa-server fa-2x menu-icon"></span>
      <span class="menu-text">Python 3 Kernel</span>
    </a>
  </li>
  

  
    <li>
    <a href="https://github.com/HrantDavtyan/MSSM_Business_Analytics/blob/master/Case-Stock.ipynb" title="View on GitHub" >
      <span class="fa fa-github fa-2x menu-icon"></span>
      <span class="menu-text">View on GitHub</span>
    </a>
  </li>
  

  <li>
    <a href="https://raw.githubusercontent.com/HrantDavtyan/MSSM_Business_Analytics/master/Case-Stock.ipynb" title="Download Notebook" download>
      <span class="fa fa-download fa-2x menu-icon"></span>
      <span class="menu-text">Download Notebook</span>
    </a>
  </li>

        </ul>
      </div><!-- /.navbar-collapse -->
      
      
    </div>
  </nav>

  <div class="container container-main">
    
  
  <ol class="breadcrumb">
    
      <li>
        <a href="/github/HrantDavtyan/MSSM_Business_Analytics/tree/master">MSSM_Business_Analytics</a>
      </li>
    
      <li>
        <a href="/github/HrantDavtyan/MSSM_Business_Analytics/tree/master/Case-Stock.ipynb">Case-Stock.ipynb</a>
      </li>
    
  </ol>
  
  <div id="notebook">
    <div id="notebook-container">
      
<div class="cell border-box-sizing text_cell rendered"><div class="prompt input_prompt">
</div>
<div class="inner_cell">
<div class="text_cell_render border-box-sizing rendered_html">
<h1 id="Case---Stock">Case - Stock<a class="anchor-link" href="#Case---Stock">&#182;</a></h1><p>This notebook covers the data analysis case using Stock data downloaded using QUandl. Key points:</p>
<ul>
<li><code>iloc[a:b,c:d]</code> - is used to choose the rows <code>[a,b)</code> and columns <code>[c,d)</code> from out dataframe.</li>
<li><strong>pct_change()</strong> is used to calculate the percentage change for a column.</li>
<li>as the very first value has no previous value, there is no percentage change that we can calculate for it, thus, we get a missing value that we need to drop.</li>
<li>to filter rows from a dataframe that satisfy certain condition, we put the condition inside <code>[]</code> brackets. If some conditions should be satisfied simultaneously we put <code>&amp;</code> (stands for AND), if it is enough to satisfy at least one of the conditions we put <code>|</code> (stands for OR).</li>
<li>to rename columns of the dataframe we use <strong><code>data.columns =</code></strong> approach where on the right hand side we provide the list of new column names.</li>
<li>to classify change in stock price as High or Low, we define a function and apply it to the Open_change column using <strong><code>apply()</code></strong>.</li>
<li><strong>pivot_table()</strong> was used to create a pivot table that will show median price for each class (Higher and Lower).</li>
</ul>

</div>
</div>
</div>
<div class="cell border-box-sizing code_cell rendered">
<div class="input">
<div class="prompt input_prompt">In&nbsp;[1]:</div>
<div class="inner_cell">
    <div class="input_area">
<div class=" highlight hl-ipython3"><pre><span></span><span class="kn">import</span> <span class="nn">quandl</span> <span class="c1">#to get the data</span>
<span class="kn">import</span> <span class="nn">pandas</span> <span class="k">as</span> <span class="nn">pd</span> <span class="c1">#to maniuplate data</span>
<span class="kn">import</span> <span class="nn">numpy</span> <span class="k">as</span> <span class="nn">np</span> <span class="c1">#for math functions</span>
<span class="kn">import</span> <span class="nn">matplotlib.pyplot</span> <span class="k">as</span> <span class="nn">plt</span> <span class="c1">#for plotting</span>
<span class="kn">import</span> <span class="nn">seaborn</span> <span class="k">as</span> <span class="nn">sns</span> <span class="c1">#for plotting</span>
</pre></div>

</div>
</div>
</div>

</div>
<div class="cell border-box-sizing code_cell rendered">
<div class="input">
<div class="prompt input_prompt">In&nbsp;[2]:</div>
<div class="inner_cell">
    <div class="input_area">
<div class=" highlight hl-ipython3"><pre><span></span><span class="n">data</span> <span class="o">=</span> <span class="n">quandl</span><span class="o">.</span><span class="n">get</span><span class="p">(</span><span class="s2">&quot;WIKI/AAPL&quot;</span><span class="p">)</span>
</pre></div>

</div>
</div>
</div>

</div>
<div class="cell border-box-sizing code_cell rendered">
<div class="input">
<div class="prompt input_prompt">In&nbsp;[4]:</div>
<div class="inner_cell">
    <div class="input_area">
<div class=" highlight hl-ipython3"><pre><span></span><span class="n">data</span><span class="o">.</span><span class="n">head</span><span class="p">()</span>
</pre></div>

</div>
</div>
</div>

<div class="output_wrapper">
<div class="output">


<div class="output_area">

<div class="prompt output_prompt">Out[4]:</div>



<div class="output_html rendered_html output_subarea output_execute_result">
<div>
<style scoped>
    .dataframe tbody tr th:only-of-type {
        vertical-align: middle;
    }

    .dataframe tbody tr th {
        vertical-align: top;
    }

    .dataframe thead th {
        text-align: right;
    }
</style>
<table border="1" class="dataframe">
  <thead>
    <tr style="text-align: right;">
      <th></th>
      <th>Open</th>
      <th>High</th>
      <th>Low</th>
      <th>Close</th>
      <th>Volume</th>
      <th>Ex-Dividend</th>
      <th>Split Ratio</th>
      <th>Adj. Open</th>
      <th>Adj. High</th>
      <th>Adj. Low</th>
      <th>Adj. Close</th>
      <th>Adj. Volume</th>
    </tr>
    <tr>
      <th>Date</th>
      <th></th>
      <th></th>
      <th></th>
      <th></th>
      <th></th>
      <th></th>
      <th></th>
      <th></th>
      <th></th>
      <th></th>
      <th></th>
      <th></th>
    </tr>
  </thead>
  <tbody>
    <tr>
      <th>1980-12-12</th>
      <td>28.75</td>
      <td>28.87</td>
      <td>28.75</td>
      <td>28.75</td>
      <td>2093900.0</td>
      <td>0.0</td>
      <td>1.0</td>
      <td>0.422706</td>
      <td>0.424470</td>
      <td>0.422706</td>
      <td>0.422706</td>
      <td>117258400.0</td>
    </tr>
    <tr>
      <th>1980-12-15</th>
      <td>27.38</td>
      <td>27.38</td>
      <td>27.25</td>
      <td>27.25</td>
      <td>785200.0</td>
      <td>0.0</td>
      <td>1.0</td>
      <td>0.402563</td>
      <td>0.402563</td>
      <td>0.400652</td>
      <td>0.400652</td>
      <td>43971200.0</td>
    </tr>
    <tr>
      <th>1980-12-16</th>
      <td>25.37</td>
      <td>25.37</td>
      <td>25.25</td>
      <td>25.25</td>
      <td>472000.0</td>
      <td>0.0</td>
      <td>1.0</td>
      <td>0.373010</td>
      <td>0.373010</td>
      <td>0.371246</td>
      <td>0.371246</td>
      <td>26432000.0</td>
    </tr>
    <tr>
      <th>1980-12-17</th>
      <td>25.87</td>
      <td>26.00</td>
      <td>25.87</td>
      <td>25.87</td>
      <td>385900.0</td>
      <td>0.0</td>
      <td>1.0</td>
      <td>0.380362</td>
      <td>0.382273</td>
      <td>0.380362</td>
      <td>0.380362</td>
      <td>21610400.0</td>
    </tr>
    <tr>
      <th>1980-12-18</th>
      <td>26.63</td>
      <td>26.75</td>
      <td>26.63</td>
      <td>26.63</td>
      <td>327900.0</td>
      <td>0.0</td>
      <td>1.0</td>
      <td>0.391536</td>
      <td>0.393300</td>
      <td>0.391536</td>
      <td>0.391536</td>
      <td>18362400.0</td>
    </tr>
  </tbody>
</table>
</div>
</div>

</div>

</div>
</div>

</div>
<div class="cell border-box-sizing code_cell rendered">
<div class="input">
<div class="prompt input_prompt">In&nbsp;[7]:</div>
<div class="inner_cell">
    <div class="input_area">
<div class=" highlight hl-ipython3"><pre><span></span><span class="c1"># choose only first 4 columns</span>
<span class="n">small_data</span> <span class="o">=</span> <span class="n">data</span><span class="o">.</span><span class="n">iloc</span><span class="p">[:,</span><span class="mi">0</span><span class="p">:</span><span class="mi">4</span><span class="p">]</span>
</pre></div>

</div>
</div>
</div>

</div>
<div class="cell border-box-sizing code_cell rendered">
<div class="input">
<div class="prompt input_prompt">In&nbsp;[9]:</div>
<div class="inner_cell">
    <div class="input_area">
<div class=" highlight hl-ipython3"><pre><span></span><span class="n">small_data</span><span class="o">.</span><span class="n">head</span><span class="p">(</span><span class="mi">3</span><span class="p">)</span>
</pre></div>

</div>
</div>
</div>

<div class="output_wrapper">
<div class="output">


<div class="output_area">

<div class="prompt output_prompt">Out[9]:</div>



<div class="output_html rendered_html output_subarea output_execute_result">
<div>
<style scoped>
    .dataframe tbody tr th:only-of-type {
        vertical-align: middle;
    }

    .dataframe tbody tr th {
        vertical-align: top;
    }

    .dataframe thead th {
        text-align: right;
    }
</style>
<table border="1" class="dataframe">
  <thead>
    <tr style="text-align: right;">
      <th></th>
      <th>Open</th>
      <th>High</th>
      <th>Low</th>
      <th>Close</th>
    </tr>
    <tr>
      <th>Date</th>
      <th></th>
      <th></th>
      <th></th>
      <th></th>
    </tr>
  </thead>
  <tbody>
    <tr>
      <th>1980-12-12</th>
      <td>28.75</td>
      <td>28.87</td>
      <td>28.75</td>
      <td>28.75</td>
    </tr>
    <tr>
      <th>1980-12-15</th>
      <td>27.38</td>
      <td>27.38</td>
      <td>27.25</td>
      <td>27.25</td>
    </tr>
    <tr>
      <th>1980-12-16</th>
      <td>25.37</td>
      <td>25.37</td>
      <td>25.25</td>
      <td>25.25</td>
    </tr>
  </tbody>
</table>
</div>
</div>

</div>

</div>
</div>

</div>
<div class="cell border-box-sizing code_cell rendered">
<div class="input">
<div class="prompt input_prompt">In&nbsp;[10]:</div>
<div class="inner_cell">
    <div class="input_area">
<div class=" highlight hl-ipython3"><pre><span></span><span class="n">small_data</span><span class="o">.</span><span class="n">plot</span><span class="p">()</span>
</pre></div>

</div>
</div>
</div>

<div class="output_wrapper">
<div class="output">


<div class="output_area">

<div class="prompt output_prompt">Out[10]:</div>




<div class="output_text output_subarea output_execute_result">
<pre>&lt;matplotlib.axes._subplots.AxesSubplot at 0x27a438ed2b0&gt;</pre>
</div>

</div>

<div class="output_area">

<div class="prompt"></div>




<div class="output_png output_subarea ">
<img src="data:image/png;base64,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
"
>
</div>

</div>

</div>
</div>

</div>
<div class="cell border-box-sizing code_cell rendered">
<div class="input">
<div class="prompt input_prompt">In&nbsp;[12]:</div>
<div class="inner_cell">
    <div class="input_area">
<div class=" highlight hl-ipython3"><pre><span></span><span class="c1"># calculate percentage change of hte opening price and save it</span>
<span class="n">small_data</span><span class="p">[</span><span class="s2">&quot;Open_change&quot;</span><span class="p">]</span> <span class="o">=</span> <span class="n">small_data</span><span class="o">.</span><span class="n">Open</span><span class="o">.</span><span class="n">pct_change</span><span class="p">()</span>
</pre></div>

</div>
</div>
</div>

<div class="output_wrapper">
<div class="output">


<div class="output_area">

<div class="prompt"></div>


<div class="output_subarea output_stream output_stderr output_text">
<pre>C:\Users\ADStudent\AppData\Local\Continuum\anaconda3\lib\site-packages\ipykernel_launcher.py:1: SettingWithCopyWarning: 
A value is trying to be set on a copy of a slice from a DataFrame.
Try using .loc[row_indexer,col_indexer] = value instead

See the caveats in the documentation: http://pandas.pydata.org/pandas-docs/stable/indexing.html#indexing-view-versus-copy
  &#34;&#34;&#34;Entry point for launching an IPython kernel.
</pre>
</div>
</div>

</div>
</div>

</div>
<div class="cell border-box-sizing code_cell rendered">
<div class="input">
<div class="prompt input_prompt">In&nbsp;[14]:</div>
<div class="inner_cell">
    <div class="input_area">
<div class=" highlight hl-ipython3"><pre><span></span><span class="n">small_data</span><span class="o">.</span><span class="n">head</span><span class="p">(</span><span class="mi">3</span><span class="p">)</span>
</pre></div>

</div>
</div>
</div>

<div class="output_wrapper">
<div class="output">


<div class="output_area">

<div class="prompt output_prompt">Out[14]:</div>



<div class="output_html rendered_html output_subarea output_execute_result">
<div>
<style scoped>
    .dataframe tbody tr th:only-of-type {
        vertical-align: middle;
    }

    .dataframe tbody tr th {
        vertical-align: top;
    }

    .dataframe thead th {
        text-align: right;
    }
</style>
<table border="1" class="dataframe">
  <thead>
    <tr style="text-align: right;">
      <th></th>
      <th>Open</th>
      <th>High</th>
      <th>Low</th>
      <th>Close</th>
      <th>Open_change</th>
    </tr>
    <tr>
      <th>Date</th>
      <th></th>
      <th></th>
      <th></th>
      <th></th>
      <th></th>
    </tr>
  </thead>
  <tbody>
    <tr>
      <th>1980-12-12</th>
      <td>28.75</td>
      <td>28.87</td>
      <td>28.75</td>
      <td>28.75</td>
      <td>NaN</td>
    </tr>
    <tr>
      <th>1980-12-15</th>
      <td>27.38</td>
      <td>27.38</td>
      <td>27.25</td>
      <td>27.25</td>
      <td>-0.047652</td>
    </tr>
    <tr>
      <th>1980-12-16</th>
      <td>25.37</td>
      <td>25.37</td>
      <td>25.25</td>
      <td>25.25</td>
      <td>-0.073411</td>
    </tr>
  </tbody>
</table>
</div>
</div>

</div>

</div>
</div>

</div>
<div class="cell border-box-sizing code_cell rendered">
<div class="input">
<div class="prompt input_prompt">In&nbsp;[15]:</div>
<div class="inner_cell">
    <div class="input_area">
<div class=" highlight hl-ipython3"><pre><span></span><span class="c1">#no percentag echange for the first row (we get missing value), drop it</span>
<span class="n">small_data</span> <span class="o">=</span> <span class="n">small_data</span><span class="o">.</span><span class="n">dropna</span><span class="p">()</span>
<span class="n">small_data</span><span class="o">.</span><span class="n">head</span><span class="p">(</span><span class="mi">3</span><span class="p">)</span>
</pre></div>

</div>
</div>
</div>

<div class="output_wrapper">
<div class="output">


<div class="output_area">

<div class="prompt output_prompt">Out[15]:</div>



<div class="output_html rendered_html output_subarea output_execute_result">
<div>
<style scoped>
    .dataframe tbody tr th:only-of-type {
        vertical-align: middle;
    }

    .dataframe tbody tr th {
        vertical-align: top;
    }

    .dataframe thead th {
        text-align: right;
    }
</style>
<table border="1" class="dataframe">
  <thead>
    <tr style="text-align: right;">
      <th></th>
      <th>Open</th>
      <th>High</th>
      <th>Low</th>
      <th>Close</th>
      <th>Open_change</th>
    </tr>
    <tr>
      <th>Date</th>
      <th></th>
      <th></th>
      <th></th>
      <th></th>
      <th></th>
    </tr>
  </thead>
  <tbody>
    <tr>
      <th>1980-12-15</th>
      <td>27.38</td>
      <td>27.38</td>
      <td>27.25</td>
      <td>27.25</td>
      <td>-0.047652</td>
    </tr>
    <tr>
      <th>1980-12-16</th>
      <td>25.37</td>
      <td>25.37</td>
      <td>25.25</td>
      <td>25.25</td>
      <td>-0.073411</td>
    </tr>
    <tr>
      <th>1980-12-17</th>
      <td>25.87</td>
      <td>26.00</td>
      <td>25.87</td>
      <td>25.87</td>
      <td>0.019708</td>
    </tr>
  </tbody>
</table>
</div>
</div>

</div>

</div>
</div>

</div>
<div class="cell border-box-sizing code_cell rendered">
<div class="input">
<div class="prompt input_prompt">In&nbsp;[16]:</div>
<div class="inner_cell">
    <div class="input_area">
<div class=" highlight hl-ipython3"><pre><span></span><span class="n">small_data</span><span class="o">.</span><span class="n">Open_change</span><span class="o">.</span><span class="n">plot</span><span class="p">()</span>
</pre></div>

</div>
</div>
</div>

<div class="output_wrapper">
<div class="output">


<div class="output_area">

<div class="prompt output_prompt">Out[16]:</div>




<div class="output_text output_subarea output_execute_result">
<pre>&lt;matplotlib.axes._subplots.AxesSubplot at 0x27a438475f8&gt;</pre>
</div>

</div>

<div class="output_area">

<div class="prompt"></div>




<div class="output_png output_subarea ">
<img src="data:image/png;base64,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
"
>
</div>

</div>

</div>
</div>

</div>
<div class="cell border-box-sizing code_cell rendered">
<div class="input">
<div class="prompt input_prompt">In&nbsp;[17]:</div>
<div class="inner_cell">
    <div class="input_area">
<div class=" highlight hl-ipython3"><pre><span></span><span class="n">sns</span><span class="o">.</span><span class="n">distplot</span><span class="p">(</span><span class="n">small_data</span><span class="o">.</span><span class="n">Open_change</span><span class="p">)</span>
</pre></div>

</div>
</div>
</div>

<div class="output_wrapper">
<div class="output">


<div class="output_area">

<div class="prompt output_prompt">Out[17]:</div>




<div class="output_text output_subarea output_execute_result">
<pre>&lt;matplotlib.axes._subplots.AxesSubplot at 0x27a43a1a588&gt;</pre>
</div>

</div>

<div class="output_area">

<div class="prompt"></div>




<div class="output_png output_subarea ">
<img src="data:image/png;base64,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
"
>
</div>

</div>

</div>
</div>

</div>
<div class="cell border-box-sizing code_cell rendered">
<div class="input">
<div class="prompt input_prompt">In&nbsp;[28]:</div>
<div class="inner_cell">
    <div class="input_area">
<div class=" highlight hl-ipython3"><pre><span></span><span class="c1"># choose rows that present change in (-0.8,-0.4) with &amp;</span>
<span class="c1"># choose rows that present change in (-inf, -0.8) u (-0.4,+inf) with |</span>
<span class="n">condition_1</span> <span class="o">=</span> <span class="n">small_data</span><span class="o">.</span><span class="n">Open_change</span><span class="o">&gt;-</span><span class="mf">0.4</span>
<span class="n">condition_2</span> <span class="o">=</span> <span class="n">small_data</span><span class="o">.</span><span class="n">Open_change</span><span class="o">&lt;-</span><span class="mf">0.8</span>
<span class="n">small_data</span><span class="o">.</span><span class="n">Open_change</span><span class="p">[</span><span class="n">condition_1</span> <span class="o">&amp;</span> <span class="n">condition_2</span><span class="p">]</span>
<span class="n">small_data</span><span class="o">.</span><span class="n">Open_change</span><span class="p">[</span><span class="n">condition_1</span> <span class="o">|</span> <span class="n">condition_2</span><span class="p">]</span>
</pre></div>

</div>
</div>
</div>

<div class="output_wrapper">
<div class="output">


<div class="output_area">

<div class="prompt output_prompt">Out[28]:</div>




<div class="output_text output_subarea output_execute_result">
<pre>Date
1980-12-15   -0.047652
1980-12-16   -0.073411
1980-12-17    0.019708
1980-12-18    0.029378
1980-12-19    0.060834
1980-12-22    0.048850
1980-12-23    0.042187
1980-12-24    0.052461
1980-12-26    0.092308
1980-12-29    0.014085
1980-12-30   -0.020833
1980-12-31   -0.028369
1981-01-02    0.007299
1981-01-05   -0.018261
1981-01-06   -0.044287
1981-01-07   -0.042323
1981-01-08   -0.020323
1981-01-09    0.049720
1981-01-12    0.000000
1981-01-13   -0.039210
1981-01-14    0.000000
1981-01-15    0.020242
1981-01-16   -0.004160
1981-01-19    0.056234
1981-01-20   -0.026468
1981-01-21    0.015625
1981-01-22    0.011385
1981-01-23    0.000000
1981-01-26   -0.015211
1981-01-27   -0.003707
                ...   
2018-02-13    0.021767
2018-02-14    0.006761
2018-02-15    0.041369
2018-02-16    0.015136
2018-02-20   -0.001799
2018-02-21    0.004534
2018-02-22   -0.005960
2018-02-23    0.010885
2018-02-26    0.015432
2018-02-27    0.015594
2018-02-28    0.000893
2018-03-01   -0.004017
2018-03-02   -0.032150
2018-03-05    0.013947
2018-03-06    0.015410
2018-03-07   -0.016694
2018-03-08    0.003087
2018-03-09    0.014133
2018-03-12    0.013093
2018-03-13    0.012757
2018-03-14   -0.012432
2018-03-15   -0.010093
2018-03-16    0.000840
2018-03-19   -0.007445
2018-03-20   -0.011730
2018-03-21   -0.001141
2018-03-22   -0.028793
2018-03-23   -0.009471
2018-03-26   -0.001900
2018-03-27    0.033379
Name: Open_change, Length: 9395, dtype: float64</pre>
</div>

</div>

</div>
</div>

</div>
<div class="cell border-box-sizing code_cell rendered">
<div class="input">
<div class="prompt input_prompt">In&nbsp;[29]:</div>
<div class="inner_cell">
    <div class="input_area">
<div class=" highlight hl-ipython3"><pre><span></span><span class="n">small_data</span><span class="o">.</span><span class="n">head</span><span class="p">(</span><span class="mi">3</span><span class="p">)</span>
</pre></div>

</div>
</div>
</div>

<div class="output_wrapper">
<div class="output">


<div class="output_area">

<div class="prompt output_prompt">Out[29]:</div>



<div class="output_html rendered_html output_subarea output_execute_result">
<div>
<style scoped>
    .dataframe tbody tr th:only-of-type {
        vertical-align: middle;
    }

    .dataframe tbody tr th {
        vertical-align: top;
    }

    .dataframe thead th {
        text-align: right;
    }
</style>
<table border="1" class="dataframe">
  <thead>
    <tr style="text-align: right;">
      <th></th>
      <th>Open</th>
      <th>High</th>
      <th>Low</th>
      <th>Close</th>
      <th>Open_change</th>
    </tr>
    <tr>
      <th>Date</th>
      <th></th>
      <th></th>
      <th></th>
      <th></th>
      <th></th>
    </tr>
  </thead>
  <tbody>
    <tr>
      <th>1980-12-15</th>
      <td>27.38</td>
      <td>27.38</td>
      <td>27.25</td>
      <td>27.25</td>
      <td>-0.047652</td>
    </tr>
    <tr>
      <th>1980-12-16</th>
      <td>25.37</td>
      <td>25.37</td>
      <td>25.25</td>
      <td>25.25</td>
      <td>-0.073411</td>
    </tr>
    <tr>
      <th>1980-12-17</th>
      <td>25.87</td>
      <td>26.00</td>
      <td>25.87</td>
      <td>25.87</td>
      <td>0.019708</td>
    </tr>
  </tbody>
</table>
</div>
</div>

</div>

</div>
</div>

</div>
<div class="cell border-box-sizing code_cell rendered">
<div class="input">
<div class="prompt input_prompt">In&nbsp;[30]:</div>
<div class="inner_cell">
    <div class="input_area">
<div class=" highlight hl-ipython3"><pre><span></span><span class="c1">#create a function to classify positive change as Higher, rest as Lower</span>
<span class="k">def</span> <span class="nf">classifier</span><span class="p">(</span><span class="n">x</span><span class="p">):</span>
    <span class="k">if</span> <span class="n">x</span><span class="o">&gt;</span><span class="mi">0</span><span class="p">:</span>
        <span class="n">output</span> <span class="o">=</span> <span class="s2">&quot;Higher&quot;</span>
    <span class="k">else</span><span class="p">:</span>
        <span class="n">output</span> <span class="o">=</span> <span class="s2">&quot;Lower&quot;</span>
    <span class="k">return</span> <span class="n">output</span>
</pre></div>

</div>
</div>
</div>

</div>
<div class="cell border-box-sizing code_cell rendered">
<div class="input">
<div class="prompt input_prompt">In&nbsp;[32]:</div>
<div class="inner_cell">
    <div class="input_area">
<div class=" highlight hl-ipython3"><pre><span></span><span class="c1">#apply function above to the percentage change column</span>
<span class="n">small_data</span><span class="o">.</span><span class="n">Open_change</span><span class="o">.</span><span class="n">apply</span><span class="p">(</span><span class="n">classifier</span><span class="p">)</span>
</pre></div>

</div>
</div>
</div>

<div class="output_wrapper">
<div class="output">


<div class="output_area">

<div class="prompt output_prompt">Out[32]:</div>




<div class="output_text output_subarea output_execute_result">
<pre>Date
1980-12-15     Lower
1980-12-16     Lower
1980-12-17    Higher
1980-12-18    Higher
1980-12-19    Higher
1980-12-22    Higher
1980-12-23    Higher
1980-12-24    Higher
1980-12-26    Higher
1980-12-29    Higher
1980-12-30     Lower
1980-12-31     Lower
1981-01-02    Higher
1981-01-05     Lower
1981-01-06     Lower
1981-01-07     Lower
1981-01-08     Lower
1981-01-09    Higher
1981-01-12     Lower
1981-01-13     Lower
1981-01-14     Lower
1981-01-15    Higher
1981-01-16     Lower
1981-01-19    Higher
1981-01-20     Lower
1981-01-21    Higher
1981-01-22    Higher
1981-01-23     Lower
1981-01-26     Lower
1981-01-27     Lower
               ...  
2018-02-13    Higher
2018-02-14    Higher
2018-02-15    Higher
2018-02-16    Higher
2018-02-20     Lower
2018-02-21    Higher
2018-02-22     Lower
2018-02-23    Higher
2018-02-26    Higher
2018-02-27    Higher
2018-02-28    Higher
2018-03-01     Lower
2018-03-02     Lower
2018-03-05    Higher
2018-03-06    Higher
2018-03-07     Lower
2018-03-08    Higher
2018-03-09    Higher
2018-03-12    Higher
2018-03-13    Higher
2018-03-14     Lower
2018-03-15     Lower
2018-03-16    Higher
2018-03-19     Lower
2018-03-20     Lower
2018-03-21     Lower
2018-03-22     Lower
2018-03-23     Lower
2018-03-26     Lower
2018-03-27    Higher
Name: Open_change, Length: 9399, dtype: object</pre>
</div>

</div>

</div>
</div>

</div>
<div class="cell border-box-sizing code_cell rendered">
<div class="input">
<div class="prompt input_prompt">In&nbsp;[34]:</div>
<div class="inner_cell">
    <div class="input_area">
<div class=" highlight hl-ipython3"><pre><span></span><span class="c1">#complete the task above but instead of comparing with 0 compare to the median</span>
<span class="k">def</span> <span class="nf">classifier_2</span><span class="p">(</span><span class="n">z</span><span class="p">):</span>
    <span class="k">if</span> <span class="n">z</span><span class="o">&gt;</span><span class="n">small_data</span><span class="o">.</span><span class="n">Open</span><span class="o">.</span><span class="n">median</span><span class="p">():</span>
        <span class="n">output</span><span class="o">=</span><span class="s2">&quot;H&quot;</span>
    <span class="k">else</span><span class="p">:</span>
        <span class="n">output</span><span class="o">=</span><span class="s2">&quot;L&quot;</span>
    <span class="k">return</span> <span class="n">output</span>
</pre></div>

</div>
</div>
</div>

</div>
<div class="cell border-box-sizing code_cell rendered">
<div class="input">
<div class="prompt input_prompt">In&nbsp;[36]:</div>
<div class="inner_cell">
    <div class="input_area">
<div class=" highlight hl-ipython3"><pre><span></span><span class="n">small_data</span><span class="o">.</span><span class="n">Open</span><span class="o">.</span><span class="n">apply</span><span class="p">(</span><span class="n">classifier_2</span><span class="p">)</span>
</pre></div>

</div>
</div>
</div>

<div class="output_wrapper">
<div class="output">


<div class="output_area">

<div class="prompt output_prompt">Out[36]:</div>




<div class="output_text output_subarea output_execute_result">
<pre>Date
1980-12-15    L
1980-12-16    L
1980-12-17    L
1980-12-18    L
1980-12-19    L
1980-12-22    L
1980-12-23    L
1980-12-24    L
1980-12-26    L
1980-12-29    L
1980-12-30    L
1980-12-31    L
1981-01-02    L
1981-01-05    L
1981-01-06    L
1981-01-07    L
1981-01-08    L
1981-01-09    L
1981-01-12    L
1981-01-13    L
1981-01-14    L
1981-01-15    L
1981-01-16    L
1981-01-19    L
1981-01-20    L
1981-01-21    L
1981-01-22    L
1981-01-23    L
1981-01-26    L
1981-01-27    L
             ..
2018-02-13    H
2018-02-14    H
2018-02-15    H
2018-02-16    H
2018-02-20    H
2018-02-21    H
2018-02-22    H
2018-02-23    H
2018-02-26    H
2018-02-27    H
2018-02-28    H
2018-03-01    H
2018-03-02    H
2018-03-05    H
2018-03-06    H
2018-03-07    H
2018-03-08    H
2018-03-09    H
2018-03-12    H
2018-03-13    H
2018-03-14    H
2018-03-15    H
2018-03-16    H
2018-03-19    H
2018-03-20    H
2018-03-21    H
2018-03-22    H
2018-03-23    H
2018-03-26    H
2018-03-27    H
Name: Open, Length: 9399, dtype: object</pre>
</div>

</div>

</div>
</div>

</div>
<div class="cell border-box-sizing code_cell rendered">
<div class="input">
<div class="prompt input_prompt">In&nbsp;[38]:</div>
<div class="inner_cell">
    <div class="input_area">
<div class=" highlight hl-ipython3"><pre><span></span><span class="n">small_data</span><span class="p">[</span><span class="s2">&quot;Classes&quot;</span><span class="p">]</span> <span class="o">=</span> <span class="n">np</span><span class="o">.</span><span class="n">where</span><span class="p">(</span><span class="n">small_data</span><span class="o">.</span><span class="n">Open</span><span class="o">&gt;</span><span class="n">small_data</span><span class="o">.</span><span class="n">Open</span><span class="o">.</span><span class="n">median</span><span class="p">(),</span><span class="s2">&quot;Higher&quot;</span><span class="p">,</span><span class="s2">&quot;Lower&quot;</span><span class="p">)</span>
</pre></div>

</div>
</div>
</div>

<div class="output_wrapper">
<div class="output">


<div class="output_area">

<div class="prompt"></div>


<div class="output_subarea output_stream output_stderr output_text">
<pre>C:\Users\ADStudent\AppData\Local\Continuum\anaconda3\lib\site-packages\ipykernel_launcher.py:1: SettingWithCopyWarning: 
A value is trying to be set on a copy of a slice from a DataFrame.
Try using .loc[row_indexer,col_indexer] = value instead

See the caveats in the documentation: http://pandas.pydata.org/pandas-docs/stable/indexing.html#indexing-view-versus-copy
  &#34;&#34;&#34;Entry point for launching an IPython kernel.
</pre>
</div>
</div>

</div>
</div>

</div>
<div class="cell border-box-sizing code_cell rendered">
<div class="input">
<div class="prompt input_prompt">In&nbsp;[39]:</div>
<div class="inner_cell">
    <div class="input_area">
<div class=" highlight hl-ipython3"><pre><span></span><span class="n">small_data</span><span class="o">.</span><span class="n">head</span><span class="p">(</span><span class="mi">3</span><span class="p">)</span>
</pre></div>

</div>
</div>
</div>

<div class="output_wrapper">
<div class="output">


<div class="output_area">

<div class="prompt output_prompt">Out[39]:</div>



<div class="output_html rendered_html output_subarea output_execute_result">
<div>
<style scoped>
    .dataframe tbody tr th:only-of-type {
        vertical-align: middle;
    }

    .dataframe tbody tr th {
        vertical-align: top;
    }

    .dataframe thead th {
        text-align: right;
    }
</style>
<table border="1" class="dataframe">
  <thead>
    <tr style="text-align: right;">
      <th></th>
      <th>Open</th>
      <th>High</th>
      <th>Low</th>
      <th>Close</th>
      <th>Open_change</th>
      <th>Classes</th>
    </tr>
    <tr>
      <th>Date</th>
      <th></th>
      <th></th>
      <th></th>
      <th></th>
      <th></th>
      <th></th>
    </tr>
  </thead>
  <tbody>
    <tr>
      <th>1980-12-15</th>
      <td>27.38</td>
      <td>27.38</td>
      <td>27.25</td>
      <td>27.25</td>
      <td>-0.047652</td>
      <td>Lower</td>
    </tr>
    <tr>
      <th>1980-12-16</th>
      <td>25.37</td>
      <td>25.37</td>
      <td>25.25</td>
      <td>25.25</td>
      <td>-0.073411</td>
      <td>Lower</td>
    </tr>
    <tr>
      <th>1980-12-17</th>
      <td>25.87</td>
      <td>26.00</td>
      <td>25.87</td>
      <td>25.87</td>
      <td>0.019708</td>
      <td>Lower</td>
    </tr>
  </tbody>
</table>
</div>
</div>

</div>

</div>
</div>

</div>
<div class="cell border-box-sizing code_cell rendered">
<div class="input">
<div class="prompt input_prompt">In&nbsp;[48]:</div>
<div class="inner_cell">
    <div class="input_area">
<div class=" highlight hl-ipython3"><pre><span></span><span class="c1"># create a pivot table to show median price for each class</span>
<span class="n">data_pivot</span> <span class="o">=</span> <span class="n">pd</span><span class="o">.</span><span class="n">pivot_table</span><span class="p">(</span><span class="n">data</span><span class="o">=</span><span class="n">small_data</span><span class="p">,</span><span class="n">values</span><span class="o">=</span><span class="s2">&quot;Open&quot;</span><span class="p">,</span><span class="n">index</span><span class="o">=</span><span class="s2">&quot;Classes&quot;</span><span class="p">,</span><span class="n">aggfunc</span><span class="o">=</span><span class="s2">&quot;median&quot;</span><span class="p">)</span>
</pre></div>

</div>
</div>
</div>

</div>
<div class="cell border-box-sizing code_cell rendered">
<div class="input">
<div class="prompt input_prompt">In&nbsp;[49]:</div>
<div class="inner_cell">
    <div class="input_area">
<div class=" highlight hl-ipython3"><pre><span></span><span class="n">data_pivot</span>
</pre></div>

</div>
</div>
</div>

<div class="output_wrapper">
<div class="output">


<div class="output_area">

<div class="prompt output_prompt">Out[49]:</div>



<div class="output_html rendered_html output_subarea output_execute_result">
<div>
<style scoped>
    .dataframe tbody tr th:only-of-type {
        vertical-align: middle;
    }

    .dataframe tbody tr th {
        vertical-align: top;
    }

    .dataframe thead th {
        text-align: right;
    }
</style>
<table border="1" class="dataframe">
  <thead>
    <tr style="text-align: right;">
      <th></th>
      <th>Open</th>
    </tr>
    <tr>
      <th>Classes</th>
      <th></th>
    </tr>
  </thead>
  <tbody>
    <tr>
      <th>Higher</th>
      <td>110.12</td>
    </tr>
    <tr>
      <th>Lower</th>
      <td>27.00</td>
    </tr>
  </tbody>
</table>
</div>
</div>

</div>

</div>
</div>

</div>
<div class="cell border-box-sizing code_cell rendered">
<div class="input">
<div class="prompt input_prompt">In&nbsp;[50]:</div>
<div class="inner_cell">
    <div class="input_area">
<div class=" highlight hl-ipython3"><pre><span></span><span class="n">small_data</span><span class="o">.</span><span class="n">head</span><span class="p">(</span><span class="mi">3</span><span class="p">)</span>
</pre></div>

</div>
</div>
</div>

<div class="output_wrapper">
<div class="output">


<div class="output_area">

<div class="prompt output_prompt">Out[50]:</div>



<div class="output_html rendered_html output_subarea output_execute_result">
<div>
<style scoped>
    .dataframe tbody tr th:only-of-type {
        vertical-align: middle;
    }

    .dataframe tbody tr th {
        vertical-align: top;
    }

    .dataframe thead th {
        text-align: right;
    }
</style>
<table border="1" class="dataframe">
  <thead>
    <tr style="text-align: right;">
      <th></th>
      <th>Open</th>
      <th>High</th>
      <th>Low</th>
      <th>Close</th>
      <th>Open_change</th>
      <th>Classes</th>
    </tr>
    <tr>
      <th>Date</th>
      <th></th>
      <th></th>
      <th></th>
      <th></th>
      <th></th>
      <th></th>
    </tr>
  </thead>
  <tbody>
    <tr>
      <th>1980-12-15</th>
      <td>27.38</td>
      <td>27.38</td>
      <td>27.25</td>
      <td>27.25</td>
      <td>-0.047652</td>
      <td>Lower</td>
    </tr>
    <tr>
      <th>1980-12-16</th>
      <td>25.37</td>
      <td>25.37</td>
      <td>25.25</td>
      <td>25.25</td>
      <td>-0.073411</td>
      <td>Lower</td>
    </tr>
    <tr>
      <th>1980-12-17</th>
      <td>25.87</td>
      <td>26.00</td>
      <td>25.87</td>
      <td>25.87</td>
      <td>0.019708</td>
      <td>Lower</td>
    </tr>
  </tbody>
</table>
</div>
</div>

</div>

</div>
</div>

</div>
<div class="cell border-box-sizing code_cell rendered">
<div class="input">
<div class="prompt input_prompt">In&nbsp;[53]:</div>
<div class="inner_cell">
    <div class="input_area">
<div class=" highlight hl-ipython3"><pre><span></span><span class="c1">#rename columns</span>
<span class="n">small_data</span><span class="o">.</span><span class="n">columns</span> <span class="o">=</span> <span class="p">[</span><span class="s1">&#39;Open&#39;</span><span class="p">,</span> <span class="s1">&#39;High&#39;</span><span class="p">,</span> <span class="s1">&#39;Low&#39;</span><span class="p">,</span> <span class="s1">&#39;Close&#39;</span><span class="p">,</span> <span class="s1">&#39;Pct_change&#39;</span><span class="p">,</span> <span class="s1">&#39;Classes&#39;</span><span class="p">]</span>
</pre></div>

</div>
</div>
</div>

</div>
<div class="cell border-box-sizing code_cell rendered">
<div class="input">
<div class="prompt input_prompt">In&nbsp;[54]:</div>
<div class="inner_cell">
    <div class="input_area">
<div class=" highlight hl-ipython3"><pre><span></span><span class="n">small_data</span><span class="o">.</span><span class="n">head</span><span class="p">()</span>
</pre></div>

</div>
</div>
</div>

<div class="output_wrapper">
<div class="output">


<div class="output_area">

<div class="prompt output_prompt">Out[54]:</div>



<div class="output_html rendered_html output_subarea output_execute_result">
<div>
<style scoped>
    .dataframe tbody tr th:only-of-type {
        vertical-align: middle;
    }

    .dataframe tbody tr th {
        vertical-align: top;
    }

    .dataframe thead th {
        text-align: right;
    }
</style>
<table border="1" class="dataframe">
  <thead>
    <tr style="text-align: right;">
      <th></th>
      <th>Open</th>
      <th>High</th>
      <th>Low</th>
      <th>Close</th>
      <th>Pct_change</th>
      <th>Classes</th>
    </tr>
    <tr>
      <th>Date</th>
      <th></th>
      <th></th>
      <th></th>
      <th></th>
      <th></th>
      <th></th>
    </tr>
  </thead>
  <tbody>
    <tr>
      <th>1980-12-15</th>
      <td>27.38</td>
      <td>27.38</td>
      <td>27.25</td>
      <td>27.25</td>
      <td>-0.047652</td>
      <td>Lower</td>
    </tr>
    <tr>
      <th>1980-12-16</th>
      <td>25.37</td>
      <td>25.37</td>
      <td>25.25</td>
      <td>25.25</td>
      <td>-0.073411</td>
      <td>Lower</td>
    </tr>
    <tr>
      <th>1980-12-17</th>
      <td>25.87</td>
      <td>26.00</td>
      <td>25.87</td>
      <td>25.87</td>
      <td>0.019708</td>
      <td>Lower</td>
    </tr>
    <tr>
      <th>1980-12-18</th>
      <td>26.63</td>
      <td>26.75</td>
      <td>26.63</td>
      <td>26.63</td>
      <td>0.029378</td>
      <td>Lower</td>
    </tr>
    <tr>
      <th>1980-12-19</th>
      <td>28.25</td>
      <td>28.38</td>
      <td>28.25</td>
      <td>28.25</td>
      <td>0.060834</td>
      <td>Lower</td>
    </tr>
  </tbody>
</table>
</div>
</div>

</div>

</div>
</div>

</div>
 


    </div>
  </div>

  </div>


  
    <footer class="footer hidden-print">
      <div class="container">
        <div class="col-md-4">
          <p>
            This website does not host notebooks, it only renders notebooks
            available on other websites.
          </p>
        </div>

        <div class="col-md-4">
          <p>
            Delivered by <a href="http://www.fastly.com/">Fastly</a>,
            Rendered by <a href="https://developer.rackspace.com/?nbviewer=awesome">Rackspace</a>
          </p>
          <p>
            nbviewer GitHub <a href="https://github.com/jupyter/nbviewer">repository</a>.
          </p>
        </div>

        <div class="col-md-4">
          
  
            
              <p>
                nbviewer version:
                <a href="https://github.com/jupyter/nbviewer/commit/38e181afeec4b7527a8a13ef7c3814e36045244c">
                  38e181a
                </a>
              </p>
            
          
  
  <p>
    nbconvert version: <a href="https://github.com/jupyter/nbconvert/releases/tag/5.3.1">
      5.3.1
    </a>
  </p>
  

          
  
  
  <p>
    Rendered
    <span class='date' data-date='Mon, 16 Jul 2018 22:41:15 UTC' title='Mon, 16 Jul 2018 22:41:15 UTC'>(Mon, 16 Jul 2018 22:41:15 UTC)</span>
  </p>
  

        </div>
      </div>
    </footer>
  

  <script src="/static/components/bootstrap/js/bootstrap.min.js?v=5869c96cc8f19086aee625d670d741f9"></script>
  <script src="/static/components/headroom.js/dist/headroom.min.js?v=b0a311ea668f8e768ea375f4a7abb81c"></script>
  <script src="/static/components/headroom.js/dist/jQuery.headroom.min.js?v=f3a1bae118315d0c234afc74dc6aab71"></script>

  
  
  <script>
    $(function(){ $("#menubar").headroom({
      tolerance: 5,
      offset: 205,
      classes: {
        initial: "animated",
        pinned: "slideInDown",
        unpinned: "slideOutUp"
      }
    })});
  </script>


  
  <script>
    (function(i,s,o,g,r,a,m){i['GoogleAnalyticsObject']=r;i[r]=i[r]||function(){
      (i[r].q=i[r].q||[]).push(arguments)},i[r].l=1*new Date();a=s.createElement(o),
      m=s.getElementsByTagName(o)[0];a.async=1;a.src=g;m.parentNode.insertBefore(a,m)
    })(window,document,'script','https://www.google-analytics.com/analytics.js','ga');
    ga('create', 'UA-52617120-5', 'auto',
       {'storage': 'none'});
    ga('set', 'anonymizeIp', true);
    ga('send', 'pageview');
  </script>
  
  <script>
    require({
        paths: {
          moment: "/static/components/moment/min/moment.min.js?v=89f87298ad94aa1e6b92f42eb66da043"
        }
      }, ["moment"], function(moment){
      var date = $("footer .date"),
        m = moment(new Date(date.data('date'))),
        update = function(){ date.text(m.fromNow()); };
      setInterval(update, 61*1000);
      update();
      var w = $(window).scroll(function(event){
        $("body").toggleClass("scrolled", w.scrollTop() > 0);
      });
    });
  </script>

  <!--NEW RELIC Stop Perf Measurement-->
  
  <!--NEW RELIC End-->
</body>
</html>