{
 "cells": [
  {
   "cell_type": "code",
   "execution_count": 1,
   "metadata": {
    "collapsed": true
   },
   "outputs": [],
   "source": [
    "##EXERCISE 1\n",
    "\n",
    "## Write down a list of 3 fruits (except for banana)\n",
    "## Add banana to the list\n",
    "## Put them in an alphabetical order\n",
    "## See what is the 2nd letter of the 2nd fruit\n",
    "## Find which element banana is in the sequence\n",
    "## Make a sentence for each fruit indicating that it is currenlty sold out"
   ]
  },
  {
   "cell_type": "code",
   "execution_count": 2,
   "metadata": {
    "collapsed": true
   },
   "outputs": [],
   "source": [
    "## EXERCISE 2\n",
    "\n",
    "## Write a Python program to generate and print a list of the first 5 and last 5 elements, where the values are square of \n",
    "## the numbers between 1 and 30 (both included)."
   ]
  },
  {
   "cell_type": "code",
   "execution_count": 3,
   "metadata": {
    "collapsed": true
   },
   "outputs": [],
   "source": [
    "## EXERCISE 3\n",
    "## Write a Python program to get the third side of right angled triangle from two given sides."
   ]
  },
  {
   "cell_type": "code",
   "execution_count": 4,
   "metadata": {
    "collapsed": true
   },
   "outputs": [],
   "source": [
    "## EXERCISE 4\n",
    "## Write a program which will find all numbers between 1500 and 1700 (both included) \n",
    "## that do not end with 0, are divisible by 5 and not divisible by 7"
   ]
  },
  {
   "cell_type": "code",
   "execution_count": 5,
   "metadata": {
    "collapsed": true
   },
   "outputs": [],
   "source": [
    "## EXERCISE 5\n",
    "## Print all non negative numbers less than 5 using while loop"
   ]
  },
  {
   "cell_type": "code",
   "execution_count": 7,
   "metadata": {
    "collapsed": true
   },
   "outputs": [],
   "source": [
    "## EXERCISE 6\n",
    "## Write a Python program to create the multiplication table (from 1 to 10) of a number.\n"
   ]
  },
  {
   "cell_type": "code",
   "execution_count": 8,
   "metadata": {
    "collapsed": true
   },
   "outputs": [],
   "source": [
    "## EXERCISE 7\n",
    "## Write a program to add natural numbers upto 10"
   ]
  },
  {
   "cell_type": "code",
   "execution_count": 9,
   "metadata": {
    "collapsed": true
   },
   "outputs": [],
   "source": [
    "## EXERCISE 8\n",
    "## Write a program to find the factorial of 7 (using while loop)"
   ]
  },
  {
   "cell_type": "code",
   "execution_count": 10,
   "metadata": {
    "collapsed": true
   },
   "outputs": [],
   "source": [
    "## EXERCISE 9\n",
    "## Print the statement \"It's past\" when it is past, and \"It's present\" when it is present - based on your age"
   ]
  },
  {
   "cell_type": "code",
   "execution_count": 12,
   "metadata": {
    "collapsed": true
   },
   "outputs": [],
   "source": [
    "## EXERCISE 10\n",
    "##Define a converting function that will convert EUR to AMD - when we input \" X EUR\" it will give the output converted \n",
    "## amount and AMD\n"
   ]
  },
  {
   "cell_type": "code",
   "execution_count": 13,
   "metadata": {
    "collapsed": true
   },
   "outputs": [],
   "source": [
    "## EXERCISE 11\n",
    "## ODA/ARM_LP from QUANDL"
   ]
  },
  {
   "cell_type": "code",
   "execution_count": null,
   "metadata": {
    "collapsed": true
   },
   "outputs": [],
   "source": []
  }
 ],
 "metadata": {
  "kernelspec": {
   "display_name": "Python 3",
   "language": "python",
   "name": "python3"
  },
  "language_info": {
   "codemirror_mode": {
    "name": "ipython",
    "version": 3
   },
   "file_extension": ".py",
   "mimetype": "text/x-python",
   "name": "python",
   "nbconvert_exporter": "python",
   "pygments_lexer": "ipython3",
   "version": "3.6.1"
  }
 },
 "nbformat": 4,
 "nbformat_minor": 2
}
