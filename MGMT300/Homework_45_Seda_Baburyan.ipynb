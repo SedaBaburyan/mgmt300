{
 "cells": [
  {
   "cell_type": "markdown",
   "metadata": {},
   "source": [
    "Problem_1_Superify"
   ]
  },
  {
   "cell_type": "code",
   "execution_count": 76,
   "metadata": {},
   "outputs": [],
   "source": [
    "import quandl\n",
    "import numpy as np\n",
    "import matplotlib.pyplot as plt\n",
    "import pandas as pd\n",
    "import seaborn as sns"
   ]
  },
  {
   "cell_type": "code",
   "execution_count": 77,
   "metadata": {},
   "outputs": [
    {
     "name": "stdout",
     "output_type": "stream",
     "text": [
      "Super woman\n",
      "Superhome\n",
      "Super knowledge\n",
      "Superbowl\n",
      "Superdog\n"
     ]
    }
   ],
   "source": [
    "list_1=[\"woman\", \"home\", \"knowledge\", \"bowl\", \"dog\"]\n",
    "for i in list_1:\n",
    "    if len(i)>4:\n",
    "        print(\"Super\" + \" \" + i)\n",
    "    else:\n",
    "        print(\"Super\" + i)"
   ]
  },
  {
   "cell_type": "markdown",
   "metadata": {},
   "source": [
    "Problem_2_Stockplotter_1"
   ]
  },
  {
   "cell_type": "code",
   "execution_count": 78,
   "metadata": {},
   "outputs": [],
   "source": [
    "data = quandl.get([\"WIKI/AAPL\", \"WIKI/GOOGL\", \"WIKI/IBM\", \"WIKI/MSFT\", \"WIKI/FB\"], auth_token=\"69_Sw54e1gkoffppN2Kq\")"
   ]
  },
  {
   "cell_type": "code",
   "execution_count": 79,
   "metadata": {},
   "outputs": [
    {
     "data": {
      "text/html": [
       "<div>\n",
       "<style scoped>\n",
       "    .dataframe tbody tr th:only-of-type {\n",
       "        vertical-align: middle;\n",
       "    }\n",
       "\n",
       "    .dataframe tbody tr th {\n",
       "        vertical-align: top;\n",
       "    }\n",
       "\n",
       "    .dataframe thead th {\n",
       "        text-align: right;\n",
       "    }\n",
       "</style>\n",
       "<table border=\"1\" class=\"dataframe\">\n",
       "  <thead>\n",
       "    <tr style=\"text-align: right;\">\n",
       "      <th></th>\n",
       "      <th>WIKI/AAPL - Open</th>\n",
       "      <th>WIKI/AAPL - High</th>\n",
       "      <th>WIKI/AAPL - Low</th>\n",
       "      <th>WIKI/AAPL - Close</th>\n",
       "      <th>WIKI/AAPL - Volume</th>\n",
       "      <th>WIKI/AAPL - Ex-Dividend</th>\n",
       "      <th>WIKI/AAPL - Split Ratio</th>\n",
       "      <th>WIKI/AAPL - Adj. Open</th>\n",
       "      <th>WIKI/AAPL - Adj. High</th>\n",
       "      <th>WIKI/AAPL - Adj. Low</th>\n",
       "      <th>...</th>\n",
       "      <th>WIKI/FB - Low</th>\n",
       "      <th>WIKI/FB - Close</th>\n",
       "      <th>WIKI/FB - Volume</th>\n",
       "      <th>WIKI/FB - Ex-Dividend</th>\n",
       "      <th>WIKI/FB - Split Ratio</th>\n",
       "      <th>WIKI/FB - Adj. Open</th>\n",
       "      <th>WIKI/FB - Adj. High</th>\n",
       "      <th>WIKI/FB - Adj. Low</th>\n",
       "      <th>WIKI/FB - Adj. Close</th>\n",
       "      <th>WIKI/FB - Adj. Volume</th>\n",
       "    </tr>\n",
       "    <tr>\n",
       "      <th>Date</th>\n",
       "      <th></th>\n",
       "      <th></th>\n",
       "      <th></th>\n",
       "      <th></th>\n",
       "      <th></th>\n",
       "      <th></th>\n",
       "      <th></th>\n",
       "      <th></th>\n",
       "      <th></th>\n",
       "      <th></th>\n",
       "      <th></th>\n",
       "      <th></th>\n",
       "      <th></th>\n",
       "      <th></th>\n",
       "      <th></th>\n",
       "      <th></th>\n",
       "      <th></th>\n",
       "      <th></th>\n",
       "      <th></th>\n",
       "      <th></th>\n",
       "      <th></th>\n",
       "    </tr>\n",
       "  </thead>\n",
       "  <tbody>\n",
       "    <tr>\n",
       "      <th>2018-03-21</th>\n",
       "      <td>175.04</td>\n",
       "      <td>175.09</td>\n",
       "      <td>171.26</td>\n",
       "      <td>171.270</td>\n",
       "      <td>35247358.0</td>\n",
       "      <td>0.0</td>\n",
       "      <td>1.0</td>\n",
       "      <td>175.04</td>\n",
       "      <td>175.09</td>\n",
       "      <td>171.26</td>\n",
       "      <td>...</td>\n",
       "      <td>163.30</td>\n",
       "      <td>169.39</td>\n",
       "      <td>105350867.0</td>\n",
       "      <td>0.0</td>\n",
       "      <td>1.0</td>\n",
       "      <td>164.80</td>\n",
       "      <td>173.40</td>\n",
       "      <td>163.30</td>\n",
       "      <td>169.39</td>\n",
       "      <td>105350867.0</td>\n",
       "    </tr>\n",
       "    <tr>\n",
       "      <th>2018-03-22</th>\n",
       "      <td>170.00</td>\n",
       "      <td>172.68</td>\n",
       "      <td>168.60</td>\n",
       "      <td>168.845</td>\n",
       "      <td>41051076.0</td>\n",
       "      <td>0.0</td>\n",
       "      <td>1.0</td>\n",
       "      <td>170.00</td>\n",
       "      <td>172.68</td>\n",
       "      <td>168.60</td>\n",
       "      <td>...</td>\n",
       "      <td>163.72</td>\n",
       "      <td>164.89</td>\n",
       "      <td>73389988.0</td>\n",
       "      <td>0.0</td>\n",
       "      <td>1.0</td>\n",
       "      <td>166.13</td>\n",
       "      <td>170.27</td>\n",
       "      <td>163.72</td>\n",
       "      <td>164.89</td>\n",
       "      <td>73389988.0</td>\n",
       "    </tr>\n",
       "    <tr>\n",
       "      <th>2018-03-23</th>\n",
       "      <td>168.39</td>\n",
       "      <td>169.92</td>\n",
       "      <td>164.94</td>\n",
       "      <td>164.940</td>\n",
       "      <td>40248954.0</td>\n",
       "      <td>0.0</td>\n",
       "      <td>1.0</td>\n",
       "      <td>168.39</td>\n",
       "      <td>169.92</td>\n",
       "      <td>164.94</td>\n",
       "      <td>...</td>\n",
       "      <td>159.02</td>\n",
       "      <td>159.39</td>\n",
       "      <td>52306891.0</td>\n",
       "      <td>0.0</td>\n",
       "      <td>1.0</td>\n",
       "      <td>165.44</td>\n",
       "      <td>167.10</td>\n",
       "      <td>159.02</td>\n",
       "      <td>159.39</td>\n",
       "      <td>52306891.0</td>\n",
       "    </tr>\n",
       "    <tr>\n",
       "      <th>2018-03-26</th>\n",
       "      <td>168.07</td>\n",
       "      <td>173.10</td>\n",
       "      <td>166.44</td>\n",
       "      <td>172.770</td>\n",
       "      <td>36272617.0</td>\n",
       "      <td>0.0</td>\n",
       "      <td>1.0</td>\n",
       "      <td>168.07</td>\n",
       "      <td>173.10</td>\n",
       "      <td>166.44</td>\n",
       "      <td>...</td>\n",
       "      <td>149.02</td>\n",
       "      <td>160.06</td>\n",
       "      <td>125438294.0</td>\n",
       "      <td>0.0</td>\n",
       "      <td>1.0</td>\n",
       "      <td>160.82</td>\n",
       "      <td>161.10</td>\n",
       "      <td>149.02</td>\n",
       "      <td>160.06</td>\n",
       "      <td>125438294.0</td>\n",
       "    </tr>\n",
       "    <tr>\n",
       "      <th>2018-03-27</th>\n",
       "      <td>173.68</td>\n",
       "      <td>175.15</td>\n",
       "      <td>166.92</td>\n",
       "      <td>168.340</td>\n",
       "      <td>38962839.0</td>\n",
       "      <td>0.0</td>\n",
       "      <td>1.0</td>\n",
       "      <td>173.68</td>\n",
       "      <td>175.15</td>\n",
       "      <td>166.92</td>\n",
       "      <td>...</td>\n",
       "      <td>150.75</td>\n",
       "      <td>152.19</td>\n",
       "      <td>76787884.0</td>\n",
       "      <td>0.0</td>\n",
       "      <td>1.0</td>\n",
       "      <td>156.31</td>\n",
       "      <td>162.85</td>\n",
       "      <td>150.75</td>\n",
       "      <td>152.19</td>\n",
       "      <td>76787884.0</td>\n",
       "    </tr>\n",
       "  </tbody>\n",
       "</table>\n",
       "<p>5 rows × 60 columns</p>\n",
       "</div>"
      ],
      "text/plain": [
       "            WIKI/AAPL - Open  WIKI/AAPL - High  WIKI/AAPL - Low  \\\n",
       "Date                                                              \n",
       "2018-03-21            175.04            175.09           171.26   \n",
       "2018-03-22            170.00            172.68           168.60   \n",
       "2018-03-23            168.39            169.92           164.94   \n",
       "2018-03-26            168.07            173.10           166.44   \n",
       "2018-03-27            173.68            175.15           166.92   \n",
       "\n",
       "            WIKI/AAPL - Close  WIKI/AAPL - Volume  WIKI/AAPL - Ex-Dividend  \\\n",
       "Date                                                                         \n",
       "2018-03-21            171.270          35247358.0                      0.0   \n",
       "2018-03-22            168.845          41051076.0                      0.0   \n",
       "2018-03-23            164.940          40248954.0                      0.0   \n",
       "2018-03-26            172.770          36272617.0                      0.0   \n",
       "2018-03-27            168.340          38962839.0                      0.0   \n",
       "\n",
       "            WIKI/AAPL - Split Ratio  WIKI/AAPL - Adj. Open  \\\n",
       "Date                                                         \n",
       "2018-03-21                      1.0                 175.04   \n",
       "2018-03-22                      1.0                 170.00   \n",
       "2018-03-23                      1.0                 168.39   \n",
       "2018-03-26                      1.0                 168.07   \n",
       "2018-03-27                      1.0                 173.68   \n",
       "\n",
       "            WIKI/AAPL - Adj. High  WIKI/AAPL - Adj. Low  \\\n",
       "Date                                                      \n",
       "2018-03-21                 175.09                171.26   \n",
       "2018-03-22                 172.68                168.60   \n",
       "2018-03-23                 169.92                164.94   \n",
       "2018-03-26                 173.10                166.44   \n",
       "2018-03-27                 175.15                166.92   \n",
       "\n",
       "                    ...            WIKI/FB - Low  WIKI/FB - Close  \\\n",
       "Date                ...                                             \n",
       "2018-03-21          ...                   163.30           169.39   \n",
       "2018-03-22          ...                   163.72           164.89   \n",
       "2018-03-23          ...                   159.02           159.39   \n",
       "2018-03-26          ...                   149.02           160.06   \n",
       "2018-03-27          ...                   150.75           152.19   \n",
       "\n",
       "            WIKI/FB - Volume  WIKI/FB - Ex-Dividend  WIKI/FB - Split Ratio  \\\n",
       "Date                                                                         \n",
       "2018-03-21       105350867.0                    0.0                    1.0   \n",
       "2018-03-22        73389988.0                    0.0                    1.0   \n",
       "2018-03-23        52306891.0                    0.0                    1.0   \n",
       "2018-03-26       125438294.0                    0.0                    1.0   \n",
       "2018-03-27        76787884.0                    0.0                    1.0   \n",
       "\n",
       "            WIKI/FB - Adj. Open  WIKI/FB - Adj. High  WIKI/FB - Adj. Low  \\\n",
       "Date                                                                       \n",
       "2018-03-21               164.80               173.40              163.30   \n",
       "2018-03-22               166.13               170.27              163.72   \n",
       "2018-03-23               165.44               167.10              159.02   \n",
       "2018-03-26               160.82               161.10              149.02   \n",
       "2018-03-27               156.31               162.85              150.75   \n",
       "\n",
       "            WIKI/FB - Adj. Close  WIKI/FB - Adj. Volume  \n",
       "Date                                                     \n",
       "2018-03-21                169.39            105350867.0  \n",
       "2018-03-22                164.89             73389988.0  \n",
       "2018-03-23                159.39             52306891.0  \n",
       "2018-03-26                160.06            125438294.0  \n",
       "2018-03-27                152.19             76787884.0  \n",
       "\n",
       "[5 rows x 60 columns]"
      ]
     },
     "execution_count": 79,
     "metadata": {},
     "output_type": "execute_result"
    }
   ],
   "source": [
    "data.tail(5)"
   ]
  },
  {
   "cell_type": "code",
   "execution_count": 80,
   "metadata": {},
   "outputs": [
    {
     "data": {
      "text/plain": [
       "Index(['WIKI/AAPL - Open', 'WIKI/AAPL - High', 'WIKI/AAPL - Low',\n",
       "       'WIKI/AAPL - Close', 'WIKI/AAPL - Volume', 'WIKI/AAPL - Ex-Dividend',\n",
       "       'WIKI/AAPL - Split Ratio', 'WIKI/AAPL - Adj. Open',\n",
       "       'WIKI/AAPL - Adj. High', 'WIKI/AAPL - Adj. Low',\n",
       "       'WIKI/AAPL - Adj. Close', 'WIKI/AAPL - Adj. Volume',\n",
       "       'WIKI/GOOGL - Open', 'WIKI/GOOGL - High', 'WIKI/GOOGL - Low',\n",
       "       'WIKI/GOOGL - Close', 'WIKI/GOOGL - Volume', 'WIKI/GOOGL - Ex-Dividend',\n",
       "       'WIKI/GOOGL - Split Ratio', 'WIKI/GOOGL - Adj. Open',\n",
       "       'WIKI/GOOGL - Adj. High', 'WIKI/GOOGL - Adj. Low',\n",
       "       'WIKI/GOOGL - Adj. Close', 'WIKI/GOOGL - Adj. Volume',\n",
       "       'WIKI/IBM - Open', 'WIKI/IBM - High', 'WIKI/IBM - Low',\n",
       "       'WIKI/IBM - Close', 'WIKI/IBM - Volume', 'WIKI/IBM - Ex-Dividend',\n",
       "       'WIKI/IBM - Split Ratio', 'WIKI/IBM - Adj. Open',\n",
       "       'WIKI/IBM - Adj. High', 'WIKI/IBM - Adj. Low', 'WIKI/IBM - Adj. Close',\n",
       "       'WIKI/IBM - Adj. Volume', 'WIKI/MSFT - Open', 'WIKI/MSFT - High',\n",
       "       'WIKI/MSFT - Low', 'WIKI/MSFT - Close', 'WIKI/MSFT - Volume',\n",
       "       'WIKI/MSFT - Ex-Dividend', 'WIKI/MSFT - Split Ratio',\n",
       "       'WIKI/MSFT - Adj. Open', 'WIKI/MSFT - Adj. High',\n",
       "       'WIKI/MSFT - Adj. Low', 'WIKI/MSFT - Adj. Close',\n",
       "       'WIKI/MSFT - Adj. Volume', 'WIKI/FB - Open', 'WIKI/FB - High',\n",
       "       'WIKI/FB - Low', 'WIKI/FB - Close', 'WIKI/FB - Volume',\n",
       "       'WIKI/FB - Ex-Dividend', 'WIKI/FB - Split Ratio', 'WIKI/FB - Adj. Open',\n",
       "       'WIKI/FB - Adj. High', 'WIKI/FB - Adj. Low', 'WIKI/FB - Adj. Close',\n",
       "       'WIKI/FB - Adj. Volume'],\n",
       "      dtype='object')"
      ]
     },
     "execution_count": 80,
     "metadata": {},
     "output_type": "execute_result"
    }
   ],
   "source": [
    "data.columns"
   ]
  },
  {
   "cell_type": "code",
   "execution_count": 81,
   "metadata": {},
   "outputs": [],
   "source": [
    "new_data = data [[\"WIKI/AAPL - Open\", \"WIKI/GOOGL - Open\", \"WIKI/IBM - Open\", \"WIKI/MSFT - Open\", \"WIKI/FB - Open\"]]"
   ]
  },
  {
   "cell_type": "code",
   "execution_count": 82,
   "metadata": {
    "scrolled": true
   },
   "outputs": [
    {
     "name": "stdout",
     "output_type": "stream",
     "text": [
      "            WIKI/AAPL - Open  WIKI/GOOGL - Open  WIKI/IBM - Open  \\\n",
      "Date                                                               \n",
      "1962-01-02               NaN                NaN           578.50   \n",
      "1962-01-03               NaN                NaN           572.00   \n",
      "1962-01-04               NaN                NaN           577.00   \n",
      "1962-01-05               NaN                NaN           570.50   \n",
      "1962-01-08               NaN                NaN           559.50   \n",
      "1962-01-09               NaN                NaN           552.00   \n",
      "1962-01-10               NaN                NaN           557.00   \n",
      "1962-01-11               NaN                NaN           558.50   \n",
      "1962-01-12               NaN                NaN           564.00   \n",
      "1962-01-15               NaN                NaN           566.00   \n",
      "1962-01-16               NaN                NaN           566.00   \n",
      "1962-01-17               NaN                NaN           558.00   \n",
      "1962-01-18               NaN                NaN           553.00   \n",
      "1962-01-19               NaN                NaN           553.00   \n",
      "1962-01-22               NaN                NaN           553.50   \n",
      "1962-01-23               NaN                NaN           552.25   \n",
      "1962-01-24               NaN                NaN           547.00   \n",
      "1962-01-25               NaN                NaN           550.00   \n",
      "1962-01-26               NaN                NaN           544.00   \n",
      "1962-01-29               NaN                NaN           541.25   \n",
      "1962-01-30               NaN                NaN           532.00   \n",
      "1962-01-31               NaN                NaN           530.50   \n",
      "1962-02-01               NaN                NaN           547.50   \n",
      "1962-02-02               NaN                NaN           554.50   \n",
      "1962-02-05               NaN                NaN           558.00   \n",
      "1962-02-06               NaN                NaN           551.00   \n",
      "1962-02-07               NaN                NaN           552.00   \n",
      "1962-02-08               NaN                NaN           552.00   \n",
      "1962-02-09               NaN                NaN           552.50   \n",
      "1962-02-12               NaN                NaN           556.50   \n",
      "...                      ...                ...              ...   \n",
      "2018-02-13           161.950            1050.00           150.90   \n",
      "2018-02-14           163.045            1054.32           150.19   \n",
      "2018-02-15           169.790            1083.45           155.50   \n",
      "2018-02-16           172.360            1093.38           155.71   \n",
      "2018-02-20           172.050            1092.76           155.79   \n",
      "2018-02-21           172.830            1109.10           155.43   \n",
      "2018-02-22           171.800            1119.17           154.50   \n",
      "2018-02-23           173.670            1118.66           154.30   \n",
      "2018-02-26           176.350            1131.86           155.81   \n",
      "2018-02-27           179.100            1143.70           158.46   \n",
      "2018-02-28           179.260            1122.00           157.50   \n",
      "2018-03-01           178.540            1109.54           155.53   \n",
      "2018-03-02           172.800            1057.98           152.79   \n",
      "2018-03-05           175.210            1078.13           154.12   \n",
      "2018-03-06           177.910            1102.10           157.28   \n",
      "2018-03-07           174.940            1092.82           155.00   \n",
      "2018-03-08           175.480            1117.20           159.00   \n",
      "2018-03-09           177.960            1139.50           157.47   \n",
      "2018-03-12           180.290            1165.05           159.64   \n",
      "2018-03-13           182.590            1171.83           160.09   \n",
      "2018-03-14           180.320            1145.80           160.17   \n",
      "2018-03-15           178.500            1149.57           158.71   \n",
      "2018-03-16           178.650            1155.35           160.06   \n",
      "2018-03-19           177.320            1117.76           159.71   \n",
      "2018-03-20           175.240            1098.40           157.52   \n",
      "2018-03-21           175.040            1092.57           156.57   \n",
      "2018-03-22           170.000            1080.01           155.00   \n",
      "2018-03-23           168.390            1051.37           152.25   \n",
      "2018-03-26           168.070            1050.60           151.21   \n",
      "2018-03-27           173.680            1063.90           153.95   \n",
      "\n",
      "            WIKI/MSFT - Open  WIKI/FB - Open  \n",
      "Date                                          \n",
      "1962-01-02               NaN             NaN  \n",
      "1962-01-03               NaN             NaN  \n",
      "1962-01-04               NaN             NaN  \n",
      "1962-01-05               NaN             NaN  \n",
      "1962-01-08               NaN             NaN  \n",
      "1962-01-09               NaN             NaN  \n",
      "1962-01-10               NaN             NaN  \n",
      "1962-01-11               NaN             NaN  \n",
      "1962-01-12               NaN             NaN  \n",
      "1962-01-15               NaN             NaN  \n",
      "1962-01-16               NaN             NaN  \n",
      "1962-01-17               NaN             NaN  \n",
      "1962-01-18               NaN             NaN  \n",
      "1962-01-19               NaN             NaN  \n",
      "1962-01-22               NaN             NaN  \n",
      "1962-01-23               NaN             NaN  \n",
      "1962-01-24               NaN             NaN  \n",
      "1962-01-25               NaN             NaN  \n",
      "1962-01-26               NaN             NaN  \n",
      "1962-01-29               NaN             NaN  \n",
      "1962-01-30               NaN             NaN  \n",
      "1962-01-31               NaN             NaN  \n",
      "1962-02-01               NaN             NaN  \n",
      "1962-02-02               NaN             NaN  \n",
      "1962-02-05               NaN             NaN  \n",
      "1962-02-06               NaN             NaN  \n",
      "1962-02-07               NaN             NaN  \n",
      "1962-02-08               NaN             NaN  \n",
      "1962-02-09               NaN             NaN  \n",
      "1962-02-12               NaN             NaN  \n",
      "...                      ...             ...  \n",
      "2018-02-13            88.930          175.62  \n",
      "2018-02-14            88.510          173.45  \n",
      "2018-02-15            91.210          180.50  \n",
      "2018-02-16            92.450          178.99  \n",
      "2018-02-20            91.475          175.77  \n",
      "2018-02-21            92.980          176.71  \n",
      "2018-02-22            92.050          178.70  \n",
      "2018-02-23            92.750          179.90  \n",
      "2018-02-26            94.400          184.58  \n",
      "2018-02-27            95.740          184.45  \n",
      "2018-02-28            94.840          182.30  \n",
      "2018-03-01            93.990          179.01  \n",
      "2018-03-02            91.580          173.29  \n",
      "2018-03-05            92.340          176.20  \n",
      "2018-03-06            94.340          181.78  \n",
      "2018-03-07            93.160          178.74  \n",
      "2018-03-08            94.270          183.56  \n",
      "2018-03-09            95.290          183.91  \n",
      "2018-03-12            96.500          185.23  \n",
      "2018-03-13            97.000          185.61  \n",
      "2018-03-14            95.120          182.60  \n",
      "2018-03-15            93.530          183.24  \n",
      "2018-03-16            94.680          184.49  \n",
      "2018-03-19            93.740          177.01  \n",
      "2018-03-20            93.050          167.47  \n",
      "2018-03-21            92.930          164.80  \n",
      "2018-03-22            91.265          166.13  \n",
      "2018-03-23            89.500          165.44  \n",
      "2018-03-26            90.610          160.82  \n",
      "2018-03-27            94.940          156.31  \n",
      "\n",
      "[14156 rows x 5 columns]\n"
     ]
    }
   ],
   "source": [
    "print(new_data)"
   ]
  },
  {
   "cell_type": "code",
   "execution_count": 83,
   "metadata": {},
   "outputs": [
    {
     "data": {
      "text/plain": [
       "<matplotlib.axes._subplots.AxesSubplot at 0x25848487278>"
      ]
     },
     "execution_count": 83,
     "metadata": {},
     "output_type": "execute_result"
    },
    {
     "data": {
      "image/png": "[encoded data removed]",
      "text/plain": [
       "<Figure size 432x288 with 1 Axes>"
      ]
     },
     "metadata": {},
     "output_type": "display_data"
    }
   ],
   "source": [
    "new_data.plot()"
   ]
  },
  {
   "cell_type": "markdown",
   "metadata": {},
   "source": [
    "Problem_3_Stockplotter_2"
   ]
  },
  {
   "cell_type": "code",
   "execution_count": 84,
   "metadata": {},
   "outputs": [],
   "source": [
    "def stockplotter(i):\n",
    "    return plt.plot(quandl.get(\"WIKI/\" + i, auth_token=\"69_Sw54e1gkoffppN2Kq\").Open)"
   ]
  },
  {
   "cell_type": "code",
   "execution_count": 85,
   "metadata": {},
   "outputs": [
    {
     "data": {
      "text/plain": [
       "[<matplotlib.lines.Line2D at 0x258481ad470>]"
      ]
     },
     "execution_count": 85,
     "metadata": {},
     "output_type": "execute_result"
    },
    {
     "data": {
      "image/png": "[encoded data removed]",
      "text/plain": [
       "<Figure size 432x288 with 1 Axes>"
      ]
     },
     "metadata": {},
     "output_type": "display_data"
    }
   ],
   "source": [
    "stockplotter(\"GOOGL\")"
   ]
  },
  {
   "cell_type": "markdown",
   "metadata": {},
   "source": [
    "Problem_4_Listpop"
   ]
  },
  {
   "cell_type": "code",
   "execution_count": 86,
   "metadata": {},
   "outputs": [
    {
     "name": "stdout",
     "output_type": "stream",
     "text": [
      "['AAPL', 'GOOGL', 'IBM', 'MSFT']\n",
      "['AAPL', 'GOOGL', 'IBM']\n",
      "['AAPL', 'GOOGL']\n",
      "['AAPL']\n",
      "[]\n"
     ]
    }
   ],
   "source": [
    "stocks_list=[\"AAPL\",\"GOOGL\", \"IBM\", \"MSFT\", \"FB\"]\n",
    "i=0\n",
    "while i<len(stocks_list):\n",
    "    stocks_list.pop()\n",
    "    print(stocks_list)"
   ]
  },
  {
   "cell_type": "markdown",
   "metadata": {},
   "source": [
    "Problem_5_NumLength"
   ]
  },
  {
   "cell_type": "code",
   "execution_count": 87,
   "metadata": {},
   "outputs": [
    {
     "name": "stdout",
     "output_type": "stream",
     "text": [
      "[1, 9, 7, 0]\n",
      "[12, 74, 55, 97]\n",
      "[123, 676]\n",
      "[6666, 8520, 4587, 99999]\n"
     ]
    }
   ],
   "source": [
    "p_int=[123, 12, 1, 6666, 74, 55, 676, 9, 8520, 7, 97, 4587, 0, 99999]\n",
    "one_digit_list=[]\n",
    "two_digit_list=[]\n",
    "three_digit_list=[]\n",
    "mult_digit_list=[]\n",
    "for i in p_int:\n",
    "    if len(str(i))==1:\n",
    "        one_digit_list.append(i)\n",
    "    elif len(str(i))==2:\n",
    "        two_digit_list.append(i)\n",
    "    elif len(str(i))==3:\n",
    "        three_digit_list.append(i)\n",
    "    else:\n",
    "        mult_digit_list.append(i)\n",
    "print(one_digit_list)\n",
    "print(two_digit_list)\n",
    "print(three_digit_list)\n",
    "print(mult_digit_list)"
   ]
  },
  {
   "cell_type": "markdown",
   "metadata": {},
   "source": [
    "Problem_6_Superify"
   ]
  },
  {
   "cell_type": "code",
   "execution_count": 88,
   "metadata": {},
   "outputs": [
    {
     "name": "stdout",
     "output_type": "stream",
     "text": [
      "Super woman\n",
      "Superhome\n",
      "Super knowledge\n",
      "Superbowl\n",
      "Superdog\n"
     ]
    }
   ],
   "source": [
    "i=0\n",
    "\n",
    "while i<len(list_1):\n",
    "    if len(list_1[i])<=4:\n",
    "        print(\"Super\" + list_1[i])\n",
    "        i=i+1\n",
    "    elif len(list_1[i])>4:\n",
    "        print(\"Super \" + list_1[i])\n",
    "        i=i+1"
   ]
  },
  {
   "cell_type": "markdown",
   "metadata": {},
   "source": [
    "Problem_7_Descriptive_Analytics"
   ]
  },
  {
   "cell_type": "markdown",
   "metadata": {},
   "source": [
    "7.1"
   ]
  },
  {
   "cell_type": "code",
   "execution_count": 89,
   "metadata": {},
   "outputs": [
    {
     "data": {
      "text/plain": [
       "<matplotlib.axes._subplots.AxesSubplot at 0x258480877b8>"
      ]
     },
     "execution_count": 89,
     "metadata": {},
     "output_type": "execute_result"
    },
    {
     "data": {
      "image/png": "[encoded data removed]",
      "text/plain": [
       "<Figure size 432x288 with 1 Axes>"
      ]
     },
     "metadata": {},
     "output_type": "display_data"
    }
   ],
   "source": [
    "u_rate= quandl.get(\"FRED/SLUEM1524ZSARM\", auth_token=\"69_Sw54e1gkoffppN2Kq\")\n",
    "u_rate.plot()"
   ]
  },
  {
   "cell_type": "markdown",
   "metadata": {},
   "source": [
    "7.2"
   ]
  },
  {
   "cell_type": "code",
   "execution_count": 90,
   "metadata": {},
   "outputs": [
    {
     "data": {
      "text/html": [
       "<div>\n",
       "<style scoped>\n",
       "    .dataframe tbody tr th:only-of-type {\n",
       "        vertical-align: middle;\n",
       "    }\n",
       "\n",
       "    .dataframe tbody tr th {\n",
       "        vertical-align: top;\n",
       "    }\n",
       "\n",
       "    .dataframe thead th {\n",
       "        text-align: right;\n",
       "    }\n",
       "</style>\n",
       "<table border=\"1\" class=\"dataframe\">\n",
       "  <thead>\n",
       "    <tr style=\"text-align: right;\">\n",
       "      <th></th>\n",
       "      <th>Value</th>\n",
       "    </tr>\n",
       "    <tr>\n",
       "      <th>Date</th>\n",
       "      <th></th>\n",
       "    </tr>\n",
       "  </thead>\n",
       "  <tbody>\n",
       "    <tr>\n",
       "      <th>2013-01-01</th>\n",
       "      <td>35.938000</td>\n",
       "    </tr>\n",
       "    <tr>\n",
       "      <th>2014-01-01</th>\n",
       "      <td>36.931999</td>\n",
       "    </tr>\n",
       "    <tr>\n",
       "      <th>2015-01-01</th>\n",
       "      <td>31.886999</td>\n",
       "    </tr>\n",
       "    <tr>\n",
       "      <th>2016-01-01</th>\n",
       "      <td>38.608002</td>\n",
       "    </tr>\n",
       "    <tr>\n",
       "      <th>2017-01-01</th>\n",
       "      <td>39.041000</td>\n",
       "    </tr>\n",
       "  </tbody>\n",
       "</table>\n",
       "</div>"
      ],
      "text/plain": [
       "                Value\n",
       "Date                 \n",
       "2013-01-01  35.938000\n",
       "2014-01-01  36.931999\n",
       "2015-01-01  31.886999\n",
       "2016-01-01  38.608002\n",
       "2017-01-01  39.041000"
      ]
     },
     "execution_count": 90,
     "metadata": {},
     "output_type": "execute_result"
    }
   ],
   "source": [
    "u_rate.tail(5)"
   ]
  },
  {
   "cell_type": "code",
   "execution_count": 91,
   "metadata": {},
   "outputs": [
    {
     "data": {
      "text/plain": [
       "<matplotlib.axes._subplots.AxesSubplot at 0x258480b7550>"
      ]
     },
     "execution_count": 91,
     "metadata": {},
     "output_type": "execute_result"
    },
    {
     "data": {
      "image/png": "[encoded data removed]",
      "text/plain": [
       "<Figure size 432x288 with 1 Axes>"
      ]
     },
     "metadata": {},
     "output_type": "display_data"
    }
   ],
   "source": [
    "u_rate.Value.pct_change().plot()"
   ]
  },
  {
   "cell_type": "markdown",
   "metadata": {},
   "source": [
    "7.3"
   ]
  },
  {
   "cell_type": "code",
   "execution_count": 92,
   "metadata": {},
   "outputs": [
    {
     "data": {
      "text/html": [
       "<div>\n",
       "<style scoped>\n",
       "    .dataframe tbody tr th:only-of-type {\n",
       "        vertical-align: middle;\n",
       "    }\n",
       "\n",
       "    .dataframe tbody tr th {\n",
       "        vertical-align: top;\n",
       "    }\n",
       "\n",
       "    .dataframe thead th {\n",
       "        text-align: right;\n",
       "    }\n",
       "</style>\n",
       "<table border=\"1\" class=\"dataframe\">\n",
       "  <thead>\n",
       "    <tr style=\"text-align: right;\">\n",
       "      <th></th>\n",
       "      <th>Value</th>\n",
       "    </tr>\n",
       "    <tr>\n",
       "      <th>Date</th>\n",
       "      <th></th>\n",
       "    </tr>\n",
       "  </thead>\n",
       "  <tbody>\n",
       "    <tr>\n",
       "      <th>2001-01-01</th>\n",
       "      <td>21.724001</td>\n",
       "    </tr>\n",
       "  </tbody>\n",
       "</table>\n",
       "</div>"
      ],
      "text/plain": [
       "                Value\n",
       "Date                 \n",
       "2001-01-01  21.724001"
      ]
     },
     "execution_count": 92,
     "metadata": {},
     "output_type": "execute_result"
    }
   ],
   "source": [
    "u_rate[\"2001\"]"
   ]
  },
  {
   "cell_type": "markdown",
   "metadata": {},
   "source": [
    "7.4"
   ]
  },
  {
   "cell_type": "code",
   "execution_count": 93,
   "metadata": {},
   "outputs": [
    {
     "data": {
      "text/plain": [
       "Value    40.818001\n",
       "dtype: float64"
      ]
     },
     "execution_count": 93,
     "metadata": {},
     "output_type": "execute_result"
    }
   ],
   "source": [
    "u_rate.max()"
   ]
  },
  {
   "cell_type": "code",
   "execution_count": 94,
   "metadata": {},
   "outputs": [
    {
     "data": {
      "text/plain": [
       "Value   2009-01-01\n",
       "dtype: datetime64[ns]"
      ]
     },
     "execution_count": 94,
     "metadata": {},
     "output_type": "execute_result"
    }
   ],
   "source": [
    "u_rate.idxmax()"
   ]
  },
  {
   "cell_type": "markdown",
   "metadata": {},
   "source": [
    "7.5"
   ]
  },
  {
   "cell_type": "code",
   "execution_count": 95,
   "metadata": {},
   "outputs": [
    {
     "data": {
      "text/html": [
       "<div>\n",
       "<style scoped>\n",
       "    .dataframe tbody tr th:only-of-type {\n",
       "        vertical-align: middle;\n",
       "    }\n",
       "\n",
       "    .dataframe tbody tr th {\n",
       "        vertical-align: top;\n",
       "    }\n",
       "\n",
       "    .dataframe thead th {\n",
       "        text-align: right;\n",
       "    }\n",
       "</style>\n",
       "<table border=\"1\" class=\"dataframe\">\n",
       "  <thead>\n",
       "    <tr style=\"text-align: right;\">\n",
       "      <th></th>\n",
       "      <th>Value</th>\n",
       "    </tr>\n",
       "  </thead>\n",
       "  <tbody>\n",
       "    <tr>\n",
       "      <th>count</th>\n",
       "      <td>27.000000</td>\n",
       "    </tr>\n",
       "    <tr>\n",
       "      <th>mean</th>\n",
       "      <td>24.942815</td>\n",
       "    </tr>\n",
       "    <tr>\n",
       "      <th>std</th>\n",
       "      <td>10.865576</td>\n",
       "    </tr>\n",
       "    <tr>\n",
       "      <th>min</th>\n",
       "      <td>3.866000</td>\n",
       "    </tr>\n",
       "    <tr>\n",
       "      <th>25%</th>\n",
       "      <td>18.662000</td>\n",
       "    </tr>\n",
       "    <tr>\n",
       "      <th>50%</th>\n",
       "      <td>22.882000</td>\n",
       "    </tr>\n",
       "    <tr>\n",
       "      <th>75%</th>\n",
       "      <td>35.676500</td>\n",
       "    </tr>\n",
       "    <tr>\n",
       "      <th>max</th>\n",
       "      <td>40.818001</td>\n",
       "    </tr>\n",
       "  </tbody>\n",
       "</table>\n",
       "</div>"
      ],
      "text/plain": [
       "           Value\n",
       "count  27.000000\n",
       "mean   24.942815\n",
       "std    10.865576\n",
       "min     3.866000\n",
       "25%    18.662000\n",
       "50%    22.882000\n",
       "75%    35.676500\n",
       "max    40.818001"
      ]
     },
     "execution_count": 95,
     "metadata": {},
     "output_type": "execute_result"
    }
   ],
   "source": [
    "u_rate.describe()"
   ]
  },
  {
   "cell_type": "code",
   "execution_count": 96,
   "metadata": {},
   "outputs": [
    {
     "data": {
      "text/plain": [
       "Value    24.942815\n",
       "dtype: float64"
      ]
     },
     "execution_count": 96,
     "metadata": {},
     "output_type": "execute_result"
    }
   ],
   "source": [
    "u_rate.mean()"
   ]
  },
  {
   "cell_type": "code",
   "execution_count": 97,
   "metadata": {},
   "outputs": [
    {
     "data": {
      "text/html": [
       "<div>\n",
       "<style scoped>\n",
       "    .dataframe tbody tr th:only-of-type {\n",
       "        vertical-align: middle;\n",
       "    }\n",
       "\n",
       "    .dataframe tbody tr th {\n",
       "        vertical-align: top;\n",
       "    }\n",
       "\n",
       "    .dataframe thead th {\n",
       "        text-align: right;\n",
       "    }\n",
       "</style>\n",
       "<table border=\"1\" class=\"dataframe\">\n",
       "  <thead>\n",
       "    <tr style=\"text-align: right;\">\n",
       "      <th></th>\n",
       "      <th>Value</th>\n",
       "    </tr>\n",
       "  </thead>\n",
       "  <tbody>\n",
       "    <tr>\n",
       "      <th>0</th>\n",
       "      <td>20</td>\n",
       "    </tr>\n",
       "    <tr>\n",
       "      <th>1</th>\n",
       "      <td>21</td>\n",
       "    </tr>\n",
       "  </tbody>\n",
       "</table>\n",
       "</div>"
      ],
      "text/plain": [
       "   Value\n",
       "0     20\n",
       "1     21"
      ]
     },
     "execution_count": 97,
     "metadata": {},
     "output_type": "execute_result"
    }
   ],
   "source": [
    "u_rate.astype(int).mode()"
   ]
  },
  {
   "cell_type": "code",
   "execution_count": 98,
   "metadata": {},
   "outputs": [
    {
     "data": {
      "text/plain": [
       "Value    22.882\n",
       "dtype: float64"
      ]
     },
     "execution_count": 98,
     "metadata": {},
     "output_type": "execute_result"
    }
   ],
   "source": [
    "u_rate.median()"
   ]
  },
  {
   "cell_type": "markdown",
   "metadata": {},
   "source": [
    "Problem_8_Describtive_Analytics_2"
   ]
  },
  {
   "cell_type": "code",
   "execution_count": 128,
   "metadata": {},
   "outputs": [],
   "source": [
    "mprice=quandl.get(\"ZILLOW/C25499_MLPFAH\", auth_token=\"69_Sw54e1gkoffppN2Kq\")"
   ]
  },
  {
   "cell_type": "code",
   "execution_count": 129,
   "metadata": {},
   "outputs": [
    {
     "data": {
      "text/html": [
       "<div>\n",
       "<style scoped>\n",
       "    .dataframe tbody tr th:only-of-type {\n",
       "        vertical-align: middle;\n",
       "    }\n",
       "\n",
       "    .dataframe tbody tr th {\n",
       "        vertical-align: top;\n",
       "    }\n",
       "\n",
       "    .dataframe thead th {\n",
       "        text-align: right;\n",
       "    }\n",
       "</style>\n",
       "<table border=\"1\" class=\"dataframe\">\n",
       "  <thead>\n",
       "    <tr style=\"text-align: right;\">\n",
       "      <th></th>\n",
       "      <th>Value</th>\n",
       "    </tr>\n",
       "  </thead>\n",
       "  <tbody>\n",
       "    <tr>\n",
       "      <th>count</th>\n",
       "      <td>60.000000</td>\n",
       "    </tr>\n",
       "    <tr>\n",
       "      <th>mean</th>\n",
       "      <td>156.845314</td>\n",
       "    </tr>\n",
       "    <tr>\n",
       "      <th>std</th>\n",
       "      <td>10.257480</td>\n",
       "    </tr>\n",
       "    <tr>\n",
       "      <th>min</th>\n",
       "      <td>142.410714</td>\n",
       "    </tr>\n",
       "    <tr>\n",
       "      <th>25%</th>\n",
       "      <td>149.107143</td>\n",
       "    </tr>\n",
       "    <tr>\n",
       "      <th>50%</th>\n",
       "      <td>152.957085</td>\n",
       "    </tr>\n",
       "    <tr>\n",
       "      <th>75%</th>\n",
       "      <td>165.719697</td>\n",
       "    </tr>\n",
       "    <tr>\n",
       "      <th>max</th>\n",
       "      <td>185.380865</td>\n",
       "    </tr>\n",
       "  </tbody>\n",
       "</table>\n",
       "</div>"
      ],
      "text/plain": [
       "            Value\n",
       "count   60.000000\n",
       "mean   156.845314\n",
       "std     10.257480\n",
       "min    142.410714\n",
       "25%    149.107143\n",
       "50%    152.957085\n",
       "75%    165.719697\n",
       "max    185.380865"
      ]
     },
     "execution_count": 129,
     "metadata": {},
     "output_type": "execute_result"
    }
   ],
   "source": [
    "mprice.describe()"
   ]
  },
  {
   "cell_type": "markdown",
   "metadata": {},
   "source": [
    "8.1"
   ]
  },
  {
   "cell_type": "code",
   "execution_count": 130,
   "metadata": {},
   "outputs": [
    {
     "data": {
      "text/plain": [
       "13"
      ]
     },
     "execution_count": 130,
     "metadata": {},
     "output_type": "execute_result"
    }
   ],
   "source": [
    "condition1 = mprice.Value <170\n",
    "condition2 = mprice.Value >160\n",
    "len(mprice[condition1 & condition2])"
   ]
  },
  {
   "cell_type": "markdown",
   "metadata": {},
   "source": [
    "8.2"
   ]
  },
  {
   "cell_type": "code",
   "execution_count": 131,
   "metadata": {},
   "outputs": [
    {
     "data": {
      "text/plain": [
       "Text(0.5,1,'Monthly median property price in Armenia')"
      ]
     },
     "execution_count": 131,
     "metadata": {},
     "output_type": "execute_result"
    },
    {
     "data": {
      "image/png": "[encoded data removed]",
      "text/plain": [
       "<Figure size 432x288 with 1 Axes>"
      ]
     },
     "metadata": {},
     "output_type": "display_data"
    }
   ],
   "source": [
    "mprice.hist(bins=15, color=\"red\", alpha=0.654)\n",
    "plt.xlabel(\"The name of x axis\")\n",
    "plt.ylabel(\"The name of y axis\")\n",
    "plt.title(\"Monthly median property price in Armenia\")"
   ]
  },
  {
   "cell_type": "markdown",
   "metadata": {},
   "source": [
    "8.3 and 8.4"
   ]
  },
  {
   "cell_type": "code",
   "execution_count": 132,
   "metadata": {},
   "outputs": [],
   "source": [
    "def classifier(x):\n",
    "    if x>=170:\n",
    "        return \"High\"\n",
    "    elif 160<x<170:\n",
    "        return \"Medium\"\n",
    "    else:\n",
    "        return \"Low\""
   ]
  },
  {
   "cell_type": "code",
   "execution_count": 133,
   "metadata": {},
   "outputs": [
    {
     "name": "stdout",
     "output_type": "stream",
     "text": [
      "                 Value   Class\n",
      "Date                          \n",
      "2013-04-30  178.571429    High\n",
      "2013-05-31  178.571429    High\n",
      "2013-06-30  185.380865    High\n",
      "2013-07-31  176.747442    High\n",
      "2013-08-31  166.666667  Medium\n",
      "2013-09-30  167.599502  Medium\n",
      "2013-10-31  169.025157  Medium\n",
      "2013-11-30  160.929092  Medium\n",
      "2013-12-31  165.282392  Medium\n",
      "2014-01-31  167.153775  Medium\n",
      "2014-02-28  166.666667  Medium\n",
      "2014-03-31  172.686604    High\n",
      "2014-04-30  172.207447    High\n",
      "2014-05-31  161.466408  Medium\n",
      "2014-06-30  156.976744     Low\n",
      "2014-07-31  142.410714     Low\n",
      "2014-08-31  144.152523     Low\n",
      "2014-09-30  145.656780     Low\n",
      "2014-10-31  150.291745     Low\n",
      "2014-11-30  152.343542     Low\n",
      "2014-12-31  152.343542     Low\n",
      "2015-01-31  150.387968     Low\n",
      "2015-02-28  154.441006     Low\n",
      "2015-03-31  157.130952     Low\n",
      "2015-04-30  154.761905     Low\n",
      "2015-05-31  149.999583     Low\n",
      "2015-06-30  148.054146     Low\n",
      "2015-07-31  152.357673     Low\n",
      "2015-08-31  148.054146     Low\n",
      "2015-09-30  154.715762     Low\n",
      "2015-10-31  165.719697  Medium\n",
      "2015-11-30  165.719697  Medium\n",
      "2015-12-31  158.990168     Low\n",
      "2016-01-31  158.990168     Low\n",
      "2016-02-29  146.204168     Low\n",
      "2016-03-31  148.255814     Low\n",
      "2016-04-30  145.340150     Low\n",
      "2016-05-31  144.152523     Low\n",
      "2016-06-30  144.152523     Low\n",
      "2016-07-31  153.556496     Low\n",
      "2016-08-31  157.471093     Low\n",
      "2016-09-30  166.272727  Medium\n",
      "2016-10-31  171.289349    High\n",
      "2016-11-30  166.272727  Medium\n",
      "2016-12-31  164.085821  Medium\n",
      "2017-01-31  155.586081     Low\n",
      "2017-02-28  149.224486     Low\n",
      "2017-03-31  149.107143     Low\n",
      "2017-04-30  151.785714     Low\n",
      "2017-05-31  149.107143     Low\n",
      "2017-06-30  151.903057     Low\n",
      "2017-07-31  151.903057     Low\n",
      "2017-08-31  152.020400     Low\n",
      "2017-09-30  151.477833     Low\n",
      "2017-10-31  145.813048     Low\n",
      "2017-11-30  150.843468     Low\n",
      "2017-12-31  146.829969     Low\n",
      "2018-01-31  147.846890     Low\n",
      "2018-02-28  150.843468     Low\n",
      "2018-03-31  146.920361     Low\n"
     ]
    }
   ],
   "source": [
    "mprice[\"Class\"] = mprice.Value.apply(classifier)\n",
    "print(mprice)"
   ]
  },
  {
   "cell_type": "markdown",
   "metadata": {},
   "source": [
    "8.5"
   ]
  },
  {
   "cell_type": "code",
   "execution_count": 134,
   "metadata": {},
   "outputs": [],
   "source": [
    "mp_pivot = pd.pivot_table(mprice, values= \"Value\", columns = \"Class\", aggfunc=\"std\")"
   ]
  },
  {
   "cell_type": "code",
   "execution_count": 135,
   "metadata": {},
   "outputs": [
    {
     "data": {
      "text/html": [
       "<div>\n",
       "<style scoped>\n",
       "    .dataframe tbody tr th:only-of-type {\n",
       "        vertical-align: middle;\n",
       "    }\n",
       "\n",
       "    .dataframe tbody tr th {\n",
       "        vertical-align: top;\n",
       "    }\n",
       "\n",
       "    .dataframe thead th {\n",
       "        text-align: right;\n",
       "    }\n",
       "</style>\n",
       "<table border=\"1\" class=\"dataframe\">\n",
       "  <thead>\n",
       "    <tr style=\"text-align: right;\">\n",
       "      <th>Class</th>\n",
       "      <th>High</th>\n",
       "      <th>Low</th>\n",
       "      <th>Medium</th>\n",
       "    </tr>\n",
       "  </thead>\n",
       "  <tbody>\n",
       "    <tr>\n",
       "      <th>Value</th>\n",
       "      <td>4.960363</td>\n",
       "      <td>4.28923</td>\n",
       "      <td>2.284924</td>\n",
       "    </tr>\n",
       "  </tbody>\n",
       "</table>\n",
       "</div>"
      ],
      "text/plain": [
       "Class      High      Low    Medium\n",
       "Value  4.960363  4.28923  2.284924"
      ]
     },
     "execution_count": 135,
     "metadata": {},
     "output_type": "execute_result"
    }
   ],
   "source": [
    "mp_pivot"
   ]
  },
  {
   "cell_type": "markdown",
   "metadata": {},
   "source": [
    "or"
   ]
  },
  {
   "cell_type": "code",
   "execution_count": 138,
   "metadata": {},
   "outputs": [],
   "source": [
    " mp_pivot = pd.pivot_table(mprice, values= \"Value\", index = \"Class\", aggfunc=\"std\")"
   ]
  },
  {
   "cell_type": "code",
   "execution_count": 139,
   "metadata": {},
   "outputs": [
    {
     "data": {
      "text/html": [
       "<div>\n",
       "<style scoped>\n",
       "    .dataframe tbody tr th:only-of-type {\n",
       "        vertical-align: middle;\n",
       "    }\n",
       "\n",
       "    .dataframe tbody tr th {\n",
       "        vertical-align: top;\n",
       "    }\n",
       "\n",
       "    .dataframe thead th {\n",
       "        text-align: right;\n",
       "    }\n",
       "</style>\n",
       "<table border=\"1\" class=\"dataframe\">\n",
       "  <thead>\n",
       "    <tr style=\"text-align: right;\">\n",
       "      <th></th>\n",
       "      <th>Value</th>\n",
       "    </tr>\n",
       "    <tr>\n",
       "      <th>Class</th>\n",
       "      <th></th>\n",
       "    </tr>\n",
       "  </thead>\n",
       "  <tbody>\n",
       "    <tr>\n",
       "      <th>High</th>\n",
       "      <td>4.960363</td>\n",
       "    </tr>\n",
       "    <tr>\n",
       "      <th>Low</th>\n",
       "      <td>4.289230</td>\n",
       "    </tr>\n",
       "    <tr>\n",
       "      <th>Medium</th>\n",
       "      <td>2.284924</td>\n",
       "    </tr>\n",
       "  </tbody>\n",
       "</table>\n",
       "</div>"
      ],
      "text/plain": [
       "           Value\n",
       "Class           \n",
       "High    4.960363\n",
       "Low     4.289230\n",
       "Medium  2.284924"
      ]
     },
     "execution_count": 139,
     "metadata": {},
     "output_type": "execute_result"
    }
   ],
   "source": [
    "mp_pivot"
   ]
  },
  {
   "cell_type": "code",
   "execution_count": null,
   "metadata": {},
   "outputs": [],
   "source": []
  }
 ],
 "metadata": {
  "kernelspec": {
   "display_name": "Python 3",
   "language": "python",
   "name": "python3"
  },
  "language_info": {
   "codemirror_mode": {
    "name": "ipython",
    "version": 3
   },
   "file_extension": ".py",
   "mimetype": "text/x-python",
   "name": "python",
   "nbconvert_exporter": "python",
   "pygments_lexer": "ipython3",
   "version": "3.6.5"
  }
 },
 "nbformat": 4,
 "nbformat_minor": 2
}
