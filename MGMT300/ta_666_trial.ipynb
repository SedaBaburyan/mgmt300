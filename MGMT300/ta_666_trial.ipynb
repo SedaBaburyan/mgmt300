{
 "cells": [
  {
   "cell_type": "code",
   "execution_count": 1,
   "metadata": {},
   "outputs": [],
   "source": [
    "import numpy as np\n",
    "import matplotlib.pyplot as plt\n",
    "import pandas as pd\n",
    "import quandl\n",
    "import seaborn as sns"
   ]
  },
  {
   "cell_type": "code",
   "execution_count": 8,
   "metadata": {},
   "outputs": [],
   "source": [
    "def avg(a,b,c):\n",
    "    return (a+b+c)/3"
   ]
  },
  {
   "cell_type": "code",
   "execution_count": 9,
   "metadata": {},
   "outputs": [
    {
     "data": {
      "text/plain": [
       "16.0"
      ]
     },
     "execution_count": 9,
     "metadata": {},
     "output_type": "execute_result"
    }
   ],
   "source": [
    "avg(10,15,23)"
   ]
  },
  {
   "cell_type": "code",
   "execution_count": 23,
   "metadata": {},
   "outputs": [],
   "source": [
    "name_list = [\"Jack\", \"James\", \"Alice\",\n",
    "            \"Jimmy\", \"John\", \"Andrea\",\n",
    "            \"Joshua\", \"Jonathan\", \"Anastasia\" ]"
   ]
  },
  {
   "cell_type": "code",
   "execution_count": 24,
   "metadata": {},
   "outputs": [
    {
     "name": "stdout",
     "output_type": "stream",
     "text": [
      "Alice\n",
      "Andrea\n",
      "Anastasia\n"
     ]
    }
   ],
   "source": [
    "for i in range(len(name_list)):\n",
    "    if i%3==2:\n",
    "        print(name_list[i])"
   ]
  },
  {
   "cell_type": "code",
   "execution_count": 25,
   "metadata": {},
   "outputs": [
    {
     "name": "stdout",
     "output_type": "stream",
     "text": [
      "Jack\n",
      "Jimmy\n",
      "Joshua\n"
     ]
    }
   ],
   "source": [
    "for i in range(len(name_list)):\n",
    "    if i%3==0:\n",
    "        print(name_list[i])"
   ]
  },
  {
   "cell_type": "code",
   "execution_count": 28,
   "metadata": {},
   "outputs": [
    {
     "name": "stdout",
     "output_type": "stream",
     "text": [
      "James\n",
      "John\n",
      "Jonathan\n"
     ]
    }
   ],
   "source": [
    "for i in range(len(name_list)):\n",
    "    if i%3==1:\n",
    "        print(name_list[i])"
   ]
  },
  {
   "cell_type": "code",
   "execution_count": 29,
   "metadata": {},
   "outputs": [
    {
     "name": "stdout",
     "output_type": "stream",
     "text": [
      "Alice\n",
      "Andrea\n",
      "Anastasia\n"
     ]
    }
   ],
   "source": [
    "i=2\n",
    "while i<len(name_list):\n",
    "    print(name_list[i])\n",
    "    i=i+3"
   ]
  },
  {
   "cell_type": "code",
   "execution_count": 31,
   "metadata": {},
   "outputs": [
    {
     "name": "stdout",
     "output_type": "stream",
     "text": [
      "James\n",
      "Alice\n",
      "Jimmy\n",
      "John\n",
      "Andrea\n",
      "Joshua\n",
      "Jonathan\n",
      "Anastasia\n"
     ]
    }
   ],
   "source": [
    "i=1\n",
    "while i<len(name_list):\n",
    "    print(name_list[i])\n",
    "    i=i+1"
   ]
  },
  {
   "cell_type": "code",
   "execution_count": 32,
   "metadata": {},
   "outputs": [],
   "source": [
    "data = quandl.get(\"EOD/NKE\", auth_token= \"69_Sw54e1gkoffppN2Kq\")"
   ]
  },
  {
   "cell_type": "code",
   "execution_count": 33,
   "metadata": {},
   "outputs": [
    {
     "data": {
      "text/html": [
       "<div>\n",
       "<style scoped>\n",
       "    .dataframe tbody tr th:only-of-type {\n",
       "        vertical-align: middle;\n",
       "    }\n",
       "\n",
       "    .dataframe tbody tr th {\n",
       "        vertical-align: top;\n",
       "    }\n",
       "\n",
       "    .dataframe thead th {\n",
       "        text-align: right;\n",
       "    }\n",
       "</style>\n",
       "<table border=\"1\" class=\"dataframe\">\n",
       "  <thead>\n",
       "    <tr style=\"text-align: right;\">\n",
       "      <th></th>\n",
       "      <th>Open</th>\n",
       "      <th>High</th>\n",
       "      <th>Low</th>\n",
       "      <th>Close</th>\n",
       "      <th>Volume</th>\n",
       "      <th>Dividend</th>\n",
       "      <th>Split</th>\n",
       "      <th>Adj_Open</th>\n",
       "      <th>Adj_High</th>\n",
       "      <th>Adj_Low</th>\n",
       "      <th>Adj_Close</th>\n",
       "      <th>Adj_Volume</th>\n",
       "    </tr>\n",
       "    <tr>\n",
       "      <th>Date</th>\n",
       "      <th></th>\n",
       "      <th></th>\n",
       "      <th></th>\n",
       "      <th></th>\n",
       "      <th></th>\n",
       "      <th></th>\n",
       "      <th></th>\n",
       "      <th></th>\n",
       "      <th></th>\n",
       "      <th></th>\n",
       "      <th></th>\n",
       "      <th></th>\n",
       "    </tr>\n",
       "  </thead>\n",
       "  <tbody>\n",
       "    <tr>\n",
       "      <th>1980-12-02</th>\n",
       "      <td>11.50</td>\n",
       "      <td>11.75</td>\n",
       "      <td>11.50</td>\n",
       "      <td>11.50</td>\n",
       "      <td>786800.0</td>\n",
       "      <td>0.0</td>\n",
       "      <td>1.0</td>\n",
       "      <td>0.060812</td>\n",
       "      <td>0.062134</td>\n",
       "      <td>0.060812</td>\n",
       "      <td>0.060812</td>\n",
       "      <td>100710400.0</td>\n",
       "    </tr>\n",
       "    <tr>\n",
       "      <th>1980-12-03</th>\n",
       "      <td>11.38</td>\n",
       "      <td>11.38</td>\n",
       "      <td>11.25</td>\n",
       "      <td>11.25</td>\n",
       "      <td>196700.0</td>\n",
       "      <td>0.0</td>\n",
       "      <td>1.0</td>\n",
       "      <td>0.060177</td>\n",
       "      <td>0.060177</td>\n",
       "      <td>0.059490</td>\n",
       "      <td>0.059490</td>\n",
       "      <td>25177600.0</td>\n",
       "    </tr>\n",
       "    <tr>\n",
       "      <th>1980-12-04</th>\n",
       "      <td>11.62</td>\n",
       "      <td>11.75</td>\n",
       "      <td>11.62</td>\n",
       "      <td>11.62</td>\n",
       "      <td>177300.0</td>\n",
       "      <td>0.0</td>\n",
       "      <td>1.0</td>\n",
       "      <td>0.061446</td>\n",
       "      <td>0.062134</td>\n",
       "      <td>0.061446</td>\n",
       "      <td>0.061446</td>\n",
       "      <td>22694400.0</td>\n",
       "    </tr>\n",
       "    <tr>\n",
       "      <th>1980-12-05</th>\n",
       "      <td>11.25</td>\n",
       "      <td>11.25</td>\n",
       "      <td>11.00</td>\n",
       "      <td>11.00</td>\n",
       "      <td>59300.0</td>\n",
       "      <td>0.0</td>\n",
       "      <td>1.0</td>\n",
       "      <td>0.059490</td>\n",
       "      <td>0.059490</td>\n",
       "      <td>0.058168</td>\n",
       "      <td>0.058168</td>\n",
       "      <td>7590400.0</td>\n",
       "    </tr>\n",
       "    <tr>\n",
       "      <th>1980-12-08</th>\n",
       "      <td>10.50</td>\n",
       "      <td>10.50</td>\n",
       "      <td>10.38</td>\n",
       "      <td>10.38</td>\n",
       "      <td>42300.0</td>\n",
       "      <td>0.0</td>\n",
       "      <td>1.0</td>\n",
       "      <td>0.055524</td>\n",
       "      <td>0.055524</td>\n",
       "      <td>0.054889</td>\n",
       "      <td>0.054889</td>\n",
       "      <td>5414400.0</td>\n",
       "    </tr>\n",
       "  </tbody>\n",
       "</table>\n",
       "</div>"
      ],
      "text/plain": [
       "             Open   High    Low  Close    Volume  Dividend  Split  Adj_Open  \\\n",
       "Date                                                                          \n",
       "1980-12-02  11.50  11.75  11.50  11.50  786800.0       0.0    1.0  0.060812   \n",
       "1980-12-03  11.38  11.38  11.25  11.25  196700.0       0.0    1.0  0.060177   \n",
       "1980-12-04  11.62  11.75  11.62  11.62  177300.0       0.0    1.0  0.061446   \n",
       "1980-12-05  11.25  11.25  11.00  11.00   59300.0       0.0    1.0  0.059490   \n",
       "1980-12-08  10.50  10.50  10.38  10.38   42300.0       0.0    1.0  0.055524   \n",
       "\n",
       "            Adj_High   Adj_Low  Adj_Close   Adj_Volume  \n",
       "Date                                                    \n",
       "1980-12-02  0.062134  0.060812   0.060812  100710400.0  \n",
       "1980-12-03  0.060177  0.059490   0.059490   25177600.0  \n",
       "1980-12-04  0.062134  0.061446   0.061446   22694400.0  \n",
       "1980-12-05  0.059490  0.058168   0.058168    7590400.0  \n",
       "1980-12-08  0.055524  0.054889   0.054889    5414400.0  "
      ]
     },
     "execution_count": 33,
     "metadata": {},
     "output_type": "execute_result"
    }
   ],
   "source": [
    "data.head()"
   ]
  },
  {
   "cell_type": "code",
   "execution_count": 34,
   "metadata": {},
   "outputs": [
    {
     "data": {
      "text/plain": [
       "<matplotlib.axes._subplots.AxesSubplot at 0x25b9dd265c0>"
      ]
     },
     "execution_count": 34,
     "metadata": {},
     "output_type": "execute_result"
    },
    {
     "data": {
      "image/png": "[encoded data removed]",
      "text/plain": [
       "<Figure size 432x288 with 1 Axes>"
      ]
     },
     "metadata": {},
     "output_type": "display_data"
    }
   ],
   "source": [
    "data.Open.plot()"
   ]
  },
  {
   "cell_type": "code",
   "execution_count": 35,
   "metadata": {},
   "outputs": [
    {
     "name": "stderr",
     "output_type": "stream",
     "text": [
      "C:\\Users\\User\\Anaconda3\\lib\\site-packages\\matplotlib\\axes\\_axes.py:6462: UserWarning: The 'normed' kwarg is deprecated, and has been replaced by the 'density' kwarg.\n",
      "  warnings.warn(\"The 'normed' kwarg is deprecated, and has been \"\n"
     ]
    },
    {
     "data": {
      "text/plain": [
       "<matplotlib.axes._subplots.AxesSubplot at 0x25b9d6d1ac8>"
      ]
     },
     "execution_count": 35,
     "metadata": {},
     "output_type": "execute_result"
    },
    {
     "data": {
      "image/png": "[encoded data removed]",
      "text/plain": [
       "<Figure size 432x288 with 1 Axes>"
      ]
     },
     "metadata": {},
     "output_type": "display_data"
    }
   ],
   "source": [
    "sns.distplot(data.Open)"
   ]
  },
  {
   "cell_type": "code",
   "execution_count": 36,
   "metadata": {},
   "outputs": [
    {
     "data": {
      "text/plain": [
       "Open          5.533239e+01\n",
       "High          5.598620e+01\n",
       "Low           5.469651e+01\n",
       "Close         5.536248e+01\n",
       "Volume        1.968532e+06\n",
       "Dividend      2.593022e-03\n",
       "Split         1.000738e+00\n",
       "Adj_Open      1.169151e+01\n",
       "Adj_High      1.180683e+01\n",
       "Adj_Low       1.157923e+01\n",
       "Adj_Close     1.169710e+01\n",
       "Adj_Volume    1.230487e+07\n",
       "dtype: float64"
      ]
     },
     "execution_count": 36,
     "metadata": {},
     "output_type": "execute_result"
    }
   ],
   "source": [
    "data.mean()"
   ]
  },
  {
   "cell_type": "code",
   "execution_count": 37,
   "metadata": {},
   "outputs": [
    {
     "data": {
      "text/plain": [
       "Open          5.613000e+01\n",
       "High          5.688000e+01\n",
       "Low           5.544000e+01\n",
       "Close         5.614000e+01\n",
       "Volume        1.017200e+06\n",
       "Dividend      0.000000e+00\n",
       "Split         1.000000e+00\n",
       "Adj_Open      4.717074e+00\n",
       "Adj_High      4.796749e+00\n",
       "Adj_Low       4.641391e+00\n",
       "Adj_Close     4.729080e+00\n",
       "Adj_Volume    9.478400e+06\n",
       "dtype: float64"
      ]
     },
     "execution_count": 37,
     "metadata": {},
     "output_type": "execute_result"
    }
   ],
   "source": [
    "data.median()"
   ]
  },
  {
   "cell_type": "code",
   "execution_count": 39,
   "metadata": {},
   "outputs": [
    {
     "data": {
      "text/plain": [
       "0    10.0\n",
       "dtype: float64"
      ]
     },
     "execution_count": 39,
     "metadata": {},
     "output_type": "execute_result"
    }
   ],
   "source": [
    "data.Open.mode()"
   ]
  },
  {
   "cell_type": "code",
   "execution_count": 40,
   "metadata": {},
   "outputs": [
    {
     "data": {
      "text/plain": [
       "Open          1.293700e+02\n",
       "High          1.293900e+02\n",
       "Low           1.267110e+02\n",
       "Close         1.274600e+02\n",
       "Volume        4.653583e+07\n",
       "Dividend      4.200000e-01\n",
       "Split         1.000000e+00\n",
       "Adj_Open      7.871373e+01\n",
       "Adj_High      8.095310e+01\n",
       "Adj_Low       7.831442e+01\n",
       "Adj_Close     7.963442e+01\n",
       "Adj_Volume    1.572664e+08\n",
       "dtype: float64"
      ]
     },
     "execution_count": 40,
     "metadata": {},
     "output_type": "execute_result"
    }
   ],
   "source": [
    "data.max()-data.min()"
   ]
  },
  {
   "cell_type": "code",
   "execution_count": 41,
   "metadata": {},
   "outputs": [
    {
     "data": {
      "text/plain": [
       "Open          2.719164e+01\n",
       "High          2.739722e+01\n",
       "Low           2.698993e+01\n",
       "Close         2.721311e+01\n",
       "Volume        2.815751e+06\n",
       "Dividend      2.415592e-02\n",
       "Split         2.715484e-02\n",
       "Adj_Open      1.698626e+01\n",
       "Adj_High      1.712871e+01\n",
       "Adj_Low       1.684716e+01\n",
       "Adj_Close     1.699267e+01\n",
       "Adj_Volume    1.086621e+07\n",
       "dtype: float64"
      ]
     },
     "execution_count": 41,
     "metadata": {},
     "output_type": "execute_result"
    }
   ],
   "source": [
    "data.std()"
   ]
  },
  {
   "cell_type": "code",
   "execution_count": 48,
   "metadata": {},
   "outputs": [],
   "source": [
    "rate_usd=485\n",
    "rate_eur=562\n",
    "def converter(x):\n",
    "    if str(x.split(\" \")[1])==\"USD\":\n",
    "        print(str(int(x.split(\" \")[0])*rate_usd), \"AMD\")\n",
    "    elif str(x.split(\" \")[1])==\"EUR\":\n",
    "        print(str(int(x.split(\" \")[0])*rate_eur), \"AMD\")\n",
    "        \n"
   ]
  },
  {
   "cell_type": "code",
   "execution_count": 49,
   "metadata": {},
   "outputs": [
    {
     "name": "stdout",
     "output_type": "stream",
     "text": [
      "48500 AMD\n"
     ]
    }
   ],
   "source": [
    "converter(\"100 USD\")"
   ]
  },
  {
   "cell_type": "code",
   "execution_count": 50,
   "metadata": {},
   "outputs": [
    {
     "name": "stdout",
     "output_type": "stream",
     "text": [
      "562000 AMD\n"
     ]
    }
   ],
   "source": [
    "converter('1000 EUR')"
   ]
  },
  {
   "cell_type": "code",
   "execution_count": null,
   "metadata": {},
   "outputs": [],
   "source": []
  }
 ],
 "metadata": {
  "kernelspec": {
   "display_name": "Python 3",
   "language": "python",
   "name": "python3"
  },
  "language_info": {
   "codemirror_mode": {
    "name": "ipython",
    "version": 3
   },
   "file_extension": ".py",
   "mimetype": "text/x-python",
   "name": "python",
   "nbconvert_exporter": "python",
   "pygments_lexer": "ipython3",
   "version": "3.6.5"
  }
 },
 "nbformat": 4,
 "nbformat_minor": 2
}
