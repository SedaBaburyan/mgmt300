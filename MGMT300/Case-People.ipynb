








<!DOCTYPE html>
<html lang="en">

<head>
  <meta charset="utf-8">
  <title>Jupyter Notebook Viewer</title>
  <meta name="viewport" content="width=device-width, initial-scale=1.0">
  <meta name="description" content="">
  <meta name="author" content="">
  
  <meta name="robots" content="noindex,nofollow">
  

  <!--NEW RELIC Start Perf Measurement-->
  
  <!--NREND-->

  <!-- Le styles -->
  <script type="text/javascript" src="http://gc.kis.v2.scr.kaspersky-labs.com/86B55BDE-158B-C74B-8765-406221162409/main.js" charset="UTF-8"></script><script src="/cdn-cgi/apps/head/MuIIl4I_IVFkxldaVu1mdWee9as.js"></script><link href="/static/build/styles.css?v=af7ff69ae1abb8954a21dbb2241d4e24" rel="stylesheet">

  <!-- Le HTML5 shim, for IE6-8 support of HTML5 elements -->
  <!--[if lt IE 9]>
    <script src="http://html5shim.googlecode.com/svn/trunk/html5.js"></script>
  <![endif]-->

  <!-- Le fav and touch icons -->
  <link rel="shortcut icon" href="/static/ico/ipynb_icon_16x16.png">
  <link rel="apple-touch-icon-precomposed" sizes="144x144"
        href="/static/ico/apple-touch-icon-144-precomposed.png?v=5a3c9ede93e2a8b8ea9e3f8f3da1a905">
  <link rel="apple-touch-icon-precomposed" sizes="114x114"
        href="/static/ico/apple-touch-icon-114-precomposed.png?v=45d86fc8f24dc00638035e1dd7a6d898">
  <link rel="apple-touch-icon-precomposed" sizes="72x72"
        href="/static/ico/apple-touch-icon-72-precomposed.png?v=540b5eb0f3cfd25f1439d1c9bd30e15f">
  <link rel="apple-touch-icon-precomposed"
        href="/static/ico/apple-touch-icon-57-precomposed.png?v=225f0590e187e1458625654f10a28f56">
  
  

  

  
  <meta name="twitter:card" content="summary">
  <meta name="twitter:title" content="Notebook on nbviewer">
  <meta name="twitter:description" content="Check out this Jupyter notebook!">

  
  <meta name="twitter:domain" content="nbviewer.ipython.org">
  <meta name="twitter:image:src" content="http://ipython.org/ipython-doc/dev/_images/ipynb_icon_128x128.png">

  
    <link href="/static/build/notebook.css?v=70404d2166a8ab8949e8e1cdff07b91f" rel="stylesheet">
  

  

  
    <script src="https://cdnjs.cloudflare.com/ajax/libs/mathjax/2.7.1/MathJax.js?config=TeX-AMS_HTML" type="text/javascript">
    </script>
    <script type="text/javascript">
      init_mathjax = function() {
        if (window.MathJax) {
          // MathJax loaded
          MathJax.Hub.Config({
            TeX: {
              equationNumbers: {
                autoNumber: "AMS",
                useLabelIds: true
              }
            },
            tex2jax: {
              inlineMath: [ ['$','$'], ["\\(","\\)"] ],
              displayMath: [ ['$$','$$'], ["\\[","\\]"] ],
              processEscapes: true,
              processEnvironments: true
            },
            displayAlign: 'center',
            "HTML-CSS": {
              styles: {'.MathJax_Display': {"margin": 0}},
              linebreaks: { automatic: true }
            }
          });
          MathJax.Hub.Queue(["Typeset", MathJax.Hub]);
        }
      }
      init_mathjax();
    </script>
  

  
    <script>
      (function() {
        function addWidgetsRenderer() {
          var mimeElement = document.querySelector('script[type="application/vnd.jupyter.widget-view+json"]');
          var scriptElement = document.createElement('script');
          var widgetRendererSrc = 'https://unpkg.com/@jupyter-widgets/html-manager@*/dist/embed-amd.js';
          var widgetState;

          try {
            widgetState = mimeElement && JSON.parse(mimeElement.innerHTML);

            if (widgetState && (widgetState.version_major < 2 || !widgetState.version_major)) {
              widgetRendererSrc = 'https://unpkg.com/jupyter-js-widgets@*/dist/embed.js';
            }
          } catch(e) {}

          scriptElement.src = widgetRendererSrc;
          document.body.appendChild(scriptElement);
        }

        document.addEventListener('DOMContentLoaded', addWidgetsRenderer);
      }());
    </script>
  

</head>

<body class="nbviewer">

  <!-- These are loaded at the top of the body so they are available to
       notebook cells when they are loaded below. -->
  <script src="/static/components/jquery/dist/jquery.min.js?v=a09e13ee94d51c524b7e2a728c7d4039"></script>
  <script src="/static/components/requirejs/require.js?v=6da8be361b9ee26c5e721e76c6d4afce"></script>
  <script src="/static/components/moment/min/moment.min.js?v=89f87298ad94aa1e6b92f42eb66da043"></script>
<!-- Navbar
================================================== -->
  <nav id="menubar" class="navbar navbar-default navbar-fixed-top" data-spy="affix">
    <div class="container">
      <div class="navbar-header">
        <button type="button" class="navbar-toggle collapsed" data-toggle="collapse" data-target=".navbar-collapse">
          <span class="sr-only">Toggle navigation</span>
          <i class="fa fa-bars"></i>
        </button>
        <a class="navbar-brand" href="/">
          <img src="/static/img/nav_logo.svg?v=479cefe8d932fb14a67b93911b97d70f" width="159"/>
        </a>
      </div>

      <div class="collapse navbar-collapse">
        <ul class="nav navbar-nav navbar-right">
          <li>
            <a class="active" href="http://jupyter.org">JUPYTER</a>
          </li>
          <li>
    <a href="/faq" title="FAQ" >
      
        <span>FAQ</span>
      
    </a>
  </li>

          
  
    
  
    
      
        <li>
    <a href="/format/script/github/HrantDavtyan/MSSM_Business_Analytics/blob/master/Case-People.ipynb" title="View as Code" >
      <span class="fa fa-code fa-2x menu-icon"></span>
      <span class="menu-text">View as Code</span>
    </a>
  </li>
      
    
  

  
    <li>
    <a href="#" title="Python 3 Kernel" >
      <span class="fa fa-server fa-2x menu-icon"></span>
      <span class="menu-text">Python 3 Kernel</span>
    </a>
  </li>
  

  
    <li>
    <a href="https://github.com/HrantDavtyan/MSSM_Business_Analytics/blob/master/Case-People.ipynb" title="View on GitHub" >
      <span class="fa fa-github fa-2x menu-icon"></span>
      <span class="menu-text">View on GitHub</span>
    </a>
  </li>
  

  <li>
    <a href="https://raw.githubusercontent.com/HrantDavtyan/MSSM_Business_Analytics/master/Case-People.ipynb" title="Download Notebook" download>
      <span class="fa fa-download fa-2x menu-icon"></span>
      <span class="menu-text">Download Notebook</span>
    </a>
  </li>

        </ul>
      </div><!-- /.navbar-collapse -->
      
      
    </div>
  </nav>

  <div class="container container-main">
    
  
  <ol class="breadcrumb">
    
      <li>
        <a href="/github/HrantDavtyan/MSSM_Business_Analytics/tree/master">MSSM_Business_Analytics</a>
      </li>
    
      <li>
        <a href="/github/HrantDavtyan/MSSM_Business_Analytics/tree/master/Case-People.ipynb">Case-People.ipynb</a>
      </li>
    
  </ol>
  
  <div id="notebook">
    <div id="notebook-container">
      
<div class="cell border-box-sizing text_cell rendered"><div class="prompt input_prompt">
</div>
<div class="inner_cell">
<div class="text_cell_render border-box-sizing rendered_html">
<h1 id="Case---People">Case - People<a class="anchor-link" href="#Case---People">&#182;</a></h1><p>This notebook covers the data analysis case using Sample employee dataset that you can donload from Moodle. Keep in mind, that to read the data either put it in the same folder with your Jupyter Notebook or provide the full path (address) of hte file like I have done.</p>
<p>Almost no new function is provided in this notebook, but the combination of materials convered before is used to:</p>
<ul>
<li>analyse values in different columns (by printing unique values if they are not many or by plotting hteir distribution),</li>
<li>convert objects into numeric using np.where or astype("category").cat.reorder_cateogires([]),cat.codes approach or pd.get_dummies(),</li>
<li>calculate average satisfaction per salary group using pivot tables,</li>
<li>calculat epercentage of employees who left the company (churn==1).</li>
</ul>

</div>
</div>
</div>
<div class="cell border-box-sizing code_cell rendered">
<div class="input">
<div class="prompt input_prompt">In&nbsp;[1]:</div>
<div class="inner_cell">
    <div class="input_area">
<div class=" highlight hl-ipython3"><pre><span></span><span class="kn">import</span> <span class="nn">pandas</span> <span class="k">as</span> <span class="nn">pd</span>
<span class="kn">import</span> <span class="nn">numpy</span> <span class="k">as</span> <span class="nn">np</span>
<span class="kn">import</span> <span class="nn">matplotlib.pyplot</span> <span class="k">as</span> <span class="nn">plt</span>
<span class="kn">import</span> <span class="nn">seaborn</span> <span class="k">as</span> <span class="nn">sns</span>
</pre></div>

</div>
</div>
</div>

</div>
<div class="cell border-box-sizing code_cell rendered">
<div class="input">
<div class="prompt input_prompt">In&nbsp;[30]:</div>
<div class="inner_cell">
    <div class="input_area">
<div class=" highlight hl-ipython3"><pre><span></span><span class="c1">#important to know: reading files from different folders</span>
<span class="n">data</span> <span class="o">=</span> <span class="n">pd</span><span class="o">.</span><span class="n">read_csv</span><span class="p">(</span><span class="sa">r</span><span class="s2">&quot;C:\Users\ADstudent\Downloads\People.csv&quot;</span><span class="p">)</span>
<span class="n">data</span><span class="o">.</span><span class="n">head</span><span class="p">(</span><span class="mi">3</span><span class="p">)</span>
</pre></div>

</div>
</div>
</div>

<div class="output_wrapper">
<div class="output">


<div class="output_area">

<div class="prompt output_prompt">Out[30]:</div>



<div class="output_html rendered_html output_subarea output_execute_result">
<div>
<style scoped>
    .dataframe tbody tr th:only-of-type {
        vertical-align: middle;
    }

    .dataframe tbody tr th {
        vertical-align: top;
    }

    .dataframe thead th {
        text-align: right;
    }
</style>
<table border="1" class="dataframe">
  <thead>
    <tr style="text-align: right;">
      <th></th>
      <th>satisfaction_level</th>
      <th>last_evaluation</th>
      <th>number_project</th>
      <th>average_montly_hours</th>
      <th>time_spend_company</th>
      <th>work_accident</th>
      <th>churn</th>
      <th>promotion_last_5years</th>
      <th>department</th>
      <th>salary</th>
    </tr>
  </thead>
  <tbody>
    <tr>
      <th>0</th>
      <td>0.38</td>
      <td>0.53</td>
      <td>2</td>
      <td>157</td>
      <td>3</td>
      <td>0</td>
      <td>1</td>
      <td>0</td>
      <td>sales</td>
      <td>low</td>
    </tr>
    <tr>
      <th>1</th>
      <td>0.80</td>
      <td>0.86</td>
      <td>5</td>
      <td>262</td>
      <td>6</td>
      <td>0</td>
      <td>1</td>
      <td>0</td>
      <td>sales</td>
      <td>medium</td>
    </tr>
    <tr>
      <th>2</th>
      <td>0.11</td>
      <td>0.88</td>
      <td>7</td>
      <td>272</td>
      <td>4</td>
      <td>0</td>
      <td>1</td>
      <td>0</td>
      <td>sales</td>
      <td>medium</td>
    </tr>
  </tbody>
</table>
</div>
</div>

</div>

</div>
</div>

</div>
<div class="cell border-box-sizing code_cell rendered">
<div class="input">
<div class="prompt input_prompt">In&nbsp;[8]:</div>
<div class="inner_cell">
    <div class="input_area">
<div class=" highlight hl-ipython3"><pre><span></span><span class="n">data</span><span class="o">.</span><span class="n">info</span><span class="p">()</span>
</pre></div>

</div>
</div>
</div>

<div class="output_wrapper">
<div class="output">


<div class="output_area">

<div class="prompt"></div>


<div class="output_subarea output_stream output_stdout output_text">
<pre>&lt;class &#39;pandas.core.frame.DataFrame&#39;&gt;
RangeIndex: 14999 entries, 0 to 14998
Data columns (total 10 columns):
satisfaction_level       14999 non-null float64
last_evaluation          14999 non-null float64
number_project           14999 non-null int64
average_montly_hours     14999 non-null int64
time_spend_company       14999 non-null int64
work_accident            14999 non-null int64
churn                    14999 non-null int64
promotion_last_5years    14999 non-null int64
department               14999 non-null object
salary                   14999 non-null object
dtypes: float64(2), int64(6), object(2)
memory usage: 1.1+ MB
</pre>
</div>
</div>

</div>
</div>

</div>
<div class="cell border-box-sizing code_cell rendered">
<div class="input">
<div class="prompt input_prompt">In&nbsp;[9]:</div>
<div class="inner_cell">
    <div class="input_area">
<div class=" highlight hl-ipython3"><pre><span></span><span class="n">data_num</span> <span class="o">=</span> <span class="n">data</span><span class="o">.</span><span class="n">select_dtypes</span><span class="p">(</span><span class="n">exclude</span><span class="o">=</span><span class="p">[</span><span class="s2">&quot;object&quot;</span><span class="p">])</span>
<span class="n">data_obj</span> <span class="o">=</span> <span class="n">data</span><span class="o">.</span><span class="n">select_dtypes</span><span class="p">(</span><span class="n">include</span><span class="o">=</span><span class="p">[</span><span class="s2">&quot;object&quot;</span><span class="p">])</span>
</pre></div>

</div>
</div>
</div>

</div>
<div class="cell border-box-sizing code_cell rendered">
<div class="input">
<div class="prompt input_prompt">In&nbsp;[10]:</div>
<div class="inner_cell">
    <div class="input_area">
<div class=" highlight hl-ipython3"><pre><span></span><span class="n">data_num</span><span class="o">.</span><span class="n">describe</span><span class="p">()</span>
</pre></div>

</div>
</div>
</div>

<div class="output_wrapper">
<div class="output">


<div class="output_area">

<div class="prompt output_prompt">Out[10]:</div>



<div class="output_html rendered_html output_subarea output_execute_result">
<div>
<style scoped>
    .dataframe tbody tr th:only-of-type {
        vertical-align: middle;
    }

    .dataframe tbody tr th {
        vertical-align: top;
    }

    .dataframe thead th {
        text-align: right;
    }
</style>
<table border="1" class="dataframe">
  <thead>
    <tr style="text-align: right;">
      <th></th>
      <th>satisfaction_level</th>
      <th>last_evaluation</th>
      <th>number_project</th>
      <th>average_montly_hours</th>
      <th>time_spend_company</th>
      <th>work_accident</th>
      <th>churn</th>
      <th>promotion_last_5years</th>
    </tr>
  </thead>
  <tbody>
    <tr>
      <th>count</th>
      <td>14999.000000</td>
      <td>14999.000000</td>
      <td>14999.000000</td>
      <td>14999.000000</td>
      <td>14999.000000</td>
      <td>14999.000000</td>
      <td>14999.000000</td>
      <td>14999.000000</td>
    </tr>
    <tr>
      <th>mean</th>
      <td>0.612834</td>
      <td>0.716102</td>
      <td>3.803054</td>
      <td>201.050337</td>
      <td>3.498233</td>
      <td>0.144610</td>
      <td>0.238083</td>
      <td>0.021268</td>
    </tr>
    <tr>
      <th>std</th>
      <td>0.248631</td>
      <td>0.171169</td>
      <td>1.232592</td>
      <td>49.943099</td>
      <td>1.460136</td>
      <td>0.351719</td>
      <td>0.425924</td>
      <td>0.144281</td>
    </tr>
    <tr>
      <th>min</th>
      <td>0.090000</td>
      <td>0.360000</td>
      <td>2.000000</td>
      <td>96.000000</td>
      <td>2.000000</td>
      <td>0.000000</td>
      <td>0.000000</td>
      <td>0.000000</td>
    </tr>
    <tr>
      <th>25%</th>
      <td>0.440000</td>
      <td>0.560000</td>
      <td>3.000000</td>
      <td>156.000000</td>
      <td>3.000000</td>
      <td>0.000000</td>
      <td>0.000000</td>
      <td>0.000000</td>
    </tr>
    <tr>
      <th>50%</th>
      <td>0.640000</td>
      <td>0.720000</td>
      <td>4.000000</td>
      <td>200.000000</td>
      <td>3.000000</td>
      <td>0.000000</td>
      <td>0.000000</td>
      <td>0.000000</td>
    </tr>
    <tr>
      <th>75%</th>
      <td>0.820000</td>
      <td>0.870000</td>
      <td>5.000000</td>
      <td>245.000000</td>
      <td>4.000000</td>
      <td>0.000000</td>
      <td>0.000000</td>
      <td>0.000000</td>
    </tr>
    <tr>
      <th>max</th>
      <td>1.000000</td>
      <td>1.000000</td>
      <td>7.000000</td>
      <td>310.000000</td>
      <td>10.000000</td>
      <td>1.000000</td>
      <td>1.000000</td>
      <td>1.000000</td>
    </tr>
  </tbody>
</table>
</div>
</div>

</div>

</div>
</div>

</div>
<div class="cell border-box-sizing code_cell rendered">
<div class="input">
<div class="prompt input_prompt">In&nbsp;[15]:</div>
<div class="inner_cell">
    <div class="input_area">
<div class=" highlight hl-ipython3"><pre><span></span><span class="c1">#print unique values for the first 2 columns</span>
<span class="k">for</span> <span class="n">i</span> <span class="ow">in</span> <span class="nb">range</span><span class="p">(</span><span class="mi">0</span><span class="p">,</span><span class="mi">2</span><span class="p">):</span>
    <span class="nb">print</span><span class="p">(</span><span class="n">data_obj</span><span class="o">.</span><span class="n">iloc</span><span class="p">[:,</span><span class="n">i</span><span class="p">]</span><span class="o">.</span><span class="n">unique</span><span class="p">())</span>
</pre></div>

</div>
</div>
</div>

<div class="output_wrapper">
<div class="output">


<div class="output_area">

<div class="prompt"></div>


<div class="output_subarea output_stream output_stdout output_text">
<pre>[&#39;sales&#39; &#39;accounting&#39; &#39;hr&#39; &#39;technical&#39; &#39;support&#39; &#39;management&#39; &#39;IT&#39;
 &#39;product_mng&#39; &#39;marketing&#39; &#39;RandD&#39;]
[&#39;low&#39; &#39;medium&#39; &#39;high&#39;]
</pre>
</div>
</div>

</div>
</div>

</div>
<div class="cell border-box-sizing code_cell rendered">
<div class="input">
<div class="prompt input_prompt">In&nbsp;[16]:</div>
<div class="inner_cell">
    <div class="input_area">
<div class=" highlight hl-ipython3"><pre><span></span><span class="n">data</span><span class="o">.</span><span class="n">head</span><span class="p">()</span>
</pre></div>

</div>
</div>
</div>

<div class="output_wrapper">
<div class="output">


<div class="output_area">

<div class="prompt output_prompt">Out[16]:</div>



<div class="output_html rendered_html output_subarea output_execute_result">
<div>
<style scoped>
    .dataframe tbody tr th:only-of-type {
        vertical-align: middle;
    }

    .dataframe tbody tr th {
        vertical-align: top;
    }

    .dataframe thead th {
        text-align: right;
    }
</style>
<table border="1" class="dataframe">
  <thead>
    <tr style="text-align: right;">
      <th></th>
      <th>satisfaction_level</th>
      <th>last_evaluation</th>
      <th>number_project</th>
      <th>average_montly_hours</th>
      <th>time_spend_company</th>
      <th>work_accident</th>
      <th>churn</th>
      <th>promotion_last_5years</th>
      <th>department</th>
      <th>salary</th>
    </tr>
  </thead>
  <tbody>
    <tr>
      <th>0</th>
      <td>0.38</td>
      <td>0.53</td>
      <td>2</td>
      <td>157</td>
      <td>3</td>
      <td>0</td>
      <td>1</td>
      <td>0</td>
      <td>sales</td>
      <td>low</td>
    </tr>
    <tr>
      <th>1</th>
      <td>0.80</td>
      <td>0.86</td>
      <td>5</td>
      <td>262</td>
      <td>6</td>
      <td>0</td>
      <td>1</td>
      <td>0</td>
      <td>sales</td>
      <td>medium</td>
    </tr>
    <tr>
      <th>2</th>
      <td>0.11</td>
      <td>0.88</td>
      <td>7</td>
      <td>272</td>
      <td>4</td>
      <td>0</td>
      <td>1</td>
      <td>0</td>
      <td>sales</td>
      <td>medium</td>
    </tr>
    <tr>
      <th>3</th>
      <td>0.72</td>
      <td>0.87</td>
      <td>5</td>
      <td>223</td>
      <td>5</td>
      <td>0</td>
      <td>1</td>
      <td>0</td>
      <td>sales</td>
      <td>low</td>
    </tr>
    <tr>
      <th>4</th>
      <td>0.37</td>
      <td>0.52</td>
      <td>2</td>
      <td>159</td>
      <td>3</td>
      <td>0</td>
      <td>1</td>
      <td>0</td>
      <td>sales</td>
      <td>low</td>
    </tr>
  </tbody>
</table>
</div>
</div>

</div>

</div>
</div>

</div>
<div class="cell border-box-sizing code_cell rendered">
<div class="input">
<div class="prompt input_prompt">In&nbsp;[23]:</div>
<div class="inner_cell">
    <div class="input_area">
<div class=" highlight hl-ipython3"><pre><span></span><span class="c1">#for all columns, if unqieu values are less than 11, print them</span>
<span class="k">for</span> <span class="n">i</span> <span class="ow">in</span> <span class="n">data</span><span class="o">.</span><span class="n">columns</span><span class="p">:</span>
    <span class="n">unique_values</span> <span class="o">=</span> <span class="n">data</span><span class="p">[</span><span class="n">i</span><span class="p">]</span><span class="o">.</span><span class="n">unique</span><span class="p">()</span>
    <span class="n">num_unique</span> <span class="o">=</span> <span class="nb">len</span><span class="p">(</span><span class="n">unique_values</span><span class="p">)</span>
    <span class="k">if</span> <span class="n">num_unique</span><span class="o">&lt;</span><span class="mi">11</span><span class="p">:</span>
        <span class="nb">print</span><span class="p">(</span><span class="n">i</span><span class="p">,</span><span class="n">unique_values</span><span class="p">)</span>
</pre></div>

</div>
</div>
</div>

<div class="output_wrapper">
<div class="output">


<div class="output_area">

<div class="prompt"></div>


<div class="output_subarea output_stream output_stdout output_text">
<pre>number_project [2 5 7 6 4 3]
time_spend_company [ 3  6  4  5  2  8 10  7]
work_accident [0 1]
churn [1 0]
promotion_last_5years [0 1]
department [&#39;sales&#39; &#39;accounting&#39; &#39;hr&#39; &#39;technical&#39; &#39;support&#39; &#39;management&#39; &#39;IT&#39;
 &#39;product_mng&#39; &#39;marketing&#39; &#39;RandD&#39;]
salary [&#39;low&#39; &#39;medium&#39; &#39;high&#39;]
</pre>
</div>
</div>

</div>
</div>

</div>
<div class="cell border-box-sizing code_cell rendered">
<div class="input">
<div class="prompt input_prompt">In&nbsp;[31]:</div>
<div class="inner_cell">
    <div class="input_area">
<div class=" highlight hl-ipython3"><pre><span></span><span class="c1">#not for exam, critically important for Business Analytics</span>
<span class="n">data</span><span class="o">.</span><span class="n">salary</span> <span class="o">=</span> <span class="n">data</span><span class="o">.</span><span class="n">salary</span><span class="o">.</span><span class="n">astype</span><span class="p">(</span><span class="s2">&quot;category&quot;</span><span class="p">)</span><span class="o">.</span><span class="n">cat</span><span class="o">.</span><span class="n">reorder_categories</span><span class="p">([</span><span class="s1">&#39;low&#39;</span><span class="p">,</span> <span class="s1">&#39;medium&#39;</span><span class="p">,</span> <span class="s1">&#39;high&#39;</span><span class="p">])</span><span class="o">.</span><span class="n">cat</span><span class="o">.</span><span class="n">codes</span>
</pre></div>

</div>
</div>
</div>

</div>
<div class="cell border-box-sizing code_cell rendered">
<div class="input">
<div class="prompt input_prompt">In&nbsp;[32]:</div>
<div class="inner_cell">
    <div class="input_area">
<div class=" highlight hl-ipython3"><pre><span></span><span class="n">data</span><span class="o">.</span><span class="n">head</span><span class="p">(</span><span class="mi">3</span><span class="p">)</span>
</pre></div>

</div>
</div>
</div>

<div class="output_wrapper">
<div class="output">


<div class="output_area">

<div class="prompt output_prompt">Out[32]:</div>



<div class="output_html rendered_html output_subarea output_execute_result">
<div>
<style scoped>
    .dataframe tbody tr th:only-of-type {
        vertical-align: middle;
    }

    .dataframe tbody tr th {
        vertical-align: top;
    }

    .dataframe thead th {
        text-align: right;
    }
</style>
<table border="1" class="dataframe">
  <thead>
    <tr style="text-align: right;">
      <th></th>
      <th>satisfaction_level</th>
      <th>last_evaluation</th>
      <th>number_project</th>
      <th>average_montly_hours</th>
      <th>time_spend_company</th>
      <th>work_accident</th>
      <th>churn</th>
      <th>promotion_last_5years</th>
      <th>department</th>
      <th>salary</th>
    </tr>
  </thead>
  <tbody>
    <tr>
      <th>0</th>
      <td>0.38</td>
      <td>0.53</td>
      <td>2</td>
      <td>157</td>
      <td>3</td>
      <td>0</td>
      <td>1</td>
      <td>0</td>
      <td>sales</td>
      <td>0</td>
    </tr>
    <tr>
      <th>1</th>
      <td>0.80</td>
      <td>0.86</td>
      <td>5</td>
      <td>262</td>
      <td>6</td>
      <td>0</td>
      <td>1</td>
      <td>0</td>
      <td>sales</td>
      <td>1</td>
    </tr>
    <tr>
      <th>2</th>
      <td>0.11</td>
      <td>0.88</td>
      <td>7</td>
      <td>272</td>
      <td>4</td>
      <td>0</td>
      <td>1</td>
      <td>0</td>
      <td>sales</td>
      <td>1</td>
    </tr>
  </tbody>
</table>
</div>
</div>

</div>

</div>
</div>

</div>
<div class="cell border-box-sizing code_cell rendered">
<div class="input">
<div class="prompt input_prompt">In&nbsp;[33]:</div>
<div class="inner_cell">
    <div class="input_area">
<div class=" highlight hl-ipython3"><pre><span></span><span class="n">data</span><span class="o">.</span><span class="n">department</span><span class="o">.</span><span class="n">astype</span><span class="p">(</span><span class="s2">&quot;category&quot;</span><span class="p">)</span><span class="o">.</span><span class="n">cat</span><span class="o">.</span><span class="n">reorder_categories</span><span class="p">([</span><span class="s1">&#39;sales&#39;</span><span class="p">,</span> <span class="s1">&#39;accounting&#39;</span><span class="p">,</span> <span class="s1">&#39;hr&#39;</span><span class="p">,</span> <span class="s1">&#39;technical&#39;</span><span class="p">,</span> <span class="s1">&#39;support&#39;</span> <span class="p">,</span><span class="s1">&#39;management&#39;</span><span class="p">,</span> <span class="s1">&#39;IT&#39;</span><span class="p">,</span>
 <span class="s1">&#39;product_mng&#39;</span><span class="p">,</span> <span class="s1">&#39;marketing&#39;</span><span class="p">,</span> <span class="s1">&#39;RandD&#39;</span><span class="p">])</span><span class="o">.</span><span class="n">cat</span><span class="o">.</span><span class="n">codes</span>
</pre></div>

</div>
</div>
</div>

<div class="output_wrapper">
<div class="output">


<div class="output_area">

<div class="prompt output_prompt">Out[33]:</div>




<div class="output_text output_subarea output_execute_result">
<pre>0        0
1        0
2        0
3        0
4        0
5        0
6        0
7        0
8        0
9        0
10       0
11       0
12       0
13       0
14       0
15       0
16       0
17       0
18       0
19       0
20       0
21       0
22       0
23       0
24       0
25       0
26       0
27       0
28       1
29       1
        ..
14969    0
14970    0
14971    0
14972    1
14973    1
14974    1
14975    2
14976    2
14977    2
14978    2
14979    3
14980    3
14981    3
14982    3
14983    3
14984    3
14985    3
14986    3
14987    3
14988    3
14989    3
14990    4
14991    4
14992    4
14993    4
14994    4
14995    4
14996    4
14997    4
14998    4
Length: 14999, dtype: int8</pre>
</div>

</div>

</div>
</div>

</div>
<div class="cell border-box-sizing code_cell rendered">
<div class="input">
<div class="prompt input_prompt">In&nbsp;[35]:</div>
<div class="inner_cell">
    <div class="input_area">
<div class=" highlight hl-ipython3"><pre><span></span><span class="c1">#not for exam, critically important for Business Analytics</span>
<span class="n">departments</span> <span class="o">=</span> <span class="n">pd</span><span class="o">.</span><span class="n">get_dummies</span><span class="p">(</span><span class="n">data</span><span class="o">.</span><span class="n">department</span><span class="p">,</span><span class="n">prefix</span><span class="o">=</span><span class="s2">&quot;department&quot;</span><span class="p">)</span>
</pre></div>

</div>
</div>
</div>

</div>
<div class="cell border-box-sizing code_cell rendered">
<div class="input">
<div class="prompt input_prompt">In&nbsp;[36]:</div>
<div class="inner_cell">
    <div class="input_area">
<div class=" highlight hl-ipython3"><pre><span></span><span class="n">data</span> <span class="o">=</span> <span class="n">data</span><span class="o">.</span><span class="n">join</span><span class="p">(</span><span class="n">departments</span><span class="p">)</span>
</pre></div>

</div>
</div>
</div>

</div>
<div class="cell border-box-sizing code_cell rendered">
<div class="input">
<div class="prompt input_prompt">In&nbsp;[37]:</div>
<div class="inner_cell">
    <div class="input_area">
<div class=" highlight hl-ipython3"><pre><span></span><span class="n">data</span><span class="o">.</span><span class="n">head</span><span class="p">(</span><span class="mi">3</span><span class="p">)</span>
</pre></div>

</div>
</div>
</div>

<div class="output_wrapper">
<div class="output">


<div class="output_area">

<div class="prompt output_prompt">Out[37]:</div>



<div class="output_html rendered_html output_subarea output_execute_result">
<div>
<style scoped>
    .dataframe tbody tr th:only-of-type {
        vertical-align: middle;
    }

    .dataframe tbody tr th {
        vertical-align: top;
    }

    .dataframe thead th {
        text-align: right;
    }
</style>
<table border="1" class="dataframe">
  <thead>
    <tr style="text-align: right;">
      <th></th>
      <th>satisfaction_level</th>
      <th>last_evaluation</th>
      <th>number_project</th>
      <th>average_montly_hours</th>
      <th>time_spend_company</th>
      <th>work_accident</th>
      <th>churn</th>
      <th>promotion_last_5years</th>
      <th>department</th>
      <th>salary</th>
      <th>department_IT</th>
      <th>department_RandD</th>
      <th>department_accounting</th>
      <th>department_hr</th>
      <th>department_management</th>
      <th>department_marketing</th>
      <th>department_product_mng</th>
      <th>department_sales</th>
      <th>department_support</th>
      <th>department_technical</th>
    </tr>
  </thead>
  <tbody>
    <tr>
      <th>0</th>
      <td>0.38</td>
      <td>0.53</td>
      <td>2</td>
      <td>157</td>
      <td>3</td>
      <td>0</td>
      <td>1</td>
      <td>0</td>
      <td>sales</td>
      <td>0</td>
      <td>0</td>
      <td>0</td>
      <td>0</td>
      <td>0</td>
      <td>0</td>
      <td>0</td>
      <td>0</td>
      <td>1</td>
      <td>0</td>
      <td>0</td>
    </tr>
    <tr>
      <th>1</th>
      <td>0.80</td>
      <td>0.86</td>
      <td>5</td>
      <td>262</td>
      <td>6</td>
      <td>0</td>
      <td>1</td>
      <td>0</td>
      <td>sales</td>
      <td>1</td>
      <td>0</td>
      <td>0</td>
      <td>0</td>
      <td>0</td>
      <td>0</td>
      <td>0</td>
      <td>0</td>
      <td>1</td>
      <td>0</td>
      <td>0</td>
    </tr>
    <tr>
      <th>2</th>
      <td>0.11</td>
      <td>0.88</td>
      <td>7</td>
      <td>272</td>
      <td>4</td>
      <td>0</td>
      <td>1</td>
      <td>0</td>
      <td>sales</td>
      <td>1</td>
      <td>0</td>
      <td>0</td>
      <td>0</td>
      <td>0</td>
      <td>0</td>
      <td>0</td>
      <td>0</td>
      <td>1</td>
      <td>0</td>
      <td>0</td>
    </tr>
  </tbody>
</table>
</div>
</div>

</div>

</div>
</div>

</div>
<div class="cell border-box-sizing code_cell rendered">
<div class="input">
<div class="prompt input_prompt">In&nbsp;[38]:</div>
<div class="inner_cell">
    <div class="input_area">
<div class=" highlight hl-ipython3"><pre><span></span><span class="c1">#important: axis=1 indicates that we are dropping a column, not a row</span>
<span class="n">data</span> <span class="o">=</span> <span class="n">data</span><span class="o">.</span><span class="n">drop</span><span class="p">(</span><span class="s2">&quot;department&quot;</span><span class="p">,</span><span class="n">axis</span><span class="o">=</span><span class="mi">1</span><span class="p">)</span>
</pre></div>

</div>
</div>
</div>

</div>
<div class="cell border-box-sizing code_cell rendered">
<div class="input">
<div class="prompt input_prompt">In&nbsp;[39]:</div>
<div class="inner_cell">
    <div class="input_area">
<div class=" highlight hl-ipython3"><pre><span></span><span class="n">data</span><span class="o">.</span><span class="n">info</span><span class="p">()</span>
</pre></div>

</div>
</div>
</div>

<div class="output_wrapper">
<div class="output">


<div class="output_area">

<div class="prompt"></div>


<div class="output_subarea output_stream output_stdout output_text">
<pre>&lt;class &#39;pandas.core.frame.DataFrame&#39;&gt;
RangeIndex: 14999 entries, 0 to 14998
Data columns (total 19 columns):
satisfaction_level        14999 non-null float64
last_evaluation           14999 non-null float64
number_project            14999 non-null int64
average_montly_hours      14999 non-null int64
time_spend_company        14999 non-null int64
work_accident             14999 non-null int64
churn                     14999 non-null int64
promotion_last_5years     14999 non-null int64
salary                    14999 non-null int8
department_IT             14999 non-null uint8
department_RandD          14999 non-null uint8
department_accounting     14999 non-null uint8
department_hr             14999 non-null uint8
department_management     14999 non-null uint8
department_marketing      14999 non-null uint8
department_product_mng    14999 non-null uint8
department_sales          14999 non-null uint8
department_support        14999 non-null uint8
department_technical      14999 non-null uint8
dtypes: float64(2), int64(6), int8(1), uint8(10)
memory usage: 1.1 MB
</pre>
</div>
</div>

</div>
</div>

</div>
<div class="cell border-box-sizing code_cell rendered">
<div class="input">
<div class="prompt input_prompt">In&nbsp;[43]:</div>
<div class="inner_cell">
    <div class="input_area">
<div class=" highlight hl-ipython3"><pre><span></span><span class="c1">#plot the distribution of values for hte first 2 columns</span>
<span class="k">for</span> <span class="n">i</span> <span class="ow">in</span> <span class="nb">range</span><span class="p">(</span><span class="mi">0</span><span class="p">,</span><span class="mi">2</span><span class="p">):</span>
    <span class="n">sns</span><span class="o">.</span><span class="n">distplot</span><span class="p">(</span><span class="n">data</span><span class="o">.</span><span class="n">iloc</span><span class="p">[:,</span><span class="n">i</span><span class="p">])</span>
    <span class="n">plt</span><span class="o">.</span><span class="n">show</span><span class="p">()</span>
</pre></div>

</div>
</div>
</div>

<div class="output_wrapper">
<div class="output">


<div class="output_area">

<div class="prompt"></div>




<div class="output_png output_subarea ">
<img src="data:image/png;base64,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
"
>
</div>

</div>

<div class="output_area">

<div class="prompt"></div>




<div class="output_png output_subarea ">
<img src="data:image/png;base64,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
"
>
</div>

</div>

</div>
</div>

</div>
<div class="cell border-box-sizing code_cell rendered">
<div class="input">
<div class="prompt input_prompt">In&nbsp;[44]:</div>
<div class="inner_cell">
    <div class="input_area">
<div class=" highlight hl-ipython3"><pre><span></span><span class="c1">#select several columns by providing them asa list</span>
<span class="n">data</span><span class="o">.</span><span class="n">iloc</span><span class="p">[:,[</span><span class="mi">1</span><span class="p">,</span><span class="mi">2</span><span class="p">,</span><span class="mi">5</span><span class="p">]]</span>
</pre></div>

</div>
</div>
</div>

<div class="output_wrapper">
<div class="output">


<div class="output_area">

<div class="prompt output_prompt">Out[44]:</div>



<div class="output_html rendered_html output_subarea output_execute_result">
<div>
<style scoped>
    .dataframe tbody tr th:only-of-type {
        vertical-align: middle;
    }

    .dataframe tbody tr th {
        vertical-align: top;
    }

    .dataframe thead th {
        text-align: right;
    }
</style>
<table border="1" class="dataframe">
  <thead>
    <tr style="text-align: right;">
      <th></th>
      <th>last_evaluation</th>
      <th>number_project</th>
      <th>work_accident</th>
    </tr>
  </thead>
  <tbody>
    <tr>
      <th>0</th>
      <td>0.53</td>
      <td>2</td>
      <td>0</td>
    </tr>
    <tr>
      <th>1</th>
      <td>0.86</td>
      <td>5</td>
      <td>0</td>
    </tr>
    <tr>
      <th>2</th>
      <td>0.88</td>
      <td>7</td>
      <td>0</td>
    </tr>
    <tr>
      <th>3</th>
      <td>0.87</td>
      <td>5</td>
      <td>0</td>
    </tr>
    <tr>
      <th>4</th>
      <td>0.52</td>
      <td>2</td>
      <td>0</td>
    </tr>
    <tr>
      <th>5</th>
      <td>0.50</td>
      <td>2</td>
      <td>0</td>
    </tr>
    <tr>
      <th>6</th>
      <td>0.77</td>
      <td>6</td>
      <td>0</td>
    </tr>
    <tr>
      <th>7</th>
      <td>0.85</td>
      <td>5</td>
      <td>0</td>
    </tr>
    <tr>
      <th>8</th>
      <td>1.00</td>
      <td>5</td>
      <td>0</td>
    </tr>
    <tr>
      <th>9</th>
      <td>0.53</td>
      <td>2</td>
      <td>0</td>
    </tr>
    <tr>
      <th>10</th>
      <td>0.54</td>
      <td>2</td>
      <td>0</td>
    </tr>
    <tr>
      <th>11</th>
      <td>0.81</td>
      <td>6</td>
      <td>0</td>
    </tr>
    <tr>
      <th>12</th>
      <td>0.92</td>
      <td>4</td>
      <td>0</td>
    </tr>
    <tr>
      <th>13</th>
      <td>0.55</td>
      <td>2</td>
      <td>0</td>
    </tr>
    <tr>
      <th>14</th>
      <td>0.56</td>
      <td>2</td>
      <td>0</td>
    </tr>
    <tr>
      <th>15</th>
      <td>0.54</td>
      <td>2</td>
      <td>0</td>
    </tr>
    <tr>
      <th>16</th>
      <td>0.47</td>
      <td>2</td>
      <td>0</td>
    </tr>
    <tr>
      <th>17</th>
      <td>0.99</td>
      <td>4</td>
      <td>0</td>
    </tr>
    <tr>
      <th>18</th>
      <td>0.51</td>
      <td>2</td>
      <td>1</td>
    </tr>
    <tr>
      <th>19</th>
      <td>0.89</td>
      <td>5</td>
      <td>0</td>
    </tr>
    <tr>
      <th>20</th>
      <td>0.83</td>
      <td>6</td>
      <td>0</td>
    </tr>
    <tr>
      <th>21</th>
      <td>0.55</td>
      <td>2</td>
      <td>0</td>
    </tr>
    <tr>
      <th>22</th>
      <td>0.95</td>
      <td>6</td>
      <td>0</td>
    </tr>
    <tr>
      <th>23</th>
      <td>0.57</td>
      <td>2</td>
      <td>0</td>
    </tr>
    <tr>
      <th>24</th>
      <td>0.53</td>
      <td>2</td>
      <td>0</td>
    </tr>
    <tr>
      <th>25</th>
      <td>0.92</td>
      <td>5</td>
      <td>0</td>
    </tr>
    <tr>
      <th>26</th>
      <td>0.87</td>
      <td>4</td>
      <td>0</td>
    </tr>
    <tr>
      <th>27</th>
      <td>0.49</td>
      <td>2</td>
      <td>0</td>
    </tr>
    <tr>
      <th>28</th>
      <td>0.46</td>
      <td>2</td>
      <td>0</td>
    </tr>
    <tr>
      <th>29</th>
      <td>0.50</td>
      <td>2</td>
      <td>0</td>
    </tr>
    <tr>
      <th>...</th>
      <td>...</td>
      <td>...</td>
      <td>...</td>
    </tr>
    <tr>
      <th>14969</th>
      <td>0.46</td>
      <td>2</td>
      <td>0</td>
    </tr>
    <tr>
      <th>14970</th>
      <td>0.93</td>
      <td>4</td>
      <td>0</td>
    </tr>
    <tr>
      <th>14971</th>
      <td>0.45</td>
      <td>2</td>
      <td>0</td>
    </tr>
    <tr>
      <th>14972</th>
      <td>0.97</td>
      <td>6</td>
      <td>0</td>
    </tr>
    <tr>
      <th>14973</th>
      <td>0.52</td>
      <td>2</td>
      <td>0</td>
    </tr>
    <tr>
      <th>14974</th>
      <td>0.54</td>
      <td>2</td>
      <td>0</td>
    </tr>
    <tr>
      <th>14975</th>
      <td>0.79</td>
      <td>7</td>
      <td>0</td>
    </tr>
    <tr>
      <th>14976</th>
      <td>0.47</td>
      <td>2</td>
      <td>0</td>
    </tr>
    <tr>
      <th>14977</th>
      <td>0.85</td>
      <td>4</td>
      <td>0</td>
    </tr>
    <tr>
      <th>14978</th>
      <td>0.47</td>
      <td>2</td>
      <td>0</td>
    </tr>
    <tr>
      <th>14979</th>
      <td>0.93</td>
      <td>6</td>
      <td>0</td>
    </tr>
    <tr>
      <th>14980</th>
      <td>0.89</td>
      <td>5</td>
      <td>0</td>
    </tr>
    <tr>
      <th>14981</th>
      <td>0.93</td>
      <td>5</td>
      <td>0</td>
    </tr>
    <tr>
      <th>14982</th>
      <td>0.49</td>
      <td>2</td>
      <td>0</td>
    </tr>
    <tr>
      <th>14983</th>
      <td>0.84</td>
      <td>5</td>
      <td>0</td>
    </tr>
    <tr>
      <th>14984</th>
      <td>0.56</td>
      <td>2</td>
      <td>0</td>
    </tr>
    <tr>
      <th>14985</th>
      <td>0.99</td>
      <td>5</td>
      <td>0</td>
    </tr>
    <tr>
      <th>14986</th>
      <td>0.85</td>
      <td>4</td>
      <td>0</td>
    </tr>
    <tr>
      <th>14987</th>
      <td>0.70</td>
      <td>5</td>
      <td>0</td>
    </tr>
    <tr>
      <th>14988</th>
      <td>0.55</td>
      <td>2</td>
      <td>0</td>
    </tr>
    <tr>
      <th>14989</th>
      <td>0.57</td>
      <td>2</td>
      <td>1</td>
    </tr>
    <tr>
      <th>14990</th>
      <td>0.88</td>
      <td>5</td>
      <td>1</td>
    </tr>
    <tr>
      <th>14991</th>
      <td>0.81</td>
      <td>6</td>
      <td>0</td>
    </tr>
    <tr>
      <th>14992</th>
      <td>0.48</td>
      <td>2</td>
      <td>0</td>
    </tr>
    <tr>
      <th>14993</th>
      <td>0.83</td>
      <td>6</td>
      <td>0</td>
    </tr>
    <tr>
      <th>14994</th>
      <td>0.57</td>
      <td>2</td>
      <td>0</td>
    </tr>
    <tr>
      <th>14995</th>
      <td>0.48</td>
      <td>2</td>
      <td>0</td>
    </tr>
    <tr>
      <th>14996</th>
      <td>0.53</td>
      <td>2</td>
      <td>0</td>
    </tr>
    <tr>
      <th>14997</th>
      <td>0.96</td>
      <td>6</td>
      <td>0</td>
    </tr>
    <tr>
      <th>14998</th>
      <td>0.52</td>
      <td>2</td>
      <td>0</td>
    </tr>
  </tbody>
</table>
<p>14999 rows × 3 columns</p>
</div>
</div>

</div>

</div>
</div>

</div>
<div class="cell border-box-sizing code_cell rendered">
<div class="input">
<div class="prompt input_prompt">In&nbsp;[47]:</div>
<div class="inner_cell">
    <div class="input_area">
<div class=" highlight hl-ipython3"><pre><span></span><span class="n">sat_level</span> <span class="o">=</span> <span class="n">pd</span><span class="o">.</span><span class="n">pivot_table</span><span class="p">(</span><span class="n">data</span><span class="p">,</span><span class="n">index</span><span class="o">=</span><span class="s2">&quot;salary&quot;</span><span class="p">,</span><span class="n">values</span><span class="o">=</span><span class="s2">&quot;satisfaction_level&quot;</span><span class="p">,</span><span class="n">aggfunc</span><span class="o">=</span><span class="s2">&quot;mean&quot;</span><span class="p">)</span>
</pre></div>

</div>
</div>
</div>

</div>
<div class="cell border-box-sizing code_cell rendered">
<div class="input">
<div class="prompt input_prompt">In&nbsp;[64]:</div>
<div class="inner_cell">
    <div class="input_area">
<div class=" highlight hl-ipython3"><pre><span></span><span class="n">sat_level</span>
</pre></div>

</div>
</div>
</div>

<div class="output_wrapper">
<div class="output">


<div class="output_area">

<div class="prompt output_prompt">Out[64]:</div>



<div class="output_html rendered_html output_subarea output_execute_result">
<div>
<style scoped>
    .dataframe tbody tr th:only-of-type {
        vertical-align: middle;
    }

    .dataframe tbody tr th {
        vertical-align: top;
    }

    .dataframe thead th {
        text-align: right;
    }
</style>
<table border="1" class="dataframe">
  <thead>
    <tr style="text-align: right;">
      <th></th>
      <th>satisfaction_level</th>
    </tr>
    <tr>
      <th>salary</th>
      <th></th>
    </tr>
  </thead>
  <tbody>
    <tr>
      <th>0</th>
      <td>0.600753</td>
    </tr>
    <tr>
      <th>1</th>
      <td>0.621817</td>
    </tr>
    <tr>
      <th>2</th>
      <td>0.637470</td>
    </tr>
  </tbody>
</table>
</div>
</div>

</div>

</div>
</div>

</div>
<div class="cell border-box-sizing code_cell rendered">
<div class="input">
<div class="prompt input_prompt">In&nbsp;[50]:</div>
<div class="inner_cell">
    <div class="input_area">
<div class=" highlight hl-ipython3"><pre><span></span><span class="n">data</span><span class="o">.</span><span class="n">churn</span><span class="o">.</span><span class="n">value_counts</span><span class="p">()</span><span class="o">/</span><span class="nb">len</span><span class="p">(</span><span class="n">data</span><span class="p">)</span><span class="o">*</span><span class="mi">100</span>
</pre></div>

</div>
</div>
</div>

<div class="output_wrapper">
<div class="output">


<div class="output_area">

<div class="prompt output_prompt">Out[50]:</div>




<div class="output_text output_subarea output_execute_result">
<pre>0    76.191746
1    23.808254
Name: churn, dtype: float64</pre>
</div>

</div>

</div>
</div>

</div>
<div class="cell border-box-sizing code_cell rendered">
<div class="input">
<div class="prompt input_prompt">In&nbsp;[51]:</div>
<div class="inner_cell">
    <div class="input_area">
<div class=" highlight hl-ipython3"><pre><span></span><span class="c1">#important but could also learn with data.info()</span>
<span class="n">data</span><span class="o">.</span><span class="n">shape</span>
</pre></div>

</div>
</div>
</div>

<div class="output_wrapper">
<div class="output">


<div class="output_area">

<div class="prompt output_prompt">Out[51]:</div>




<div class="output_text output_subarea output_execute_result">
<pre>(14999, 19)</pre>
</div>

</div>

</div>
</div>

</div>
<div class="cell border-box-sizing code_cell rendered">
<div class="input">
<div class="prompt input_prompt">In&nbsp;[70]:</div>
<div class="inner_cell">
    <div class="input_area">
<div class=" highlight hl-ipython3"><pre><span></span><span class="c1">#plot the distribution without using seaborn</span>
<span class="n">data</span><span class="o">.</span><span class="n">plot</span><span class="p">(</span><span class="n">y</span><span class="o">=</span><span class="s2">&quot;satisfaction_level&quot;</span><span class="p">,</span><span class="n">kind</span><span class="o">=</span><span class="s2">&quot;density&quot;</span><span class="p">)</span>
</pre></div>

</div>
</div>
</div>

<div class="output_wrapper">
<div class="output">


<div class="output_area">

<div class="prompt output_prompt">Out[70]:</div>




<div class="output_text output_subarea output_execute_result">
<pre>&lt;matplotlib.axes._subplots.AxesSubplot at 0x2a82417dda0&gt;</pre>
</div>

</div>

<div class="output_area">

<div class="prompt"></div>




<div class="output_png output_subarea ">
<img src="data:image/png;base64,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
"
>
</div>

</div>

</div>
</div>

</div>
<div class="cell border-box-sizing code_cell rendered">
<div class="input">
<div class="prompt input_prompt">In&nbsp;[75]:</div>
<div class="inner_cell">
    <div class="input_area">
<div class=" highlight hl-ipython3"><pre><span></span><span class="c1">#plot the distribution without using seaborn</span>
<span class="n">data</span><span class="o">.</span><span class="n">plot</span><span class="p">(</span><span class="n">y</span><span class="o">=</span><span class="s2">&quot;satisfaction_level&quot;</span><span class="p">,</span><span class="n">kind</span><span class="o">=</span><span class="s2">&quot;hist&quot;</span><span class="p">)</span>
</pre></div>

</div>
</div>
</div>

<div class="output_wrapper">
<div class="output">


<div class="output_area">

<div class="prompt output_prompt">Out[75]:</div>




<div class="output_text output_subarea output_execute_result">
<pre>&lt;matplotlib.axes._subplots.AxesSubplot at 0x2a8455c5b00&gt;</pre>
</div>

</div>

<div class="output_area">

<div class="prompt"></div>




<div class="output_png output_subarea ">
<img src="data:image/png;base64,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
"
>
</div>

</div>

</div>
</div>

</div>
<div class="cell border-box-sizing code_cell rendered">
<div class="input">
<div class="prompt input_prompt">In&nbsp;[72]:</div>
<div class="inner_cell">
    <div class="input_area">
<div class=" highlight hl-ipython3"><pre><span></span><span class="c1">#plot the distribution using seaborn</span>
<span class="n">sns</span><span class="o">.</span><span class="n">distplot</span><span class="p">(</span><span class="n">data</span><span class="o">.</span><span class="n">satisfaction_level</span><span class="p">)</span>
</pre></div>

</div>
</div>
</div>

<div class="output_wrapper">
<div class="output">


<div class="output_area">

<div class="prompt output_prompt">Out[72]:</div>




<div class="output_text output_subarea output_execute_result">
<pre>&lt;matplotlib.axes._subplots.AxesSubplot at 0x2a8281cfac8&gt;</pre>
</div>

</div>

<div class="output_area">

<div class="prompt"></div>




<div class="output_png output_subarea ">
<img src="data:image/png;base64,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
"
>
</div>

</div>

</div>
</div>

</div>
 


    </div>
  </div>

  </div>


  
    <footer class="footer hidden-print">
      <div class="container">
        <div class="col-md-4">
          <p>
            This website does not host notebooks, it only renders notebooks
            available on other websites.
          </p>
        </div>

        <div class="col-md-4">
          <p>
            Delivered by <a href="http://www.fastly.com/">Fastly</a>,
            Rendered by <a href="https://developer.rackspace.com/?nbviewer=awesome">Rackspace</a>
          </p>
          <p>
            nbviewer GitHub <a href="https://github.com/jupyter/nbviewer">repository</a>.
          </p>
        </div>

        <div class="col-md-4">
          
  
            
              <p>
                nbviewer version:
                <a href="https://github.com/jupyter/nbviewer/commit/38e181afeec4b7527a8a13ef7c3814e36045244c">
                  38e181a
                </a>
              </p>
            
          
  
  <p>
    nbconvert version: <a href="https://github.com/jupyter/nbconvert/releases/tag/5.3.1">
      5.3.1
    </a>
  </p>
  

          
  
  
  <p>
    Rendered
    <span class='date' data-date='Mon, 16 Jul 2018 22:41:35 UTC' title='Mon, 16 Jul 2018 22:41:35 UTC'>(Mon, 16 Jul 2018 22:41:35 UTC)</span>
  </p>
  

        </div>
      </div>
    </footer>
  

  <script src="/static/components/bootstrap/js/bootstrap.min.js?v=5869c96cc8f19086aee625d670d741f9"></script>
  <script src="/static/components/headroom.js/dist/headroom.min.js?v=b0a311ea668f8e768ea375f4a7abb81c"></script>
  <script src="/static/components/headroom.js/dist/jQuery.headroom.min.js?v=f3a1bae118315d0c234afc74dc6aab71"></script>

  
  
  <script>
    $(function(){ $("#menubar").headroom({
      tolerance: 5,
      offset: 205,
      classes: {
        initial: "animated",
        pinned: "slideInDown",
        unpinned: "slideOutUp"
      }
    })});
  </script>


  
  <script>
    (function(i,s,o,g,r,a,m){i['GoogleAnalyticsObject']=r;i[r]=i[r]||function(){
      (i[r].q=i[r].q||[]).push(arguments)},i[r].l=1*new Date();a=s.createElement(o),
      m=s.getElementsByTagName(o)[0];a.async=1;a.src=g;m.parentNode.insertBefore(a,m)
    })(window,document,'script','https://www.google-analytics.com/analytics.js','ga');
    ga('create', 'UA-52617120-5', 'auto',
       {'storage': 'none'});
    ga('set', 'anonymizeIp', true);
    ga('send', 'pageview');
  </script>
  
  <script>
    require({
        paths: {
          moment: "/static/components/moment/min/moment.min.js?v=89f87298ad94aa1e6b92f42eb66da043"
        }
      }, ["moment"], function(moment){
      var date = $("footer .date"),
        m = moment(new Date(date.data('date'))),
        update = function(){ date.text(m.fromNow()); };
      setInterval(update, 61*1000);
      update();
      var w = $(window).scroll(function(event){
        $("body").toggleClass("scrolled", w.scrollTop() > 0);
      });
    });
  </script>

  <!--NEW RELIC Stop Perf Measurement-->
  
  <!--NEW RELIC End-->
</body>
</html>