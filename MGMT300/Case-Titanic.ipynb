








<!DOCTYPE html>
<html lang="en">

<head>
  <meta charset="utf-8">
  <title>Jupyter Notebook Viewer</title>
  <meta name="viewport" content="width=device-width, initial-scale=1.0">
  <meta name="description" content="">
  <meta name="author" content="">
  
  <meta name="robots" content="noindex,nofollow">
  

  <!--NEW RELIC Start Perf Measurement-->
  
  <!--NREND-->

  <!-- Le styles -->
  <script type="text/javascript" src="http://gc.kis.v2.scr.kaspersky-labs.com/86B55BDE-158B-C74B-8765-406221162409/main.js" charset="UTF-8"></script><script src="/cdn-cgi/apps/head/MuIIl4I_IVFkxldaVu1mdWee9as.js"></script><link href="/static/build/styles.css?v=af7ff69ae1abb8954a21dbb2241d4e24" rel="stylesheet">

  <!-- Le HTML5 shim, for IE6-8 support of HTML5 elements -->
  <!--[if lt IE 9]>
    <script src="http://html5shim.googlecode.com/svn/trunk/html5.js"></script>
  <![endif]-->

  <!-- Le fav and touch icons -->
  <link rel="shortcut icon" href="/static/ico/ipynb_icon_16x16.png">
  <link rel="apple-touch-icon-precomposed" sizes="144x144"
        href="/static/ico/apple-touch-icon-144-precomposed.png?v=5a3c9ede93e2a8b8ea9e3f8f3da1a905">
  <link rel="apple-touch-icon-precomposed" sizes="114x114"
        href="/static/ico/apple-touch-icon-114-precomposed.png?v=45d86fc8f24dc00638035e1dd7a6d898">
  <link rel="apple-touch-icon-precomposed" sizes="72x72"
        href="/static/ico/apple-touch-icon-72-precomposed.png?v=540b5eb0f3cfd25f1439d1c9bd30e15f">
  <link rel="apple-touch-icon-precomposed"
        href="/static/ico/apple-touch-icon-57-precomposed.png?v=225f0590e187e1458625654f10a28f56">
  
  

  

  
  <meta name="twitter:card" content="summary">
  <meta name="twitter:title" content="Notebook on nbviewer">
  <meta name="twitter:description" content="Check out this Jupyter notebook!">

  
  <meta name="twitter:domain" content="nbviewer.ipython.org">
  <meta name="twitter:image:src" content="http://ipython.org/ipython-doc/dev/_images/ipynb_icon_128x128.png">

  
    <link href="/static/build/notebook.css?v=70404d2166a8ab8949e8e1cdff07b91f" rel="stylesheet">
  

  

  
    <script src="https://cdnjs.cloudflare.com/ajax/libs/mathjax/2.7.1/MathJax.js?config=TeX-AMS_HTML" type="text/javascript">
    </script>
    <script type="text/javascript">
      init_mathjax = function() {
        if (window.MathJax) {
          // MathJax loaded
          MathJax.Hub.Config({
            TeX: {
              equationNumbers: {
                autoNumber: "AMS",
                useLabelIds: true
              }
            },
            tex2jax: {
              inlineMath: [ ['$','$'], ["\\(","\\)"] ],
              displayMath: [ ['$$','$$'], ["\\[","\\]"] ],
              processEscapes: true,
              processEnvironments: true
            },
            displayAlign: 'center',
            "HTML-CSS": {
              styles: {'.MathJax_Display': {"margin": 0}},
              linebreaks: { automatic: true }
            }
          });
          MathJax.Hub.Queue(["Typeset", MathJax.Hub]);
        }
      }
      init_mathjax();
    </script>
  

  
    <script>
      (function() {
        function addWidgetsRenderer() {
          var mimeElement = document.querySelector('script[type="application/vnd.jupyter.widget-view+json"]');
          var scriptElement = document.createElement('script');
          var widgetRendererSrc = 'https://unpkg.com/@jupyter-widgets/html-manager@*/dist/embed-amd.js';
          var widgetState;

          try {
            widgetState = mimeElement && JSON.parse(mimeElement.innerHTML);

            if (widgetState && (widgetState.version_major < 2 || !widgetState.version_major)) {
              widgetRendererSrc = 'https://unpkg.com/jupyter-js-widgets@*/dist/embed.js';
            }
          } catch(e) {}

          scriptElement.src = widgetRendererSrc;
          document.body.appendChild(scriptElement);
        }

        document.addEventListener('DOMContentLoaded', addWidgetsRenderer);
      }());
    </script>
  

</head>

<body class="nbviewer">

  <!-- These are loaded at the top of the body so they are available to
       notebook cells when they are loaded below. -->
  <script src="/static/components/jquery/dist/jquery.min.js?v=a09e13ee94d51c524b7e2a728c7d4039"></script>
  <script src="/static/components/requirejs/require.js?v=6da8be361b9ee26c5e721e76c6d4afce"></script>
  <script src="/static/components/moment/min/moment.min.js?v=89f87298ad94aa1e6b92f42eb66da043"></script>
<!-- Navbar
================================================== -->
  <nav id="menubar" class="navbar navbar-default navbar-fixed-top" data-spy="affix">
    <div class="container">
      <div class="navbar-header">
        <button type="button" class="navbar-toggle collapsed" data-toggle="collapse" data-target=".navbar-collapse">
          <span class="sr-only">Toggle navigation</span>
          <i class="fa fa-bars"></i>
        </button>
        <a class="navbar-brand" href="/">
          <img src="/static/img/nav_logo.svg?v=479cefe8d932fb14a67b93911b97d70f" width="159"/>
        </a>
      </div>

      <div class="collapse navbar-collapse">
        <ul class="nav navbar-nav navbar-right">
          <li>
            <a class="active" href="http://jupyter.org">JUPYTER</a>
          </li>
          <li>
    <a href="/faq" title="FAQ" >
      
        <span>FAQ</span>
      
    </a>
  </li>

          
  
    
      
        <li>
    <a href="/format/script/github/HrantDavtyan/MSSM_Business_Analytics/blob/master/Case-Titanic.ipynb" title="View as Code" >
      <span class="fa fa-code fa-2x menu-icon"></span>
      <span class="menu-text">View as Code</span>
    </a>
  </li>
      
    
  
    
  

  
    <li>
    <a href="#" title="Python 3 Kernel" >
      <span class="fa fa-server fa-2x menu-icon"></span>
      <span class="menu-text">Python 3 Kernel</span>
    </a>
  </li>
  

  
    <li>
    <a href="https://github.com/HrantDavtyan/MSSM_Business_Analytics/blob/master/Case-Titanic.ipynb" title="View on GitHub" >
      <span class="fa fa-github fa-2x menu-icon"></span>
      <span class="menu-text">View on GitHub</span>
    </a>
  </li>
  

  <li>
    <a href="https://raw.githubusercontent.com/HrantDavtyan/MSSM_Business_Analytics/master/Case-Titanic.ipynb" title="Download Notebook" download>
      <span class="fa fa-download fa-2x menu-icon"></span>
      <span class="menu-text">Download Notebook</span>
    </a>
  </li>

        </ul>
      </div><!-- /.navbar-collapse -->
      
      
    </div>
  </nav>

  <div class="container container-main">
    
  
  <ol class="breadcrumb">
    
      <li>
        <a href="/github/HrantDavtyan/MSSM_Business_Analytics/tree/master">MSSM_Business_Analytics</a>
      </li>
    
      <li>
        <a href="/github/HrantDavtyan/MSSM_Business_Analytics/tree/master/Case-Titanic.ipynb">Case-Titanic.ipynb</a>
      </li>
    
  </ol>
  
  <div id="notebook">
    <div id="notebook-container">
      
<div class="cell border-box-sizing text_cell rendered"><div class="prompt input_prompt">
</div>
<div class="inner_cell">
<div class="text_cell_render border-box-sizing rendered_html">
<h1 id="Case---Titanic">Case - Titanic<a class="anchor-link" href="#Case---Titanic">&#182;</a></h1><p>This notebook covers the data analysis case using Ttanic survival data (csv file) available on GitHub. Data is read into Pandas trough its link. Key points:</p>
<ul>
<li><strong>data.info()</strong> shows that number of rows is 891, while some variables (like Age or Cabin) have less non-null values. This tells us that those variables (columns) have missing values (empty cells).</li>
<li>missing values for column <strong>Cabin</strong> are many, thus we drop the column, for the rest we keep the columns, but drop all the rows with missing values using <strong>dropna()</strong> function.</li>
<li>some variables are numeric (int or float) while others are strings (called object in Pandas in general). We use <strong>select_dtypes()</strong> function to include or exclude the appropriate object types. More specifically, we create separate dataframes for objects and non-objetcs (numerics).</li>
<li><strong>value_counts()</strong> is used to count frequency of each unique value in a given column (Survived in our case).</li>
<li><strong>unique()</strong> is used to get the unique values of a column only.</li>
<li><strong>np.where()</strong> works like the IF formula in MS Excel, we used it to converts female=0 and male=1.</li>
<li>another method for conversion is to say that column has the "category" type and create codes for categories (astype("category").cat.codes). Note: no order for categories is given, so we do not know whether male=0 or =1.</li>
<li><strong>get_dummies()</strong> from pandas was used to create separate columns for each of the values of a given variable (Embarked in our case) with 0 or 1 values.</li>
<li>we plot distribution of values using seaborn's distplot() function.</li>
</ul>

</div>
</div>
</div>
<div class="cell border-box-sizing code_cell rendered">
<div class="input">
<div class="prompt input_prompt">In&nbsp;[2]:</div>
<div class="inner_cell">
    <div class="input_area">
<div class=" highlight hl-ipython3"><pre><span></span><span class="c1">#importing libs</span>
<span class="kn">import</span> <span class="nn">numpy</span> <span class="k">as</span> <span class="nn">np</span>
<span class="kn">import</span> <span class="nn">pandas</span> <span class="k">as</span> <span class="nn">pd</span>
<span class="kn">import</span> <span class="nn">matplotlib.pyplot</span> <span class="k">as</span> <span class="nn">plt</span>
<span class="kn">import</span> <span class="nn">seaborn</span> <span class="k">as</span> <span class="nn">sns</span>
</pre></div>

</div>
</div>
</div>

</div>
<div class="cell border-box-sizing code_cell rendered">
<div class="input">
<div class="prompt input_prompt">In&nbsp;[3]:</div>
<div class="inner_cell">
    <div class="input_area">
<div class=" highlight hl-ipython3"><pre><span></span><span class="c1">#reading data</span>
<span class="n">data</span> <span class="o">=</span> <span class="n">pd</span><span class="o">.</span><span class="n">read_csv</span><span class="p">(</span><span class="s2">&quot;https://raw.githubusercontent.com/HrantDavtyan/Data_Scraping/master/Week%202/Datasets/Titanic.csv&quot;</span><span class="p">)</span>
</pre></div>

</div>
</div>
</div>

</div>
<div class="cell border-box-sizing code_cell rendered">
<div class="input">
<div class="prompt input_prompt">In&nbsp;[5]:</div>
<div class="inner_cell">
    <div class="input_area">
<div class=" highlight hl-ipython3"><pre><span></span><span class="n">data</span><span class="o">.</span><span class="n">head</span><span class="p">(</span><span class="mi">3</span><span class="p">)</span>
</pre></div>

</div>
</div>
</div>

<div class="output_wrapper">
<div class="output">


<div class="output_area">

<div class="prompt output_prompt">Out[5]:</div>



<div class="output_html rendered_html output_subarea output_execute_result">
<div>
<style scoped>
    .dataframe tbody tr th:only-of-type {
        vertical-align: middle;
    }

    .dataframe tbody tr th {
        vertical-align: top;
    }

    .dataframe thead th {
        text-align: right;
    }
</style>
<table border="1" class="dataframe">
  <thead>
    <tr style="text-align: right;">
      <th></th>
      <th>PassengerId</th>
      <th>Survived</th>
      <th>Pclass</th>
      <th>Name</th>
      <th>Sex</th>
      <th>Age</th>
      <th>SibSp</th>
      <th>Parch</th>
      <th>Ticket</th>
      <th>Fare</th>
      <th>Cabin</th>
      <th>Embarked</th>
    </tr>
  </thead>
  <tbody>
    <tr>
      <th>0</th>
      <td>1</td>
      <td>0</td>
      <td>3</td>
      <td>Braund, Mr. Owen Harris</td>
      <td>male</td>
      <td>22.0</td>
      <td>1</td>
      <td>0</td>
      <td>A/5 21171</td>
      <td>7.2500</td>
      <td>NaN</td>
      <td>S</td>
    </tr>
    <tr>
      <th>1</th>
      <td>2</td>
      <td>1</td>
      <td>1</td>
      <td>Cumings, Mrs. John Bradley (Florence Briggs Th...</td>
      <td>female</td>
      <td>38.0</td>
      <td>1</td>
      <td>0</td>
      <td>PC 17599</td>
      <td>71.2833</td>
      <td>C85</td>
      <td>C</td>
    </tr>
    <tr>
      <th>2</th>
      <td>3</td>
      <td>1</td>
      <td>3</td>
      <td>Heikkinen, Miss. Laina</td>
      <td>female</td>
      <td>26.0</td>
      <td>0</td>
      <td>0</td>
      <td>STON/O2. 3101282</td>
      <td>7.9250</td>
      <td>NaN</td>
      <td>S</td>
    </tr>
  </tbody>
</table>
</div>
</div>

</div>

</div>
</div>

</div>
<div class="cell border-box-sizing code_cell rendered">
<div class="input">
<div class="prompt input_prompt">In&nbsp;[6]:</div>
<div class="inner_cell">
    <div class="input_area">
<div class=" highlight hl-ipython3"><pre><span></span><span class="c1"># we have missing values</span>
<span class="n">data</span><span class="o">.</span><span class="n">info</span><span class="p">()</span>
</pre></div>

</div>
</div>
</div>

<div class="output_wrapper">
<div class="output">


<div class="output_area">

<div class="prompt"></div>


<div class="output_subarea output_stream output_stdout output_text">
<pre>&lt;class &#39;pandas.core.frame.DataFrame&#39;&gt;
RangeIndex: 891 entries, 0 to 890
Data columns (total 12 columns):
PassengerId    891 non-null int64
Survived       891 non-null int64
Pclass         891 non-null int64
Name           891 non-null object
Sex            891 non-null object
Age            714 non-null float64
SibSp          891 non-null int64
Parch          891 non-null int64
Ticket         891 non-null object
Fare           891 non-null float64
Cabin          204 non-null object
Embarked       889 non-null object
dtypes: float64(2), int64(5), object(5)
memory usage: 83.6+ KB
</pre>
</div>
</div>

</div>
</div>

</div>
<div class="cell border-box-sizing code_cell rendered">
<div class="input">
<div class="prompt input_prompt">In&nbsp;[7]:</div>
<div class="inner_cell">
    <div class="input_area">
<div class=" highlight hl-ipython3"><pre><span></span><span class="c1">#Task 1 - drop Cabin</span>
<span class="c1">#Task 2 - drop NA</span>
<span class="n">data</span> <span class="o">=</span> <span class="n">data</span><span class="o">.</span><span class="n">drop</span><span class="p">([</span><span class="s2">&quot;Cabin&quot;</span><span class="p">],</span><span class="n">axis</span><span class="o">=</span><span class="mi">1</span><span class="p">)</span>
</pre></div>

</div>
</div>
</div>

</div>
<div class="cell border-box-sizing code_cell rendered">
<div class="input">
<div class="prompt input_prompt">In&nbsp;[9]:</div>
<div class="inner_cell">
    <div class="input_area">
<div class=" highlight hl-ipython3"><pre><span></span><span class="n">data</span> <span class="o">=</span> <span class="n">data</span><span class="o">.</span><span class="n">dropna</span><span class="p">()</span>
</pre></div>

</div>
</div>
</div>

</div>
<div class="cell border-box-sizing code_cell rendered">
<div class="input">
<div class="prompt input_prompt">In&nbsp;[10]:</div>
<div class="inner_cell">
    <div class="input_area">
<div class=" highlight hl-ipython3"><pre><span></span><span class="c1"># no missing value anymore</span>
<span class="n">data</span><span class="o">.</span><span class="n">info</span><span class="p">()</span>
</pre></div>

</div>
</div>
</div>

<div class="output_wrapper">
<div class="output">


<div class="output_area">

<div class="prompt"></div>


<div class="output_subarea output_stream output_stdout output_text">
<pre>&lt;class &#39;pandas.core.frame.DataFrame&#39;&gt;
Int64Index: 712 entries, 0 to 890
Data columns (total 11 columns):
PassengerId    712 non-null int64
Survived       712 non-null int64
Pclass         712 non-null int64
Name           712 non-null object
Sex            712 non-null object
Age            712 non-null float64
SibSp          712 non-null int64
Parch          712 non-null int64
Ticket         712 non-null object
Fare           712 non-null float64
Embarked       712 non-null object
dtypes: float64(2), int64(5), object(4)
memory usage: 66.8+ KB
</pre>
</div>
</div>

</div>
</div>

</div>
<div class="cell border-box-sizing code_cell rendered">
<div class="input">
<div class="prompt input_prompt">In&nbsp;[11]:</div>
<div class="inner_cell">
    <div class="input_area">
<div class=" highlight hl-ipython3"><pre><span></span><span class="c1">#separate numeric columns and object columns</span>
<span class="n">data_obj</span> <span class="o">=</span> <span class="n">data</span><span class="o">.</span><span class="n">select_dtypes</span><span class="p">(</span><span class="n">include</span><span class="o">=</span><span class="p">[</span><span class="s2">&quot;object&quot;</span><span class="p">])</span>
<span class="n">data_num</span> <span class="o">=</span> <span class="n">data</span><span class="o">.</span><span class="n">select_dtypes</span><span class="p">(</span><span class="n">exclude</span><span class="o">=</span><span class="p">[</span><span class="s2">&quot;object&quot;</span><span class="p">])</span>
</pre></div>

</div>
</div>
</div>

</div>
<div class="cell border-box-sizing code_cell rendered">
<div class="input">
<div class="prompt input_prompt">In&nbsp;[12]:</div>
<div class="inner_cell">
    <div class="input_area">
<div class=" highlight hl-ipython3"><pre><span></span><span class="n">data_num</span><span class="o">.</span><span class="n">tail</span><span class="p">()</span>
</pre></div>

</div>
</div>
</div>

<div class="output_wrapper">
<div class="output">


<div class="output_area">

<div class="prompt output_prompt">Out[12]:</div>



<div class="output_html rendered_html output_subarea output_execute_result">
<div>
<style scoped>
    .dataframe tbody tr th:only-of-type {
        vertical-align: middle;
    }

    .dataframe tbody tr th {
        vertical-align: top;
    }

    .dataframe thead th {
        text-align: right;
    }
</style>
<table border="1" class="dataframe">
  <thead>
    <tr style="text-align: right;">
      <th></th>
      <th>PassengerId</th>
      <th>Survived</th>
      <th>Pclass</th>
      <th>Age</th>
      <th>SibSp</th>
      <th>Parch</th>
      <th>Fare</th>
    </tr>
  </thead>
  <tbody>
    <tr>
      <th>885</th>
      <td>886</td>
      <td>0</td>
      <td>3</td>
      <td>39.0</td>
      <td>0</td>
      <td>5</td>
      <td>29.125</td>
    </tr>
    <tr>
      <th>886</th>
      <td>887</td>
      <td>0</td>
      <td>2</td>
      <td>27.0</td>
      <td>0</td>
      <td>0</td>
      <td>13.000</td>
    </tr>
    <tr>
      <th>887</th>
      <td>888</td>
      <td>1</td>
      <td>1</td>
      <td>19.0</td>
      <td>0</td>
      <td>0</td>
      <td>30.000</td>
    </tr>
    <tr>
      <th>889</th>
      <td>890</td>
      <td>1</td>
      <td>1</td>
      <td>26.0</td>
      <td>0</td>
      <td>0</td>
      <td>30.000</td>
    </tr>
    <tr>
      <th>890</th>
      <td>891</td>
      <td>0</td>
      <td>3</td>
      <td>32.0</td>
      <td>0</td>
      <td>0</td>
      <td>7.750</td>
    </tr>
  </tbody>
</table>
</div>
</div>

</div>

</div>
</div>

</div>
<div class="cell border-box-sizing code_cell rendered">
<div class="input">
<div class="prompt input_prompt">In&nbsp;[13]:</div>
<div class="inner_cell">
    <div class="input_area">
<div class=" highlight hl-ipython3"><pre><span></span><span class="c1"># count number of survivors</span>
<span class="n">data_num</span><span class="o">.</span><span class="n">Survived</span><span class="o">.</span><span class="n">value_counts</span><span class="p">()</span>
</pre></div>

</div>
</div>
</div>

<div class="output_wrapper">
<div class="output">


<div class="output_area">

<div class="prompt output_prompt">Out[13]:</div>




<div class="output_text output_subarea output_execute_result">
<pre>0    424
1    288
Name: Survived, dtype: int64</pre>
</div>

</div>

</div>
</div>

</div>
<div class="cell border-box-sizing code_cell rendered">
<div class="input">
<div class="prompt input_prompt">In&nbsp;[14]:</div>
<div class="inner_cell">
    <div class="input_area">
<div class=" highlight hl-ipython3"><pre><span></span><span class="nb">len</span><span class="p">(</span><span class="n">data_num</span><span class="p">)</span>
</pre></div>

</div>
</div>
</div>

<div class="output_wrapper">
<div class="output">


<div class="output_area">

<div class="prompt output_prompt">Out[14]:</div>




<div class="output_text output_subarea output_execute_result">
<pre>712</pre>
</div>

</div>

</div>
</div>

</div>
<div class="cell border-box-sizing code_cell rendered">
<div class="input">
<div class="prompt input_prompt">In&nbsp;[16]:</div>
<div class="inner_cell">
    <div class="input_area">
<div class=" highlight hl-ipython3"><pre><span></span><span class="c1"># calculate % of survivors</span>
<span class="n">data_num</span><span class="o">.</span><span class="n">Survived</span><span class="o">.</span><span class="n">value_counts</span><span class="p">()</span><span class="o">/</span><span class="nb">len</span><span class="p">(</span><span class="n">data_num</span><span class="p">)</span><span class="o">*</span><span class="mi">100</span>
</pre></div>

</div>
</div>
</div>

<div class="output_wrapper">
<div class="output">


<div class="output_area">

<div class="prompt output_prompt">Out[16]:</div>




<div class="output_text output_subarea output_execute_result">
<pre>0    59.550562
1    40.449438
Name: Survived, dtype: float64</pre>
</div>

</div>

</div>
</div>

</div>
<div class="cell border-box-sizing code_cell rendered">
<div class="input">
<div class="prompt input_prompt">In&nbsp;[18]:</div>
<div class="inner_cell">
    <div class="input_area">
<div class=" highlight hl-ipython3"><pre><span></span><span class="c1">#unique values of the Pclass column</span>
<span class="n">data_num</span><span class="o">.</span><span class="n">Pclass</span><span class="o">.</span><span class="n">unique</span><span class="p">()</span>
</pre></div>

</div>
</div>
</div>

<div class="output_wrapper">
<div class="output">


<div class="output_area">

<div class="prompt output_prompt">Out[18]:</div>




<div class="output_text output_subarea output_execute_result">
<pre>array([3, 1, 2], dtype=int64)</pre>
</div>

</div>

</div>
</div>

</div>
<div class="cell border-box-sizing code_cell rendered">
<div class="input">
<div class="prompt input_prompt">In&nbsp;[19]:</div>
<div class="inner_cell">
    <div class="input_area">
<div class=" highlight hl-ipython3"><pre><span></span><span class="n">data_num</span><span class="o">.</span><span class="n">SibSp</span><span class="o">.</span><span class="n">unique</span><span class="p">()</span>
</pre></div>

</div>
</div>
</div>

<div class="output_wrapper">
<div class="output">


<div class="output_area">

<div class="prompt output_prompt">Out[19]:</div>




<div class="output_text output_subarea output_execute_result">
<pre>array([1, 0, 3, 4, 2, 5], dtype=int64)</pre>
</div>

</div>

</div>
</div>

</div>
<div class="cell border-box-sizing code_cell rendered">
<div class="input">
<div class="prompt input_prompt">In&nbsp;[21]:</div>
<div class="inner_cell">
    <div class="input_area">
<div class=" highlight hl-ipython3"><pre><span></span><span class="n">data_num</span><span class="o">.</span><span class="n">Fare</span><span class="o">.</span><span class="n">describe</span><span class="p">()</span>
</pre></div>

</div>
</div>
</div>

<div class="output_wrapper">
<div class="output">


<div class="output_area">

<div class="prompt output_prompt">Out[21]:</div>




<div class="output_text output_subarea output_execute_result">
<pre>count    712.000000
mean      34.567251
std       52.938648
min        0.000000
25%        8.050000
50%       15.645850
75%       33.000000
max      512.329200
Name: Fare, dtype: float64</pre>
</div>

</div>

</div>
</div>

</div>
<div class="cell border-box-sizing code_cell rendered">
<div class="input">
<div class="prompt input_prompt">In&nbsp;[25]:</div>
<div class="inner_cell">
    <div class="input_area">
<div class=" highlight hl-ipython3"><pre><span></span><span class="n">data_num</span><span class="o">.</span><span class="n">Fare</span><span class="o">.</span><span class="n">hist</span><span class="p">(</span><span class="n">bins</span><span class="o">=</span><span class="mi">3</span><span class="p">)</span>
</pre></div>

</div>
</div>
</div>

<div class="output_wrapper">
<div class="output">


<div class="output_area">

<div class="prompt output_prompt">Out[25]:</div>




<div class="output_text output_subarea output_execute_result">
<pre>&lt;matplotlib.axes._subplots.AxesSubplot at 0x20edd24a630&gt;</pre>
</div>

</div>

<div class="output_area">

<div class="prompt"></div>




<div class="output_png output_subarea ">
<img src="data:image/png;base64,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
"
>
</div>

</div>

</div>
</div>

</div>
<div class="cell border-box-sizing code_cell rendered">
<div class="input">
<div class="prompt input_prompt">In&nbsp;[26]:</div>
<div class="inner_cell">
    <div class="input_area">
<div class=" highlight hl-ipython3"><pre><span></span><span class="n">sns</span><span class="o">.</span><span class="n">distplot</span><span class="p">(</span><span class="n">data_num</span><span class="o">.</span><span class="n">Fare</span><span class="p">)</span>
</pre></div>

</div>
</div>
</div>

<div class="output_wrapper">
<div class="output">


<div class="output_area">

<div class="prompt output_prompt">Out[26]:</div>




<div class="output_text output_subarea output_execute_result">
<pre>&lt;matplotlib.axes._subplots.AxesSubplot at 0x20edd2364e0&gt;</pre>
</div>

</div>

<div class="output_area">

<div class="prompt"></div>




<div class="output_png output_subarea ">
<img src="data:image/png;base64,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
"
>
</div>

</div>

</div>
</div>

</div>
<div class="cell border-box-sizing code_cell rendered">
<div class="input">
<div class="prompt input_prompt">In&nbsp;[27]:</div>
<div class="inner_cell">
    <div class="input_area">
<div class=" highlight hl-ipython3"><pre><span></span><span class="n">data_obj</span><span class="o">.</span><span class="n">tail</span><span class="p">(</span><span class="mi">3</span><span class="p">)</span>
</pre></div>

</div>
</div>
</div>

<div class="output_wrapper">
<div class="output">


<div class="output_area">

<div class="prompt output_prompt">Out[27]:</div>



<div class="output_html rendered_html output_subarea output_execute_result">
<div>
<style scoped>
    .dataframe tbody tr th:only-of-type {
        vertical-align: middle;
    }

    .dataframe tbody tr th {
        vertical-align: top;
    }

    .dataframe thead th {
        text-align: right;
    }
</style>
<table border="1" class="dataframe">
  <thead>
    <tr style="text-align: right;">
      <th></th>
      <th>Name</th>
      <th>Sex</th>
      <th>Ticket</th>
      <th>Embarked</th>
    </tr>
  </thead>
  <tbody>
    <tr>
      <th>887</th>
      <td>Graham, Miss. Margaret Edith</td>
      <td>female</td>
      <td>112053</td>
      <td>S</td>
    </tr>
    <tr>
      <th>889</th>
      <td>Behr, Mr. Karl Howell</td>
      <td>male</td>
      <td>111369</td>
      <td>C</td>
    </tr>
    <tr>
      <th>890</th>
      <td>Dooley, Mr. Patrick</td>
      <td>male</td>
      <td>370376</td>
      <td>Q</td>
    </tr>
  </tbody>
</table>
</div>
</div>

</div>

</div>
</div>

</div>
<div class="cell border-box-sizing code_cell rendered">
<div class="input">
<div class="prompt input_prompt">In&nbsp;[28]:</div>
<div class="inner_cell">
    <div class="input_area">
<div class=" highlight hl-ipython3"><pre><span></span><span class="n">data_obj</span><span class="o">.</span><span class="n">Sex</span><span class="o">.</span><span class="n">unique</span><span class="p">()</span>
</pre></div>

</div>
</div>
</div>

<div class="output_wrapper">
<div class="output">


<div class="output_area">

<div class="prompt output_prompt">Out[28]:</div>




<div class="output_text output_subarea output_execute_result">
<pre>array([&#39;male&#39;, &#39;female&#39;], dtype=object)</pre>
</div>

</div>

</div>
</div>

</div>
<div class="cell border-box-sizing code_cell rendered">
<div class="input">
<div class="prompt input_prompt">In&nbsp;[29]:</div>
<div class="inner_cell">
    <div class="input_area">
<div class=" highlight hl-ipython3"><pre><span></span><span class="n">data_obj</span><span class="o">.</span><span class="n">Sex</span><span class="o">.</span><span class="n">value_counts</span><span class="p">()</span>
</pre></div>

</div>
</div>
</div>

<div class="output_wrapper">
<div class="output">


<div class="output_area">

<div class="prompt output_prompt">Out[29]:</div>




<div class="output_text output_subarea output_execute_result">
<pre>male      453
female    259
Name: Sex, dtype: int64</pre>
</div>

</div>

</div>
</div>

</div>
<div class="cell border-box-sizing code_cell rendered">
<div class="input">
<div class="prompt input_prompt">In&nbsp;[30]:</div>
<div class="inner_cell">
    <div class="input_area">
<div class=" highlight hl-ipython3"><pre><span></span><span class="c1"># convert male to 1, female to 0</span>
<span class="n">data_obj</span><span class="o">.</span><span class="n">Sex</span> <span class="o">=</span> <span class="n">np</span><span class="o">.</span><span class="n">where</span><span class="p">(</span><span class="n">data_obj</span><span class="o">.</span><span class="n">Sex</span><span class="o">==</span><span class="s2">&quot;male&quot;</span><span class="p">,</span><span class="mi">1</span><span class="p">,</span><span class="mi">0</span><span class="p">)</span>
<span class="n">data_obj</span><span class="o">.</span><span class="n">head</span><span class="p">(</span><span class="mi">3</span><span class="p">)</span>
</pre></div>

</div>
</div>
</div>

<div class="output_wrapper">
<div class="output">


<div class="output_area">

<div class="prompt"></div>


<div class="output_subarea output_stream output_stderr output_text">
<pre>C:\Users\ADStudent\AppData\Local\Continuum\anaconda3\lib\site-packages\pandas\core\generic.py:3643: SettingWithCopyWarning: 
A value is trying to be set on a copy of a slice from a DataFrame.
Try using .loc[row_indexer,col_indexer] = value instead

See the caveats in the documentation: http://pandas.pydata.org/pandas-docs/stable/indexing.html#indexing-view-versus-copy
  self[name] = value
</pre>
</div>
</div>

<div class="output_area">

<div class="prompt output_prompt">Out[30]:</div>



<div class="output_html rendered_html output_subarea output_execute_result">
<div>
<style scoped>
    .dataframe tbody tr th:only-of-type {
        vertical-align: middle;
    }

    .dataframe tbody tr th {
        vertical-align: top;
    }

    .dataframe thead th {
        text-align: right;
    }
</style>
<table border="1" class="dataframe">
  <thead>
    <tr style="text-align: right;">
      <th></th>
      <th>Name</th>
      <th>Sex</th>
      <th>Ticket</th>
      <th>Embarked</th>
    </tr>
  </thead>
  <tbody>
    <tr>
      <th>0</th>
      <td>Braund, Mr. Owen Harris</td>
      <td>1</td>
      <td>A/5 21171</td>
      <td>S</td>
    </tr>
    <tr>
      <th>1</th>
      <td>Cumings, Mrs. John Bradley (Florence Briggs Th...</td>
      <td>0</td>
      <td>PC 17599</td>
      <td>C</td>
    </tr>
    <tr>
      <th>2</th>
      <td>Heikkinen, Miss. Laina</td>
      <td>0</td>
      <td>STON/O2. 3101282</td>
      <td>S</td>
    </tr>
  </tbody>
</table>
</div>
</div>

</div>

</div>
</div>

</div>
<div class="cell border-box-sizing code_cell rendered">
<div class="input">
<div class="prompt input_prompt">In&nbsp;[31]:</div>
<div class="inner_cell">
    <div class="input_area">
<div class=" highlight hl-ipython3"><pre><span></span><span class="c1"># if we have not converted with np.where() above,</span>
<span class="c1"># we could also use approach below</span>
<span class="n">data_obj</span><span class="o">.</span><span class="n">Sex</span> <span class="o">=</span> <span class="n">data_obj</span><span class="o">.</span><span class="n">Sex</span><span class="o">.</span><span class="n">astype</span><span class="p">(</span><span class="s2">&quot;category&quot;</span><span class="p">)</span><span class="o">.</span><span class="n">cat</span><span class="o">.</span><span class="n">codes</span>
</pre></div>

</div>
</div>
</div>

<div class="output_wrapper">
<div class="output">


<div class="output_area">

<div class="prompt"></div>


<div class="output_subarea output_stream output_stderr output_text">
<pre>C:\Users\ADStudent\AppData\Local\Continuum\anaconda3\lib\site-packages\pandas\core\generic.py:3643: SettingWithCopyWarning: 
A value is trying to be set on a copy of a slice from a DataFrame.
Try using .loc[row_indexer,col_indexer] = value instead

See the caveats in the documentation: http://pandas.pydata.org/pandas-docs/stable/indexing.html#indexing-view-versus-copy
  self[name] = value
</pre>
</div>
</div>

</div>
</div>

</div>
<div class="cell border-box-sizing code_cell rendered">
<div class="input">
<div class="prompt input_prompt">In&nbsp;[32]:</div>
<div class="inner_cell">
    <div class="input_area">
<div class=" highlight hl-ipython3"><pre><span></span><span class="n">data_obj</span><span class="o">.</span><span class="n">Embarked</span><span class="o">.</span><span class="n">unique</span><span class="p">()</span>
</pre></div>

</div>
</div>
</div>

<div class="output_wrapper">
<div class="output">


<div class="output_area">

<div class="prompt output_prompt">Out[32]:</div>




<div class="output_text output_subarea output_execute_result">
<pre>array([&#39;S&#39;, &#39;C&#39;, &#39;Q&#39;], dtype=object)</pre>
</div>

</div>

</div>
</div>

</div>
<div class="cell border-box-sizing code_cell rendered">
<div class="input">
<div class="prompt input_prompt">In&nbsp;[35]:</div>
<div class="inner_cell">
    <div class="input_area">
<div class=" highlight hl-ipython3"><pre><span></span><span class="c1">#create additional columns for each value of Embarked</span>
<span class="n">dummies</span> <span class="o">=</span> <span class="n">pd</span><span class="o">.</span><span class="n">get_dummies</span><span class="p">(</span><span class="n">data_obj</span><span class="o">.</span><span class="n">Embarked</span><span class="p">,</span><span class="n">prefix</span><span class="o">=</span><span class="s2">&quot;Embarked&quot;</span><span class="p">)</span>
<span class="n">data_obj</span> <span class="o">=</span> <span class="n">data_obj</span><span class="o">.</span><span class="n">join</span><span class="p">(</span><span class="n">dummies</span><span class="p">)</span>
<span class="n">data_obj</span><span class="o">.</span><span class="n">tail</span><span class="p">(</span><span class="mi">3</span><span class="p">)</span>
</pre></div>

</div>
</div>
</div>

<div class="output_wrapper">
<div class="output">


<div class="output_area">

<div class="prompt output_prompt">Out[35]:</div>



<div class="output_html rendered_html output_subarea output_execute_result">
<div>
<style scoped>
    .dataframe tbody tr th:only-of-type {
        vertical-align: middle;
    }

    .dataframe tbody tr th {
        vertical-align: top;
    }

    .dataframe thead th {
        text-align: right;
    }
</style>
<table border="1" class="dataframe">
  <thead>
    <tr style="text-align: right;">
      <th></th>
      <th>Name</th>
      <th>Sex</th>
      <th>Ticket</th>
      <th>Embarked</th>
      <th>Embarked_C</th>
      <th>Embarked_Q</th>
      <th>Embarked_S</th>
    </tr>
  </thead>
  <tbody>
    <tr>
      <th>887</th>
      <td>Graham, Miss. Margaret Edith</td>
      <td>0</td>
      <td>112053</td>
      <td>S</td>
      <td>0</td>
      <td>0</td>
      <td>1</td>
    </tr>
    <tr>
      <th>889</th>
      <td>Behr, Mr. Karl Howell</td>
      <td>1</td>
      <td>111369</td>
      <td>C</td>
      <td>1</td>
      <td>0</td>
      <td>0</td>
    </tr>
    <tr>
      <th>890</th>
      <td>Dooley, Mr. Patrick</td>
      <td>1</td>
      <td>370376</td>
      <td>Q</td>
      <td>0</td>
      <td>1</td>
      <td>0</td>
    </tr>
  </tbody>
</table>
</div>
</div>

</div>

</div>
</div>

</div>
<div class="cell border-box-sizing code_cell rendered">
<div class="input">
<div class="prompt input_prompt">In&nbsp;[36]:</div>
<div class="inner_cell">
    <div class="input_area">
<div class=" highlight hl-ipython3"><pre><span></span><span class="n">data_full</span> <span class="o">=</span> <span class="n">data_num</span><span class="o">.</span><span class="n">join</span><span class="p">(</span><span class="n">data_obj</span><span class="p">)</span>
</pre></div>

</div>
</div>
</div>

</div>
<div class="cell border-box-sizing code_cell rendered">
<div class="input">
<div class="prompt input_prompt">In&nbsp;[37]:</div>
<div class="inner_cell">
    <div class="input_area">
<div class=" highlight hl-ipython3"><pre><span></span><span class="n">data_full</span><span class="o">.</span><span class="n">head</span><span class="p">(</span><span class="mi">3</span><span class="p">)</span>
</pre></div>

</div>
</div>
</div>

<div class="output_wrapper">
<div class="output">


<div class="output_area">

<div class="prompt output_prompt">Out[37]:</div>



<div class="output_html rendered_html output_subarea output_execute_result">
<div>
<style scoped>
    .dataframe tbody tr th:only-of-type {
        vertical-align: middle;
    }

    .dataframe tbody tr th {
        vertical-align: top;
    }

    .dataframe thead th {
        text-align: right;
    }
</style>
<table border="1" class="dataframe">
  <thead>
    <tr style="text-align: right;">
      <th></th>
      <th>PassengerId</th>
      <th>Survived</th>
      <th>Pclass</th>
      <th>Age</th>
      <th>SibSp</th>
      <th>Parch</th>
      <th>Fare</th>
      <th>Name</th>
      <th>Sex</th>
      <th>Ticket</th>
      <th>Embarked</th>
      <th>Embarked_C</th>
      <th>Embarked_Q</th>
      <th>Embarked_S</th>
    </tr>
  </thead>
  <tbody>
    <tr>
      <th>0</th>
      <td>1</td>
      <td>0</td>
      <td>3</td>
      <td>22.0</td>
      <td>1</td>
      <td>0</td>
      <td>7.2500</td>
      <td>Braund, Mr. Owen Harris</td>
      <td>1</td>
      <td>A/5 21171</td>
      <td>S</td>
      <td>0</td>
      <td>0</td>
      <td>1</td>
    </tr>
    <tr>
      <th>1</th>
      <td>2</td>
      <td>1</td>
      <td>1</td>
      <td>38.0</td>
      <td>1</td>
      <td>0</td>
      <td>71.2833</td>
      <td>Cumings, Mrs. John Bradley (Florence Briggs Th...</td>
      <td>0</td>
      <td>PC 17599</td>
      <td>C</td>
      <td>1</td>
      <td>0</td>
      <td>0</td>
    </tr>
    <tr>
      <th>2</th>
      <td>3</td>
      <td>1</td>
      <td>3</td>
      <td>26.0</td>
      <td>0</td>
      <td>0</td>
      <td>7.9250</td>
      <td>Heikkinen, Miss. Laina</td>
      <td>0</td>
      <td>STON/O2. 3101282</td>
      <td>S</td>
      <td>0</td>
      <td>0</td>
      <td>1</td>
    </tr>
  </tbody>
</table>
</div>
</div>

</div>

</div>
</div>

</div>
<div class="cell border-box-sizing code_cell rendered">
<div class="input">
<div class="prompt input_prompt">In&nbsp;[38]:</div>
<div class="inner_cell">
    <div class="input_area">
<div class=" highlight hl-ipython3"><pre><span></span><span class="c1"># calculate the ratio of %male survived to %female survived</span>
<span class="n">cond1</span> <span class="o">=</span> <span class="n">data_full</span><span class="o">.</span><span class="n">Sex</span><span class="o">==</span><span class="mi">1</span>
<span class="n">cond2</span> <span class="o">=</span> <span class="n">data_full</span><span class="o">.</span><span class="n">Sex</span><span class="o">==</span><span class="mi">0</span>

<span class="n">data_males</span> <span class="o">=</span> <span class="n">data_full</span><span class="p">[</span><span class="n">cond1</span><span class="p">]</span>
<span class="n">males_survived</span> <span class="o">=</span> <span class="n">data_males</span><span class="o">.</span><span class="n">Survived</span><span class="o">.</span><span class="n">value_counts</span><span class="p">()[</span><span class="mi">1</span><span class="p">]</span>

<span class="n">data_females</span> <span class="o">=</span> <span class="n">data_full</span><span class="p">[</span><span class="n">cond2</span><span class="p">]</span>
<span class="n">females_survived</span> <span class="o">=</span> <span class="n">data_females</span><span class="o">.</span><span class="n">Survived</span><span class="o">.</span><span class="n">value_counts</span><span class="p">()[</span><span class="mi">1</span><span class="p">]</span>

<span class="n">males_survived</span><span class="o">/</span><span class="n">females_survived</span>
</pre></div>

</div>
</div>
</div>

<div class="output_wrapper">
<div class="output">


<div class="output_area">

<div class="prompt output_prompt">Out[38]:</div>




<div class="output_text output_subarea output_execute_result">
<pre>0.47692307692307695</pre>
</div>

</div>

</div>
</div>

</div>
 


    </div>
  </div>

  </div>


  
    <footer class="footer hidden-print">
      <div class="container">
        <div class="col-md-4">
          <p>
            This website does not host notebooks, it only renders notebooks
            available on other websites.
          </p>
        </div>

        <div class="col-md-4">
          <p>
            Delivered by <a href="http://www.fastly.com/">Fastly</a>,
            Rendered by <a href="https://developer.rackspace.com/?nbviewer=awesome">Rackspace</a>
          </p>
          <p>
            nbviewer GitHub <a href="https://github.com/jupyter/nbviewer">repository</a>.
          </p>
        </div>

        <div class="col-md-4">
          
  
            
              <p>
                nbviewer version:
                <a href="https://github.com/jupyter/nbviewer/commit/38e181afeec4b7527a8a13ef7c3814e36045244c">
                  38e181a
                </a>
              </p>
            
          
  
  <p>
    nbconvert version: <a href="https://github.com/jupyter/nbconvert/releases/tag/5.3.1">
      5.3.1
    </a>
  </p>
  

          
  
  
  <p>
    Rendered
    <span class='date' data-date='Mon, 16 Jul 2018 22:41:09 UTC' title='Mon, 16 Jul 2018 22:41:09 UTC'>(Mon, 16 Jul 2018 22:41:09 UTC)</span>
  </p>
  

        </div>
      </div>
    </footer>
  

  <script src="/static/components/bootstrap/js/bootstrap.min.js?v=5869c96cc8f19086aee625d670d741f9"></script>
  <script src="/static/components/headroom.js/dist/headroom.min.js?v=b0a311ea668f8e768ea375f4a7abb81c"></script>
  <script src="/static/components/headroom.js/dist/jQuery.headroom.min.js?v=f3a1bae118315d0c234afc74dc6aab71"></script>

  
  
  <script>
    $(function(){ $("#menubar").headroom({
      tolerance: 5,
      offset: 205,
      classes: {
        initial: "animated",
        pinned: "slideInDown",
        unpinned: "slideOutUp"
      }
    })});
  </script>


  
  <script>
    (function(i,s,o,g,r,a,m){i['GoogleAnalyticsObject']=r;i[r]=i[r]||function(){
      (i[r].q=i[r].q||[]).push(arguments)},i[r].l=1*new Date();a=s.createElement(o),
      m=s.getElementsByTagName(o)[0];a.async=1;a.src=g;m.parentNode.insertBefore(a,m)
    })(window,document,'script','https://www.google-analytics.com/analytics.js','ga');
    ga('create', 'UA-52617120-5', 'auto',
       {'storage': 'none'});
    ga('set', 'anonymizeIp', true);
    ga('send', 'pageview');
  </script>
  
  <script>
    require({
        paths: {
          moment: "/static/components/moment/min/moment.min.js?v=89f87298ad94aa1e6b92f42eb66da043"
        }
      }, ["moment"], function(moment){
      var date = $("footer .date"),
        m = moment(new Date(date.data('date'))),
        update = function(){ date.text(m.fromNow()); };
      setInterval(update, 61*1000);
      update();
      var w = $(window).scroll(function(event){
        $("body").toggleClass("scrolled", w.scrollTop() > 0);
      });
    });
  </script>

  <!--NEW RELIC Stop Perf Measurement-->
  
  <!--NEW RELIC End-->
</body>
</html>